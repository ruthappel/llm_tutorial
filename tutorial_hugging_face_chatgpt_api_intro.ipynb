{
  "nbformat": 4,
  "nbformat_minor": 0,
  "metadata": {
    "colab": {
      "provenance": [],
      "gpuType": "T4",
      "toc_visible": true
    },
    "kernelspec": {
      "name": "python3",
      "display_name": "Python 3"
    },
    "language_info": {
      "name": "python"
    },
    "widgets": {
      "application/vnd.jupyter.widget-state+json": {
        "f08675f0d842469db1ee0f52d47fea04": {
          "model_module": "@jupyter-widgets/controls",
          "model_name": "HBoxModel",
          "model_module_version": "1.5.0",
          "state": {
            "_dom_classes": [],
            "_model_module": "@jupyter-widgets/controls",
            "_model_module_version": "1.5.0",
            "_model_name": "HBoxModel",
            "_view_count": null,
            "_view_module": "@jupyter-widgets/controls",
            "_view_module_version": "1.5.0",
            "_view_name": "HBoxView",
            "box_style": "",
            "children": [
              "IPY_MODEL_37518ee0654146de930b5fbf8172c93f",
              "IPY_MODEL_1643375639bc41309a21a77cb1b2ff38",
              "IPY_MODEL_cca24f9ec075497ba07a1344382bc256"
            ],
            "layout": "IPY_MODEL_0045c02a04294ac788f3160f81127187"
          }
        },
        "37518ee0654146de930b5fbf8172c93f": {
          "model_module": "@jupyter-widgets/controls",
          "model_name": "HTMLModel",
          "model_module_version": "1.5.0",
          "state": {
            "_dom_classes": [],
            "_model_module": "@jupyter-widgets/controls",
            "_model_module_version": "1.5.0",
            "_model_name": "HTMLModel",
            "_view_count": null,
            "_view_module": "@jupyter-widgets/controls",
            "_view_module_version": "1.5.0",
            "_view_name": "HTMLView",
            "description": "",
            "description_tooltip": null,
            "layout": "IPY_MODEL_c900937878da4c4882b99b7b9c566d6d",
            "placeholder": "​",
            "style": "IPY_MODEL_5a29f7f0fb20481b855958201c5813d0",
            "value": "Downloading (…)lve/main/config.json: 100%"
          }
        },
        "1643375639bc41309a21a77cb1b2ff38": {
          "model_module": "@jupyter-widgets/controls",
          "model_name": "FloatProgressModel",
          "model_module_version": "1.5.0",
          "state": {
            "_dom_classes": [],
            "_model_module": "@jupyter-widgets/controls",
            "_model_module_version": "1.5.0",
            "_model_name": "FloatProgressModel",
            "_view_count": null,
            "_view_module": "@jupyter-widgets/controls",
            "_view_module_version": "1.5.0",
            "_view_name": "ProgressView",
            "bar_style": "success",
            "description": "",
            "description_tooltip": null,
            "layout": "IPY_MODEL_0921db4a806349c1abd0290a6329b9a7",
            "max": 665,
            "min": 0,
            "orientation": "horizontal",
            "style": "IPY_MODEL_f3910a6ac34747138ce2ee75a01de130",
            "value": 665
          }
        },
        "cca24f9ec075497ba07a1344382bc256": {
          "model_module": "@jupyter-widgets/controls",
          "model_name": "HTMLModel",
          "model_module_version": "1.5.0",
          "state": {
            "_dom_classes": [],
            "_model_module": "@jupyter-widgets/controls",
            "_model_module_version": "1.5.0",
            "_model_name": "HTMLModel",
            "_view_count": null,
            "_view_module": "@jupyter-widgets/controls",
            "_view_module_version": "1.5.0",
            "_view_name": "HTMLView",
            "description": "",
            "description_tooltip": null,
            "layout": "IPY_MODEL_b1bbd88f944142b89a17ff49a0b63728",
            "placeholder": "​",
            "style": "IPY_MODEL_448f2a45af96427389beae426133c6bc",
            "value": " 665/665 [00:00&lt;00:00, 13.1kB/s]"
          }
        },
        "0045c02a04294ac788f3160f81127187": {
          "model_module": "@jupyter-widgets/base",
          "model_name": "LayoutModel",
          "model_module_version": "1.2.0",
          "state": {
            "_model_module": "@jupyter-widgets/base",
            "_model_module_version": "1.2.0",
            "_model_name": "LayoutModel",
            "_view_count": null,
            "_view_module": "@jupyter-widgets/base",
            "_view_module_version": "1.2.0",
            "_view_name": "LayoutView",
            "align_content": null,
            "align_items": null,
            "align_self": null,
            "border": null,
            "bottom": null,
            "display": null,
            "flex": null,
            "flex_flow": null,
            "grid_area": null,
            "grid_auto_columns": null,
            "grid_auto_flow": null,
            "grid_auto_rows": null,
            "grid_column": null,
            "grid_gap": null,
            "grid_row": null,
            "grid_template_areas": null,
            "grid_template_columns": null,
            "grid_template_rows": null,
            "height": null,
            "justify_content": null,
            "justify_items": null,
            "left": null,
            "margin": null,
            "max_height": null,
            "max_width": null,
            "min_height": null,
            "min_width": null,
            "object_fit": null,
            "object_position": null,
            "order": null,
            "overflow": null,
            "overflow_x": null,
            "overflow_y": null,
            "padding": null,
            "right": null,
            "top": null,
            "visibility": null,
            "width": null
          }
        },
        "c900937878da4c4882b99b7b9c566d6d": {
          "model_module": "@jupyter-widgets/base",
          "model_name": "LayoutModel",
          "model_module_version": "1.2.0",
          "state": {
            "_model_module": "@jupyter-widgets/base",
            "_model_module_version": "1.2.0",
            "_model_name": "LayoutModel",
            "_view_count": null,
            "_view_module": "@jupyter-widgets/base",
            "_view_module_version": "1.2.0",
            "_view_name": "LayoutView",
            "align_content": null,
            "align_items": null,
            "align_self": null,
            "border": null,
            "bottom": null,
            "display": null,
            "flex": null,
            "flex_flow": null,
            "grid_area": null,
            "grid_auto_columns": null,
            "grid_auto_flow": null,
            "grid_auto_rows": null,
            "grid_column": null,
            "grid_gap": null,
            "grid_row": null,
            "grid_template_areas": null,
            "grid_template_columns": null,
            "grid_template_rows": null,
            "height": null,
            "justify_content": null,
            "justify_items": null,
            "left": null,
            "margin": null,
            "max_height": null,
            "max_width": null,
            "min_height": null,
            "min_width": null,
            "object_fit": null,
            "object_position": null,
            "order": null,
            "overflow": null,
            "overflow_x": null,
            "overflow_y": null,
            "padding": null,
            "right": null,
            "top": null,
            "visibility": null,
            "width": null
          }
        },
        "5a29f7f0fb20481b855958201c5813d0": {
          "model_module": "@jupyter-widgets/controls",
          "model_name": "DescriptionStyleModel",
          "model_module_version": "1.5.0",
          "state": {
            "_model_module": "@jupyter-widgets/controls",
            "_model_module_version": "1.5.0",
            "_model_name": "DescriptionStyleModel",
            "_view_count": null,
            "_view_module": "@jupyter-widgets/base",
            "_view_module_version": "1.2.0",
            "_view_name": "StyleView",
            "description_width": ""
          }
        },
        "0921db4a806349c1abd0290a6329b9a7": {
          "model_module": "@jupyter-widgets/base",
          "model_name": "LayoutModel",
          "model_module_version": "1.2.0",
          "state": {
            "_model_module": "@jupyter-widgets/base",
            "_model_module_version": "1.2.0",
            "_model_name": "LayoutModel",
            "_view_count": null,
            "_view_module": "@jupyter-widgets/base",
            "_view_module_version": "1.2.0",
            "_view_name": "LayoutView",
            "align_content": null,
            "align_items": null,
            "align_self": null,
            "border": null,
            "bottom": null,
            "display": null,
            "flex": null,
            "flex_flow": null,
            "grid_area": null,
            "grid_auto_columns": null,
            "grid_auto_flow": null,
            "grid_auto_rows": null,
            "grid_column": null,
            "grid_gap": null,
            "grid_row": null,
            "grid_template_areas": null,
            "grid_template_columns": null,
            "grid_template_rows": null,
            "height": null,
            "justify_content": null,
            "justify_items": null,
            "left": null,
            "margin": null,
            "max_height": null,
            "max_width": null,
            "min_height": null,
            "min_width": null,
            "object_fit": null,
            "object_position": null,
            "order": null,
            "overflow": null,
            "overflow_x": null,
            "overflow_y": null,
            "padding": null,
            "right": null,
            "top": null,
            "visibility": null,
            "width": null
          }
        },
        "f3910a6ac34747138ce2ee75a01de130": {
          "model_module": "@jupyter-widgets/controls",
          "model_name": "ProgressStyleModel",
          "model_module_version": "1.5.0",
          "state": {
            "_model_module": "@jupyter-widgets/controls",
            "_model_module_version": "1.5.0",
            "_model_name": "ProgressStyleModel",
            "_view_count": null,
            "_view_module": "@jupyter-widgets/base",
            "_view_module_version": "1.2.0",
            "_view_name": "StyleView",
            "bar_color": null,
            "description_width": ""
          }
        },
        "b1bbd88f944142b89a17ff49a0b63728": {
          "model_module": "@jupyter-widgets/base",
          "model_name": "LayoutModel",
          "model_module_version": "1.2.0",
          "state": {
            "_model_module": "@jupyter-widgets/base",
            "_model_module_version": "1.2.0",
            "_model_name": "LayoutModel",
            "_view_count": null,
            "_view_module": "@jupyter-widgets/base",
            "_view_module_version": "1.2.0",
            "_view_name": "LayoutView",
            "align_content": null,
            "align_items": null,
            "align_self": null,
            "border": null,
            "bottom": null,
            "display": null,
            "flex": null,
            "flex_flow": null,
            "grid_area": null,
            "grid_auto_columns": null,
            "grid_auto_flow": null,
            "grid_auto_rows": null,
            "grid_column": null,
            "grid_gap": null,
            "grid_row": null,
            "grid_template_areas": null,
            "grid_template_columns": null,
            "grid_template_rows": null,
            "height": null,
            "justify_content": null,
            "justify_items": null,
            "left": null,
            "margin": null,
            "max_height": null,
            "max_width": null,
            "min_height": null,
            "min_width": null,
            "object_fit": null,
            "object_position": null,
            "order": null,
            "overflow": null,
            "overflow_x": null,
            "overflow_y": null,
            "padding": null,
            "right": null,
            "top": null,
            "visibility": null,
            "width": null
          }
        },
        "448f2a45af96427389beae426133c6bc": {
          "model_module": "@jupyter-widgets/controls",
          "model_name": "DescriptionStyleModel",
          "model_module_version": "1.5.0",
          "state": {
            "_model_module": "@jupyter-widgets/controls",
            "_model_module_version": "1.5.0",
            "_model_name": "DescriptionStyleModel",
            "_view_count": null,
            "_view_module": "@jupyter-widgets/base",
            "_view_module_version": "1.2.0",
            "_view_name": "StyleView",
            "description_width": ""
          }
        },
        "a3cb04ddda4849ada179c1fc4dbce729": {
          "model_module": "@jupyter-widgets/controls",
          "model_name": "HBoxModel",
          "model_module_version": "1.5.0",
          "state": {
            "_dom_classes": [],
            "_model_module": "@jupyter-widgets/controls",
            "_model_module_version": "1.5.0",
            "_model_name": "HBoxModel",
            "_view_count": null,
            "_view_module": "@jupyter-widgets/controls",
            "_view_module_version": "1.5.0",
            "_view_name": "HBoxView",
            "box_style": "",
            "children": [
              "IPY_MODEL_ee952b95ef714c969a1d7d065fa5495e",
              "IPY_MODEL_efe4f7e35faf42b28106ba5d2e0923b6",
              "IPY_MODEL_8655d5dbcf1f43c7b5a761cb705defbe"
            ],
            "layout": "IPY_MODEL_ec330feb7a7743c48900369a27482aab"
          }
        },
        "ee952b95ef714c969a1d7d065fa5495e": {
          "model_module": "@jupyter-widgets/controls",
          "model_name": "HTMLModel",
          "model_module_version": "1.5.0",
          "state": {
            "_dom_classes": [],
            "_model_module": "@jupyter-widgets/controls",
            "_model_module_version": "1.5.0",
            "_model_name": "HTMLModel",
            "_view_count": null,
            "_view_module": "@jupyter-widgets/controls",
            "_view_module_version": "1.5.0",
            "_view_name": "HTMLView",
            "description": "",
            "description_tooltip": null,
            "layout": "IPY_MODEL_e798dd5f820842eb80035794fdae69df",
            "placeholder": "​",
            "style": "IPY_MODEL_461747be7f3240759c70c4d899ed56b8",
            "value": "Downloading model.safetensors: 100%"
          }
        },
        "efe4f7e35faf42b28106ba5d2e0923b6": {
          "model_module": "@jupyter-widgets/controls",
          "model_name": "FloatProgressModel",
          "model_module_version": "1.5.0",
          "state": {
            "_dom_classes": [],
            "_model_module": "@jupyter-widgets/controls",
            "_model_module_version": "1.5.0",
            "_model_name": "FloatProgressModel",
            "_view_count": null,
            "_view_module": "@jupyter-widgets/controls",
            "_view_module_version": "1.5.0",
            "_view_name": "ProgressView",
            "bar_style": "success",
            "description": "",
            "description_tooltip": null,
            "layout": "IPY_MODEL_4bd9a2e9f56447479054d47fb1378da0",
            "max": 548105171,
            "min": 0,
            "orientation": "horizontal",
            "style": "IPY_MODEL_09be6a83e0544fddb953bad91ba7cd8f",
            "value": 548105171
          }
        },
        "8655d5dbcf1f43c7b5a761cb705defbe": {
          "model_module": "@jupyter-widgets/controls",
          "model_name": "HTMLModel",
          "model_module_version": "1.5.0",
          "state": {
            "_dom_classes": [],
            "_model_module": "@jupyter-widgets/controls",
            "_model_module_version": "1.5.0",
            "_model_name": "HTMLModel",
            "_view_count": null,
            "_view_module": "@jupyter-widgets/controls",
            "_view_module_version": "1.5.0",
            "_view_name": "HTMLView",
            "description": "",
            "description_tooltip": null,
            "layout": "IPY_MODEL_c7dc56e28e96455c955128c42c42a77f",
            "placeholder": "​",
            "style": "IPY_MODEL_c893652df25a4e71aa19069ed79bff94",
            "value": " 548M/548M [00:10&lt;00:00, 45.1MB/s]"
          }
        },
        "ec330feb7a7743c48900369a27482aab": {
          "model_module": "@jupyter-widgets/base",
          "model_name": "LayoutModel",
          "model_module_version": "1.2.0",
          "state": {
            "_model_module": "@jupyter-widgets/base",
            "_model_module_version": "1.2.0",
            "_model_name": "LayoutModel",
            "_view_count": null,
            "_view_module": "@jupyter-widgets/base",
            "_view_module_version": "1.2.0",
            "_view_name": "LayoutView",
            "align_content": null,
            "align_items": null,
            "align_self": null,
            "border": null,
            "bottom": null,
            "display": null,
            "flex": null,
            "flex_flow": null,
            "grid_area": null,
            "grid_auto_columns": null,
            "grid_auto_flow": null,
            "grid_auto_rows": null,
            "grid_column": null,
            "grid_gap": null,
            "grid_row": null,
            "grid_template_areas": null,
            "grid_template_columns": null,
            "grid_template_rows": null,
            "height": null,
            "justify_content": null,
            "justify_items": null,
            "left": null,
            "margin": null,
            "max_height": null,
            "max_width": null,
            "min_height": null,
            "min_width": null,
            "object_fit": null,
            "object_position": null,
            "order": null,
            "overflow": null,
            "overflow_x": null,
            "overflow_y": null,
            "padding": null,
            "right": null,
            "top": null,
            "visibility": null,
            "width": null
          }
        },
        "e798dd5f820842eb80035794fdae69df": {
          "model_module": "@jupyter-widgets/base",
          "model_name": "LayoutModel",
          "model_module_version": "1.2.0",
          "state": {
            "_model_module": "@jupyter-widgets/base",
            "_model_module_version": "1.2.0",
            "_model_name": "LayoutModel",
            "_view_count": null,
            "_view_module": "@jupyter-widgets/base",
            "_view_module_version": "1.2.0",
            "_view_name": "LayoutView",
            "align_content": null,
            "align_items": null,
            "align_self": null,
            "border": null,
            "bottom": null,
            "display": null,
            "flex": null,
            "flex_flow": null,
            "grid_area": null,
            "grid_auto_columns": null,
            "grid_auto_flow": null,
            "grid_auto_rows": null,
            "grid_column": null,
            "grid_gap": null,
            "grid_row": null,
            "grid_template_areas": null,
            "grid_template_columns": null,
            "grid_template_rows": null,
            "height": null,
            "justify_content": null,
            "justify_items": null,
            "left": null,
            "margin": null,
            "max_height": null,
            "max_width": null,
            "min_height": null,
            "min_width": null,
            "object_fit": null,
            "object_position": null,
            "order": null,
            "overflow": null,
            "overflow_x": null,
            "overflow_y": null,
            "padding": null,
            "right": null,
            "top": null,
            "visibility": null,
            "width": null
          }
        },
        "461747be7f3240759c70c4d899ed56b8": {
          "model_module": "@jupyter-widgets/controls",
          "model_name": "DescriptionStyleModel",
          "model_module_version": "1.5.0",
          "state": {
            "_model_module": "@jupyter-widgets/controls",
            "_model_module_version": "1.5.0",
            "_model_name": "DescriptionStyleModel",
            "_view_count": null,
            "_view_module": "@jupyter-widgets/base",
            "_view_module_version": "1.2.0",
            "_view_name": "StyleView",
            "description_width": ""
          }
        },
        "4bd9a2e9f56447479054d47fb1378da0": {
          "model_module": "@jupyter-widgets/base",
          "model_name": "LayoutModel",
          "model_module_version": "1.2.0",
          "state": {
            "_model_module": "@jupyter-widgets/base",
            "_model_module_version": "1.2.0",
            "_model_name": "LayoutModel",
            "_view_count": null,
            "_view_module": "@jupyter-widgets/base",
            "_view_module_version": "1.2.0",
            "_view_name": "LayoutView",
            "align_content": null,
            "align_items": null,
            "align_self": null,
            "border": null,
            "bottom": null,
            "display": null,
            "flex": null,
            "flex_flow": null,
            "grid_area": null,
            "grid_auto_columns": null,
            "grid_auto_flow": null,
            "grid_auto_rows": null,
            "grid_column": null,
            "grid_gap": null,
            "grid_row": null,
            "grid_template_areas": null,
            "grid_template_columns": null,
            "grid_template_rows": null,
            "height": null,
            "justify_content": null,
            "justify_items": null,
            "left": null,
            "margin": null,
            "max_height": null,
            "max_width": null,
            "min_height": null,
            "min_width": null,
            "object_fit": null,
            "object_position": null,
            "order": null,
            "overflow": null,
            "overflow_x": null,
            "overflow_y": null,
            "padding": null,
            "right": null,
            "top": null,
            "visibility": null,
            "width": null
          }
        },
        "09be6a83e0544fddb953bad91ba7cd8f": {
          "model_module": "@jupyter-widgets/controls",
          "model_name": "ProgressStyleModel",
          "model_module_version": "1.5.0",
          "state": {
            "_model_module": "@jupyter-widgets/controls",
            "_model_module_version": "1.5.0",
            "_model_name": "ProgressStyleModel",
            "_view_count": null,
            "_view_module": "@jupyter-widgets/base",
            "_view_module_version": "1.2.0",
            "_view_name": "StyleView",
            "bar_color": null,
            "description_width": ""
          }
        },
        "c7dc56e28e96455c955128c42c42a77f": {
          "model_module": "@jupyter-widgets/base",
          "model_name": "LayoutModel",
          "model_module_version": "1.2.0",
          "state": {
            "_model_module": "@jupyter-widgets/base",
            "_model_module_version": "1.2.0",
            "_model_name": "LayoutModel",
            "_view_count": null,
            "_view_module": "@jupyter-widgets/base",
            "_view_module_version": "1.2.0",
            "_view_name": "LayoutView",
            "align_content": null,
            "align_items": null,
            "align_self": null,
            "border": null,
            "bottom": null,
            "display": null,
            "flex": null,
            "flex_flow": null,
            "grid_area": null,
            "grid_auto_columns": null,
            "grid_auto_flow": null,
            "grid_auto_rows": null,
            "grid_column": null,
            "grid_gap": null,
            "grid_row": null,
            "grid_template_areas": null,
            "grid_template_columns": null,
            "grid_template_rows": null,
            "height": null,
            "justify_content": null,
            "justify_items": null,
            "left": null,
            "margin": null,
            "max_height": null,
            "max_width": null,
            "min_height": null,
            "min_width": null,
            "object_fit": null,
            "object_position": null,
            "order": null,
            "overflow": null,
            "overflow_x": null,
            "overflow_y": null,
            "padding": null,
            "right": null,
            "top": null,
            "visibility": null,
            "width": null
          }
        },
        "c893652df25a4e71aa19069ed79bff94": {
          "model_module": "@jupyter-widgets/controls",
          "model_name": "DescriptionStyleModel",
          "model_module_version": "1.5.0",
          "state": {
            "_model_module": "@jupyter-widgets/controls",
            "_model_module_version": "1.5.0",
            "_model_name": "DescriptionStyleModel",
            "_view_count": null,
            "_view_module": "@jupyter-widgets/base",
            "_view_module_version": "1.2.0",
            "_view_name": "StyleView",
            "description_width": ""
          }
        },
        "6cc2539f4a6640e2b5d3948b4bf4cb1e": {
          "model_module": "@jupyter-widgets/controls",
          "model_name": "HBoxModel",
          "model_module_version": "1.5.0",
          "state": {
            "_dom_classes": [],
            "_model_module": "@jupyter-widgets/controls",
            "_model_module_version": "1.5.0",
            "_model_name": "HBoxModel",
            "_view_count": null,
            "_view_module": "@jupyter-widgets/controls",
            "_view_module_version": "1.5.0",
            "_view_name": "HBoxView",
            "box_style": "",
            "children": [
              "IPY_MODEL_fb63c5a412d84670b361ec6c1a46291e",
              "IPY_MODEL_8fd450cf773740e699e3f6ff93affbde",
              "IPY_MODEL_b3814f2f826f4c278f8a7e9797ab4737"
            ],
            "layout": "IPY_MODEL_24735926a34d48dd8ac6bca870523c9a"
          }
        },
        "fb63c5a412d84670b361ec6c1a46291e": {
          "model_module": "@jupyter-widgets/controls",
          "model_name": "HTMLModel",
          "model_module_version": "1.5.0",
          "state": {
            "_dom_classes": [],
            "_model_module": "@jupyter-widgets/controls",
            "_model_module_version": "1.5.0",
            "_model_name": "HTMLModel",
            "_view_count": null,
            "_view_module": "@jupyter-widgets/controls",
            "_view_module_version": "1.5.0",
            "_view_name": "HTMLView",
            "description": "",
            "description_tooltip": null,
            "layout": "IPY_MODEL_be9a5d830b0942019765c4628cc566b5",
            "placeholder": "​",
            "style": "IPY_MODEL_081a35d1fa09476bad076ea6d7122f92",
            "value": "Downloading (…)neration_config.json: 100%"
          }
        },
        "8fd450cf773740e699e3f6ff93affbde": {
          "model_module": "@jupyter-widgets/controls",
          "model_name": "FloatProgressModel",
          "model_module_version": "1.5.0",
          "state": {
            "_dom_classes": [],
            "_model_module": "@jupyter-widgets/controls",
            "_model_module_version": "1.5.0",
            "_model_name": "FloatProgressModel",
            "_view_count": null,
            "_view_module": "@jupyter-widgets/controls",
            "_view_module_version": "1.5.0",
            "_view_name": "ProgressView",
            "bar_style": "success",
            "description": "",
            "description_tooltip": null,
            "layout": "IPY_MODEL_9a80050cb8704e88b82a0e4547caab5b",
            "max": 124,
            "min": 0,
            "orientation": "horizontal",
            "style": "IPY_MODEL_6de186cbdaeb4aef9ab93a32c44a5d7c",
            "value": 124
          }
        },
        "b3814f2f826f4c278f8a7e9797ab4737": {
          "model_module": "@jupyter-widgets/controls",
          "model_name": "HTMLModel",
          "model_module_version": "1.5.0",
          "state": {
            "_dom_classes": [],
            "_model_module": "@jupyter-widgets/controls",
            "_model_module_version": "1.5.0",
            "_model_name": "HTMLModel",
            "_view_count": null,
            "_view_module": "@jupyter-widgets/controls",
            "_view_module_version": "1.5.0",
            "_view_name": "HTMLView",
            "description": "",
            "description_tooltip": null,
            "layout": "IPY_MODEL_b9cb1baef44d4a43aeca0676ce51f745",
            "placeholder": "​",
            "style": "IPY_MODEL_fa71f93cc04b4a908e1711388304a35e",
            "value": " 124/124 [00:00&lt;00:00, 2.44kB/s]"
          }
        },
        "24735926a34d48dd8ac6bca870523c9a": {
          "model_module": "@jupyter-widgets/base",
          "model_name": "LayoutModel",
          "model_module_version": "1.2.0",
          "state": {
            "_model_module": "@jupyter-widgets/base",
            "_model_module_version": "1.2.0",
            "_model_name": "LayoutModel",
            "_view_count": null,
            "_view_module": "@jupyter-widgets/base",
            "_view_module_version": "1.2.0",
            "_view_name": "LayoutView",
            "align_content": null,
            "align_items": null,
            "align_self": null,
            "border": null,
            "bottom": null,
            "display": null,
            "flex": null,
            "flex_flow": null,
            "grid_area": null,
            "grid_auto_columns": null,
            "grid_auto_flow": null,
            "grid_auto_rows": null,
            "grid_column": null,
            "grid_gap": null,
            "grid_row": null,
            "grid_template_areas": null,
            "grid_template_columns": null,
            "grid_template_rows": null,
            "height": null,
            "justify_content": null,
            "justify_items": null,
            "left": null,
            "margin": null,
            "max_height": null,
            "max_width": null,
            "min_height": null,
            "min_width": null,
            "object_fit": null,
            "object_position": null,
            "order": null,
            "overflow": null,
            "overflow_x": null,
            "overflow_y": null,
            "padding": null,
            "right": null,
            "top": null,
            "visibility": null,
            "width": null
          }
        },
        "be9a5d830b0942019765c4628cc566b5": {
          "model_module": "@jupyter-widgets/base",
          "model_name": "LayoutModel",
          "model_module_version": "1.2.0",
          "state": {
            "_model_module": "@jupyter-widgets/base",
            "_model_module_version": "1.2.0",
            "_model_name": "LayoutModel",
            "_view_count": null,
            "_view_module": "@jupyter-widgets/base",
            "_view_module_version": "1.2.0",
            "_view_name": "LayoutView",
            "align_content": null,
            "align_items": null,
            "align_self": null,
            "border": null,
            "bottom": null,
            "display": null,
            "flex": null,
            "flex_flow": null,
            "grid_area": null,
            "grid_auto_columns": null,
            "grid_auto_flow": null,
            "grid_auto_rows": null,
            "grid_column": null,
            "grid_gap": null,
            "grid_row": null,
            "grid_template_areas": null,
            "grid_template_columns": null,
            "grid_template_rows": null,
            "height": null,
            "justify_content": null,
            "justify_items": null,
            "left": null,
            "margin": null,
            "max_height": null,
            "max_width": null,
            "min_height": null,
            "min_width": null,
            "object_fit": null,
            "object_position": null,
            "order": null,
            "overflow": null,
            "overflow_x": null,
            "overflow_y": null,
            "padding": null,
            "right": null,
            "top": null,
            "visibility": null,
            "width": null
          }
        },
        "081a35d1fa09476bad076ea6d7122f92": {
          "model_module": "@jupyter-widgets/controls",
          "model_name": "DescriptionStyleModel",
          "model_module_version": "1.5.0",
          "state": {
            "_model_module": "@jupyter-widgets/controls",
            "_model_module_version": "1.5.0",
            "_model_name": "DescriptionStyleModel",
            "_view_count": null,
            "_view_module": "@jupyter-widgets/base",
            "_view_module_version": "1.2.0",
            "_view_name": "StyleView",
            "description_width": ""
          }
        },
        "9a80050cb8704e88b82a0e4547caab5b": {
          "model_module": "@jupyter-widgets/base",
          "model_name": "LayoutModel",
          "model_module_version": "1.2.0",
          "state": {
            "_model_module": "@jupyter-widgets/base",
            "_model_module_version": "1.2.0",
            "_model_name": "LayoutModel",
            "_view_count": null,
            "_view_module": "@jupyter-widgets/base",
            "_view_module_version": "1.2.0",
            "_view_name": "LayoutView",
            "align_content": null,
            "align_items": null,
            "align_self": null,
            "border": null,
            "bottom": null,
            "display": null,
            "flex": null,
            "flex_flow": null,
            "grid_area": null,
            "grid_auto_columns": null,
            "grid_auto_flow": null,
            "grid_auto_rows": null,
            "grid_column": null,
            "grid_gap": null,
            "grid_row": null,
            "grid_template_areas": null,
            "grid_template_columns": null,
            "grid_template_rows": null,
            "height": null,
            "justify_content": null,
            "justify_items": null,
            "left": null,
            "margin": null,
            "max_height": null,
            "max_width": null,
            "min_height": null,
            "min_width": null,
            "object_fit": null,
            "object_position": null,
            "order": null,
            "overflow": null,
            "overflow_x": null,
            "overflow_y": null,
            "padding": null,
            "right": null,
            "top": null,
            "visibility": null,
            "width": null
          }
        },
        "6de186cbdaeb4aef9ab93a32c44a5d7c": {
          "model_module": "@jupyter-widgets/controls",
          "model_name": "ProgressStyleModel",
          "model_module_version": "1.5.0",
          "state": {
            "_model_module": "@jupyter-widgets/controls",
            "_model_module_version": "1.5.0",
            "_model_name": "ProgressStyleModel",
            "_view_count": null,
            "_view_module": "@jupyter-widgets/base",
            "_view_module_version": "1.2.0",
            "_view_name": "StyleView",
            "bar_color": null,
            "description_width": ""
          }
        },
        "b9cb1baef44d4a43aeca0676ce51f745": {
          "model_module": "@jupyter-widgets/base",
          "model_name": "LayoutModel",
          "model_module_version": "1.2.0",
          "state": {
            "_model_module": "@jupyter-widgets/base",
            "_model_module_version": "1.2.0",
            "_model_name": "LayoutModel",
            "_view_count": null,
            "_view_module": "@jupyter-widgets/base",
            "_view_module_version": "1.2.0",
            "_view_name": "LayoutView",
            "align_content": null,
            "align_items": null,
            "align_self": null,
            "border": null,
            "bottom": null,
            "display": null,
            "flex": null,
            "flex_flow": null,
            "grid_area": null,
            "grid_auto_columns": null,
            "grid_auto_flow": null,
            "grid_auto_rows": null,
            "grid_column": null,
            "grid_gap": null,
            "grid_row": null,
            "grid_template_areas": null,
            "grid_template_columns": null,
            "grid_template_rows": null,
            "height": null,
            "justify_content": null,
            "justify_items": null,
            "left": null,
            "margin": null,
            "max_height": null,
            "max_width": null,
            "min_height": null,
            "min_width": null,
            "object_fit": null,
            "object_position": null,
            "order": null,
            "overflow": null,
            "overflow_x": null,
            "overflow_y": null,
            "padding": null,
            "right": null,
            "top": null,
            "visibility": null,
            "width": null
          }
        },
        "fa71f93cc04b4a908e1711388304a35e": {
          "model_module": "@jupyter-widgets/controls",
          "model_name": "DescriptionStyleModel",
          "model_module_version": "1.5.0",
          "state": {
            "_model_module": "@jupyter-widgets/controls",
            "_model_module_version": "1.5.0",
            "_model_name": "DescriptionStyleModel",
            "_view_count": null,
            "_view_module": "@jupyter-widgets/base",
            "_view_module_version": "1.2.0",
            "_view_name": "StyleView",
            "description_width": ""
          }
        },
        "9451acfd1e91447fbe28d666b4a89c98": {
          "model_module": "@jupyter-widgets/controls",
          "model_name": "HBoxModel",
          "model_module_version": "1.5.0",
          "state": {
            "_dom_classes": [],
            "_model_module": "@jupyter-widgets/controls",
            "_model_module_version": "1.5.0",
            "_model_name": "HBoxModel",
            "_view_count": null,
            "_view_module": "@jupyter-widgets/controls",
            "_view_module_version": "1.5.0",
            "_view_name": "HBoxView",
            "box_style": "",
            "children": [
              "IPY_MODEL_adecb9bd82e94e65928040978b154d35",
              "IPY_MODEL_bba1d69eb8a44e8abcfcd08540a7f9d8",
              "IPY_MODEL_4d948a31da0c4cc293075607e4c0adbe"
            ],
            "layout": "IPY_MODEL_131e5c2a36084f4e8f0ff1f01090675d"
          }
        },
        "adecb9bd82e94e65928040978b154d35": {
          "model_module": "@jupyter-widgets/controls",
          "model_name": "HTMLModel",
          "model_module_version": "1.5.0",
          "state": {
            "_dom_classes": [],
            "_model_module": "@jupyter-widgets/controls",
            "_model_module_version": "1.5.0",
            "_model_name": "HTMLModel",
            "_view_count": null,
            "_view_module": "@jupyter-widgets/controls",
            "_view_module_version": "1.5.0",
            "_view_name": "HTMLView",
            "description": "",
            "description_tooltip": null,
            "layout": "IPY_MODEL_d701742ce843474198e01e45808d31b1",
            "placeholder": "​",
            "style": "IPY_MODEL_acac0548574a4f8195487a628b4033e4",
            "value": "Downloading (…)olve/main/vocab.json: "
          }
        },
        "bba1d69eb8a44e8abcfcd08540a7f9d8": {
          "model_module": "@jupyter-widgets/controls",
          "model_name": "FloatProgressModel",
          "model_module_version": "1.5.0",
          "state": {
            "_dom_classes": [],
            "_model_module": "@jupyter-widgets/controls",
            "_model_module_version": "1.5.0",
            "_model_name": "FloatProgressModel",
            "_view_count": null,
            "_view_module": "@jupyter-widgets/controls",
            "_view_module_version": "1.5.0",
            "_view_name": "ProgressView",
            "bar_style": "success",
            "description": "",
            "description_tooltip": null,
            "layout": "IPY_MODEL_eb5b6520ac6242239e4100f0433dd318",
            "max": 1,
            "min": 0,
            "orientation": "horizontal",
            "style": "IPY_MODEL_0f6d8e9f83104d4398b0b5c5bc495132",
            "value": 1
          }
        },
        "4d948a31da0c4cc293075607e4c0adbe": {
          "model_module": "@jupyter-widgets/controls",
          "model_name": "HTMLModel",
          "model_module_version": "1.5.0",
          "state": {
            "_dom_classes": [],
            "_model_module": "@jupyter-widgets/controls",
            "_model_module_version": "1.5.0",
            "_model_name": "HTMLModel",
            "_view_count": null,
            "_view_module": "@jupyter-widgets/controls",
            "_view_module_version": "1.5.0",
            "_view_name": "HTMLView",
            "description": "",
            "description_tooltip": null,
            "layout": "IPY_MODEL_f742ad699eae45db81d9e6f3d3824f09",
            "placeholder": "​",
            "style": "IPY_MODEL_6f0f6bb6dac944d389625a80d29f872c",
            "value": " 1.04M/? [00:00&lt;00:00, 13.3MB/s]"
          }
        },
        "131e5c2a36084f4e8f0ff1f01090675d": {
          "model_module": "@jupyter-widgets/base",
          "model_name": "LayoutModel",
          "model_module_version": "1.2.0",
          "state": {
            "_model_module": "@jupyter-widgets/base",
            "_model_module_version": "1.2.0",
            "_model_name": "LayoutModel",
            "_view_count": null,
            "_view_module": "@jupyter-widgets/base",
            "_view_module_version": "1.2.0",
            "_view_name": "LayoutView",
            "align_content": null,
            "align_items": null,
            "align_self": null,
            "border": null,
            "bottom": null,
            "display": null,
            "flex": null,
            "flex_flow": null,
            "grid_area": null,
            "grid_auto_columns": null,
            "grid_auto_flow": null,
            "grid_auto_rows": null,
            "grid_column": null,
            "grid_gap": null,
            "grid_row": null,
            "grid_template_areas": null,
            "grid_template_columns": null,
            "grid_template_rows": null,
            "height": null,
            "justify_content": null,
            "justify_items": null,
            "left": null,
            "margin": null,
            "max_height": null,
            "max_width": null,
            "min_height": null,
            "min_width": null,
            "object_fit": null,
            "object_position": null,
            "order": null,
            "overflow": null,
            "overflow_x": null,
            "overflow_y": null,
            "padding": null,
            "right": null,
            "top": null,
            "visibility": null,
            "width": null
          }
        },
        "d701742ce843474198e01e45808d31b1": {
          "model_module": "@jupyter-widgets/base",
          "model_name": "LayoutModel",
          "model_module_version": "1.2.0",
          "state": {
            "_model_module": "@jupyter-widgets/base",
            "_model_module_version": "1.2.0",
            "_model_name": "LayoutModel",
            "_view_count": null,
            "_view_module": "@jupyter-widgets/base",
            "_view_module_version": "1.2.0",
            "_view_name": "LayoutView",
            "align_content": null,
            "align_items": null,
            "align_self": null,
            "border": null,
            "bottom": null,
            "display": null,
            "flex": null,
            "flex_flow": null,
            "grid_area": null,
            "grid_auto_columns": null,
            "grid_auto_flow": null,
            "grid_auto_rows": null,
            "grid_column": null,
            "grid_gap": null,
            "grid_row": null,
            "grid_template_areas": null,
            "grid_template_columns": null,
            "grid_template_rows": null,
            "height": null,
            "justify_content": null,
            "justify_items": null,
            "left": null,
            "margin": null,
            "max_height": null,
            "max_width": null,
            "min_height": null,
            "min_width": null,
            "object_fit": null,
            "object_position": null,
            "order": null,
            "overflow": null,
            "overflow_x": null,
            "overflow_y": null,
            "padding": null,
            "right": null,
            "top": null,
            "visibility": null,
            "width": null
          }
        },
        "acac0548574a4f8195487a628b4033e4": {
          "model_module": "@jupyter-widgets/controls",
          "model_name": "DescriptionStyleModel",
          "model_module_version": "1.5.0",
          "state": {
            "_model_module": "@jupyter-widgets/controls",
            "_model_module_version": "1.5.0",
            "_model_name": "DescriptionStyleModel",
            "_view_count": null,
            "_view_module": "@jupyter-widgets/base",
            "_view_module_version": "1.2.0",
            "_view_name": "StyleView",
            "description_width": ""
          }
        },
        "eb5b6520ac6242239e4100f0433dd318": {
          "model_module": "@jupyter-widgets/base",
          "model_name": "LayoutModel",
          "model_module_version": "1.2.0",
          "state": {
            "_model_module": "@jupyter-widgets/base",
            "_model_module_version": "1.2.0",
            "_model_name": "LayoutModel",
            "_view_count": null,
            "_view_module": "@jupyter-widgets/base",
            "_view_module_version": "1.2.0",
            "_view_name": "LayoutView",
            "align_content": null,
            "align_items": null,
            "align_self": null,
            "border": null,
            "bottom": null,
            "display": null,
            "flex": null,
            "flex_flow": null,
            "grid_area": null,
            "grid_auto_columns": null,
            "grid_auto_flow": null,
            "grid_auto_rows": null,
            "grid_column": null,
            "grid_gap": null,
            "grid_row": null,
            "grid_template_areas": null,
            "grid_template_columns": null,
            "grid_template_rows": null,
            "height": null,
            "justify_content": null,
            "justify_items": null,
            "left": null,
            "margin": null,
            "max_height": null,
            "max_width": null,
            "min_height": null,
            "min_width": null,
            "object_fit": null,
            "object_position": null,
            "order": null,
            "overflow": null,
            "overflow_x": null,
            "overflow_y": null,
            "padding": null,
            "right": null,
            "top": null,
            "visibility": null,
            "width": "20px"
          }
        },
        "0f6d8e9f83104d4398b0b5c5bc495132": {
          "model_module": "@jupyter-widgets/controls",
          "model_name": "ProgressStyleModel",
          "model_module_version": "1.5.0",
          "state": {
            "_model_module": "@jupyter-widgets/controls",
            "_model_module_version": "1.5.0",
            "_model_name": "ProgressStyleModel",
            "_view_count": null,
            "_view_module": "@jupyter-widgets/base",
            "_view_module_version": "1.2.0",
            "_view_name": "StyleView",
            "bar_color": null,
            "description_width": ""
          }
        },
        "f742ad699eae45db81d9e6f3d3824f09": {
          "model_module": "@jupyter-widgets/base",
          "model_name": "LayoutModel",
          "model_module_version": "1.2.0",
          "state": {
            "_model_module": "@jupyter-widgets/base",
            "_model_module_version": "1.2.0",
            "_model_name": "LayoutModel",
            "_view_count": null,
            "_view_module": "@jupyter-widgets/base",
            "_view_module_version": "1.2.0",
            "_view_name": "LayoutView",
            "align_content": null,
            "align_items": null,
            "align_self": null,
            "border": null,
            "bottom": null,
            "display": null,
            "flex": null,
            "flex_flow": null,
            "grid_area": null,
            "grid_auto_columns": null,
            "grid_auto_flow": null,
            "grid_auto_rows": null,
            "grid_column": null,
            "grid_gap": null,
            "grid_row": null,
            "grid_template_areas": null,
            "grid_template_columns": null,
            "grid_template_rows": null,
            "height": null,
            "justify_content": null,
            "justify_items": null,
            "left": null,
            "margin": null,
            "max_height": null,
            "max_width": null,
            "min_height": null,
            "min_width": null,
            "object_fit": null,
            "object_position": null,
            "order": null,
            "overflow": null,
            "overflow_x": null,
            "overflow_y": null,
            "padding": null,
            "right": null,
            "top": null,
            "visibility": null,
            "width": null
          }
        },
        "6f0f6bb6dac944d389625a80d29f872c": {
          "model_module": "@jupyter-widgets/controls",
          "model_name": "DescriptionStyleModel",
          "model_module_version": "1.5.0",
          "state": {
            "_model_module": "@jupyter-widgets/controls",
            "_model_module_version": "1.5.0",
            "_model_name": "DescriptionStyleModel",
            "_view_count": null,
            "_view_module": "@jupyter-widgets/base",
            "_view_module_version": "1.2.0",
            "_view_name": "StyleView",
            "description_width": ""
          }
        },
        "5487856e048c452ab2e65d550330a368": {
          "model_module": "@jupyter-widgets/controls",
          "model_name": "HBoxModel",
          "model_module_version": "1.5.0",
          "state": {
            "_dom_classes": [],
            "_model_module": "@jupyter-widgets/controls",
            "_model_module_version": "1.5.0",
            "_model_name": "HBoxModel",
            "_view_count": null,
            "_view_module": "@jupyter-widgets/controls",
            "_view_module_version": "1.5.0",
            "_view_name": "HBoxView",
            "box_style": "",
            "children": [
              "IPY_MODEL_5a1f7d1a16ad4d85ad347e27480eb284",
              "IPY_MODEL_acd861cdfb0e40d387329b5353006590",
              "IPY_MODEL_681f36247d584b918e7f5ec8f7db9467"
            ],
            "layout": "IPY_MODEL_55aa0f31cf00426dbe19110786f67736"
          }
        },
        "5a1f7d1a16ad4d85ad347e27480eb284": {
          "model_module": "@jupyter-widgets/controls",
          "model_name": "HTMLModel",
          "model_module_version": "1.5.0",
          "state": {
            "_dom_classes": [],
            "_model_module": "@jupyter-widgets/controls",
            "_model_module_version": "1.5.0",
            "_model_name": "HTMLModel",
            "_view_count": null,
            "_view_module": "@jupyter-widgets/controls",
            "_view_module_version": "1.5.0",
            "_view_name": "HTMLView",
            "description": "",
            "description_tooltip": null,
            "layout": "IPY_MODEL_ac2fba262fdd47cea27164afd4c4bf83",
            "placeholder": "​",
            "style": "IPY_MODEL_d2a5880217a846518e18b52dabf0d07e",
            "value": "Downloading (…)olve/main/merges.txt: "
          }
        },
        "acd861cdfb0e40d387329b5353006590": {
          "model_module": "@jupyter-widgets/controls",
          "model_name": "FloatProgressModel",
          "model_module_version": "1.5.0",
          "state": {
            "_dom_classes": [],
            "_model_module": "@jupyter-widgets/controls",
            "_model_module_version": "1.5.0",
            "_model_name": "FloatProgressModel",
            "_view_count": null,
            "_view_module": "@jupyter-widgets/controls",
            "_view_module_version": "1.5.0",
            "_view_name": "ProgressView",
            "bar_style": "success",
            "description": "",
            "description_tooltip": null,
            "layout": "IPY_MODEL_9398277d2b50416a912321434fa9cf55",
            "max": 1,
            "min": 0,
            "orientation": "horizontal",
            "style": "IPY_MODEL_dbc896ea43ec421cb5697cc9165e99bb",
            "value": 1
          }
        },
        "681f36247d584b918e7f5ec8f7db9467": {
          "model_module": "@jupyter-widgets/controls",
          "model_name": "HTMLModel",
          "model_module_version": "1.5.0",
          "state": {
            "_dom_classes": [],
            "_model_module": "@jupyter-widgets/controls",
            "_model_module_version": "1.5.0",
            "_model_name": "HTMLModel",
            "_view_count": null,
            "_view_module": "@jupyter-widgets/controls",
            "_view_module_version": "1.5.0",
            "_view_name": "HTMLView",
            "description": "",
            "description_tooltip": null,
            "layout": "IPY_MODEL_317564dafecc4942a5e446ed96fc6ffc",
            "placeholder": "​",
            "style": "IPY_MODEL_a166dc2c3f6348289b122df7eafbb532",
            "value": " 456k/? [00:00&lt;00:00, 9.46MB/s]"
          }
        },
        "55aa0f31cf00426dbe19110786f67736": {
          "model_module": "@jupyter-widgets/base",
          "model_name": "LayoutModel",
          "model_module_version": "1.2.0",
          "state": {
            "_model_module": "@jupyter-widgets/base",
            "_model_module_version": "1.2.0",
            "_model_name": "LayoutModel",
            "_view_count": null,
            "_view_module": "@jupyter-widgets/base",
            "_view_module_version": "1.2.0",
            "_view_name": "LayoutView",
            "align_content": null,
            "align_items": null,
            "align_self": null,
            "border": null,
            "bottom": null,
            "display": null,
            "flex": null,
            "flex_flow": null,
            "grid_area": null,
            "grid_auto_columns": null,
            "grid_auto_flow": null,
            "grid_auto_rows": null,
            "grid_column": null,
            "grid_gap": null,
            "grid_row": null,
            "grid_template_areas": null,
            "grid_template_columns": null,
            "grid_template_rows": null,
            "height": null,
            "justify_content": null,
            "justify_items": null,
            "left": null,
            "margin": null,
            "max_height": null,
            "max_width": null,
            "min_height": null,
            "min_width": null,
            "object_fit": null,
            "object_position": null,
            "order": null,
            "overflow": null,
            "overflow_x": null,
            "overflow_y": null,
            "padding": null,
            "right": null,
            "top": null,
            "visibility": null,
            "width": null
          }
        },
        "ac2fba262fdd47cea27164afd4c4bf83": {
          "model_module": "@jupyter-widgets/base",
          "model_name": "LayoutModel",
          "model_module_version": "1.2.0",
          "state": {
            "_model_module": "@jupyter-widgets/base",
            "_model_module_version": "1.2.0",
            "_model_name": "LayoutModel",
            "_view_count": null,
            "_view_module": "@jupyter-widgets/base",
            "_view_module_version": "1.2.0",
            "_view_name": "LayoutView",
            "align_content": null,
            "align_items": null,
            "align_self": null,
            "border": null,
            "bottom": null,
            "display": null,
            "flex": null,
            "flex_flow": null,
            "grid_area": null,
            "grid_auto_columns": null,
            "grid_auto_flow": null,
            "grid_auto_rows": null,
            "grid_column": null,
            "grid_gap": null,
            "grid_row": null,
            "grid_template_areas": null,
            "grid_template_columns": null,
            "grid_template_rows": null,
            "height": null,
            "justify_content": null,
            "justify_items": null,
            "left": null,
            "margin": null,
            "max_height": null,
            "max_width": null,
            "min_height": null,
            "min_width": null,
            "object_fit": null,
            "object_position": null,
            "order": null,
            "overflow": null,
            "overflow_x": null,
            "overflow_y": null,
            "padding": null,
            "right": null,
            "top": null,
            "visibility": null,
            "width": null
          }
        },
        "d2a5880217a846518e18b52dabf0d07e": {
          "model_module": "@jupyter-widgets/controls",
          "model_name": "DescriptionStyleModel",
          "model_module_version": "1.5.0",
          "state": {
            "_model_module": "@jupyter-widgets/controls",
            "_model_module_version": "1.5.0",
            "_model_name": "DescriptionStyleModel",
            "_view_count": null,
            "_view_module": "@jupyter-widgets/base",
            "_view_module_version": "1.2.0",
            "_view_name": "StyleView",
            "description_width": ""
          }
        },
        "9398277d2b50416a912321434fa9cf55": {
          "model_module": "@jupyter-widgets/base",
          "model_name": "LayoutModel",
          "model_module_version": "1.2.0",
          "state": {
            "_model_module": "@jupyter-widgets/base",
            "_model_module_version": "1.2.0",
            "_model_name": "LayoutModel",
            "_view_count": null,
            "_view_module": "@jupyter-widgets/base",
            "_view_module_version": "1.2.0",
            "_view_name": "LayoutView",
            "align_content": null,
            "align_items": null,
            "align_self": null,
            "border": null,
            "bottom": null,
            "display": null,
            "flex": null,
            "flex_flow": null,
            "grid_area": null,
            "grid_auto_columns": null,
            "grid_auto_flow": null,
            "grid_auto_rows": null,
            "grid_column": null,
            "grid_gap": null,
            "grid_row": null,
            "grid_template_areas": null,
            "grid_template_columns": null,
            "grid_template_rows": null,
            "height": null,
            "justify_content": null,
            "justify_items": null,
            "left": null,
            "margin": null,
            "max_height": null,
            "max_width": null,
            "min_height": null,
            "min_width": null,
            "object_fit": null,
            "object_position": null,
            "order": null,
            "overflow": null,
            "overflow_x": null,
            "overflow_y": null,
            "padding": null,
            "right": null,
            "top": null,
            "visibility": null,
            "width": "20px"
          }
        },
        "dbc896ea43ec421cb5697cc9165e99bb": {
          "model_module": "@jupyter-widgets/controls",
          "model_name": "ProgressStyleModel",
          "model_module_version": "1.5.0",
          "state": {
            "_model_module": "@jupyter-widgets/controls",
            "_model_module_version": "1.5.0",
            "_model_name": "ProgressStyleModel",
            "_view_count": null,
            "_view_module": "@jupyter-widgets/base",
            "_view_module_version": "1.2.0",
            "_view_name": "StyleView",
            "bar_color": null,
            "description_width": ""
          }
        },
        "317564dafecc4942a5e446ed96fc6ffc": {
          "model_module": "@jupyter-widgets/base",
          "model_name": "LayoutModel",
          "model_module_version": "1.2.0",
          "state": {
            "_model_module": "@jupyter-widgets/base",
            "_model_module_version": "1.2.0",
            "_model_name": "LayoutModel",
            "_view_count": null,
            "_view_module": "@jupyter-widgets/base",
            "_view_module_version": "1.2.0",
            "_view_name": "LayoutView",
            "align_content": null,
            "align_items": null,
            "align_self": null,
            "border": null,
            "bottom": null,
            "display": null,
            "flex": null,
            "flex_flow": null,
            "grid_area": null,
            "grid_auto_columns": null,
            "grid_auto_flow": null,
            "grid_auto_rows": null,
            "grid_column": null,
            "grid_gap": null,
            "grid_row": null,
            "grid_template_areas": null,
            "grid_template_columns": null,
            "grid_template_rows": null,
            "height": null,
            "justify_content": null,
            "justify_items": null,
            "left": null,
            "margin": null,
            "max_height": null,
            "max_width": null,
            "min_height": null,
            "min_width": null,
            "object_fit": null,
            "object_position": null,
            "order": null,
            "overflow": null,
            "overflow_x": null,
            "overflow_y": null,
            "padding": null,
            "right": null,
            "top": null,
            "visibility": null,
            "width": null
          }
        },
        "a166dc2c3f6348289b122df7eafbb532": {
          "model_module": "@jupyter-widgets/controls",
          "model_name": "DescriptionStyleModel",
          "model_module_version": "1.5.0",
          "state": {
            "_model_module": "@jupyter-widgets/controls",
            "_model_module_version": "1.5.0",
            "_model_name": "DescriptionStyleModel",
            "_view_count": null,
            "_view_module": "@jupyter-widgets/base",
            "_view_module_version": "1.2.0",
            "_view_name": "StyleView",
            "description_width": ""
          }
        },
        "e2c095c147b048b6bb0c299dfad3583a": {
          "model_module": "@jupyter-widgets/controls",
          "model_name": "HBoxModel",
          "model_module_version": "1.5.0",
          "state": {
            "_dom_classes": [],
            "_model_module": "@jupyter-widgets/controls",
            "_model_module_version": "1.5.0",
            "_model_name": "HBoxModel",
            "_view_count": null,
            "_view_module": "@jupyter-widgets/controls",
            "_view_module_version": "1.5.0",
            "_view_name": "HBoxView",
            "box_style": "",
            "children": [
              "IPY_MODEL_b14362b671ea49ab87a9c6f271822ba4",
              "IPY_MODEL_41ecea4d8c4048689e965d17ddaf04e7",
              "IPY_MODEL_b310740075d74b32ad5cf3cbc26b2730"
            ],
            "layout": "IPY_MODEL_fd2cfbae3a534371afaf32e9098c19db"
          }
        },
        "b14362b671ea49ab87a9c6f271822ba4": {
          "model_module": "@jupyter-widgets/controls",
          "model_name": "HTMLModel",
          "model_module_version": "1.5.0",
          "state": {
            "_dom_classes": [],
            "_model_module": "@jupyter-widgets/controls",
            "_model_module_version": "1.5.0",
            "_model_name": "HTMLModel",
            "_view_count": null,
            "_view_module": "@jupyter-widgets/controls",
            "_view_module_version": "1.5.0",
            "_view_name": "HTMLView",
            "description": "",
            "description_tooltip": null,
            "layout": "IPY_MODEL_a12943545e8f4f56bcd33e30e93073d4",
            "placeholder": "​",
            "style": "IPY_MODEL_c005270535f44b5a842996b915eb1e2a",
            "value": "Downloading (…)/main/tokenizer.json: "
          }
        },
        "41ecea4d8c4048689e965d17ddaf04e7": {
          "model_module": "@jupyter-widgets/controls",
          "model_name": "FloatProgressModel",
          "model_module_version": "1.5.0",
          "state": {
            "_dom_classes": [],
            "_model_module": "@jupyter-widgets/controls",
            "_model_module_version": "1.5.0",
            "_model_name": "FloatProgressModel",
            "_view_count": null,
            "_view_module": "@jupyter-widgets/controls",
            "_view_module_version": "1.5.0",
            "_view_name": "ProgressView",
            "bar_style": "success",
            "description": "",
            "description_tooltip": null,
            "layout": "IPY_MODEL_176a87aaed2c4c869c3e78da17f94028",
            "max": 1,
            "min": 0,
            "orientation": "horizontal",
            "style": "IPY_MODEL_a51cd93a8e094e0f9f0a436b1db012ee",
            "value": 1
          }
        },
        "b310740075d74b32ad5cf3cbc26b2730": {
          "model_module": "@jupyter-widgets/controls",
          "model_name": "HTMLModel",
          "model_module_version": "1.5.0",
          "state": {
            "_dom_classes": [],
            "_model_module": "@jupyter-widgets/controls",
            "_model_module_version": "1.5.0",
            "_model_name": "HTMLModel",
            "_view_count": null,
            "_view_module": "@jupyter-widgets/controls",
            "_view_module_version": "1.5.0",
            "_view_name": "HTMLView",
            "description": "",
            "description_tooltip": null,
            "layout": "IPY_MODEL_e024795208064430b759150460b134f1",
            "placeholder": "​",
            "style": "IPY_MODEL_166f13d2d42341058647cd284b158df3",
            "value": " 1.36M/? [00:00&lt;00:00, 7.96MB/s]"
          }
        },
        "fd2cfbae3a534371afaf32e9098c19db": {
          "model_module": "@jupyter-widgets/base",
          "model_name": "LayoutModel",
          "model_module_version": "1.2.0",
          "state": {
            "_model_module": "@jupyter-widgets/base",
            "_model_module_version": "1.2.0",
            "_model_name": "LayoutModel",
            "_view_count": null,
            "_view_module": "@jupyter-widgets/base",
            "_view_module_version": "1.2.0",
            "_view_name": "LayoutView",
            "align_content": null,
            "align_items": null,
            "align_self": null,
            "border": null,
            "bottom": null,
            "display": null,
            "flex": null,
            "flex_flow": null,
            "grid_area": null,
            "grid_auto_columns": null,
            "grid_auto_flow": null,
            "grid_auto_rows": null,
            "grid_column": null,
            "grid_gap": null,
            "grid_row": null,
            "grid_template_areas": null,
            "grid_template_columns": null,
            "grid_template_rows": null,
            "height": null,
            "justify_content": null,
            "justify_items": null,
            "left": null,
            "margin": null,
            "max_height": null,
            "max_width": null,
            "min_height": null,
            "min_width": null,
            "object_fit": null,
            "object_position": null,
            "order": null,
            "overflow": null,
            "overflow_x": null,
            "overflow_y": null,
            "padding": null,
            "right": null,
            "top": null,
            "visibility": null,
            "width": null
          }
        },
        "a12943545e8f4f56bcd33e30e93073d4": {
          "model_module": "@jupyter-widgets/base",
          "model_name": "LayoutModel",
          "model_module_version": "1.2.0",
          "state": {
            "_model_module": "@jupyter-widgets/base",
            "_model_module_version": "1.2.0",
            "_model_name": "LayoutModel",
            "_view_count": null,
            "_view_module": "@jupyter-widgets/base",
            "_view_module_version": "1.2.0",
            "_view_name": "LayoutView",
            "align_content": null,
            "align_items": null,
            "align_self": null,
            "border": null,
            "bottom": null,
            "display": null,
            "flex": null,
            "flex_flow": null,
            "grid_area": null,
            "grid_auto_columns": null,
            "grid_auto_flow": null,
            "grid_auto_rows": null,
            "grid_column": null,
            "grid_gap": null,
            "grid_row": null,
            "grid_template_areas": null,
            "grid_template_columns": null,
            "grid_template_rows": null,
            "height": null,
            "justify_content": null,
            "justify_items": null,
            "left": null,
            "margin": null,
            "max_height": null,
            "max_width": null,
            "min_height": null,
            "min_width": null,
            "object_fit": null,
            "object_position": null,
            "order": null,
            "overflow": null,
            "overflow_x": null,
            "overflow_y": null,
            "padding": null,
            "right": null,
            "top": null,
            "visibility": null,
            "width": null
          }
        },
        "c005270535f44b5a842996b915eb1e2a": {
          "model_module": "@jupyter-widgets/controls",
          "model_name": "DescriptionStyleModel",
          "model_module_version": "1.5.0",
          "state": {
            "_model_module": "@jupyter-widgets/controls",
            "_model_module_version": "1.5.0",
            "_model_name": "DescriptionStyleModel",
            "_view_count": null,
            "_view_module": "@jupyter-widgets/base",
            "_view_module_version": "1.2.0",
            "_view_name": "StyleView",
            "description_width": ""
          }
        },
        "176a87aaed2c4c869c3e78da17f94028": {
          "model_module": "@jupyter-widgets/base",
          "model_name": "LayoutModel",
          "model_module_version": "1.2.0",
          "state": {
            "_model_module": "@jupyter-widgets/base",
            "_model_module_version": "1.2.0",
            "_model_name": "LayoutModel",
            "_view_count": null,
            "_view_module": "@jupyter-widgets/base",
            "_view_module_version": "1.2.0",
            "_view_name": "LayoutView",
            "align_content": null,
            "align_items": null,
            "align_self": null,
            "border": null,
            "bottom": null,
            "display": null,
            "flex": null,
            "flex_flow": null,
            "grid_area": null,
            "grid_auto_columns": null,
            "grid_auto_flow": null,
            "grid_auto_rows": null,
            "grid_column": null,
            "grid_gap": null,
            "grid_row": null,
            "grid_template_areas": null,
            "grid_template_columns": null,
            "grid_template_rows": null,
            "height": null,
            "justify_content": null,
            "justify_items": null,
            "left": null,
            "margin": null,
            "max_height": null,
            "max_width": null,
            "min_height": null,
            "min_width": null,
            "object_fit": null,
            "object_position": null,
            "order": null,
            "overflow": null,
            "overflow_x": null,
            "overflow_y": null,
            "padding": null,
            "right": null,
            "top": null,
            "visibility": null,
            "width": "20px"
          }
        },
        "a51cd93a8e094e0f9f0a436b1db012ee": {
          "model_module": "@jupyter-widgets/controls",
          "model_name": "ProgressStyleModel",
          "model_module_version": "1.5.0",
          "state": {
            "_model_module": "@jupyter-widgets/controls",
            "_model_module_version": "1.5.0",
            "_model_name": "ProgressStyleModel",
            "_view_count": null,
            "_view_module": "@jupyter-widgets/base",
            "_view_module_version": "1.2.0",
            "_view_name": "StyleView",
            "bar_color": null,
            "description_width": ""
          }
        },
        "e024795208064430b759150460b134f1": {
          "model_module": "@jupyter-widgets/base",
          "model_name": "LayoutModel",
          "model_module_version": "1.2.0",
          "state": {
            "_model_module": "@jupyter-widgets/base",
            "_model_module_version": "1.2.0",
            "_model_name": "LayoutModel",
            "_view_count": null,
            "_view_module": "@jupyter-widgets/base",
            "_view_module_version": "1.2.0",
            "_view_name": "LayoutView",
            "align_content": null,
            "align_items": null,
            "align_self": null,
            "border": null,
            "bottom": null,
            "display": null,
            "flex": null,
            "flex_flow": null,
            "grid_area": null,
            "grid_auto_columns": null,
            "grid_auto_flow": null,
            "grid_auto_rows": null,
            "grid_column": null,
            "grid_gap": null,
            "grid_row": null,
            "grid_template_areas": null,
            "grid_template_columns": null,
            "grid_template_rows": null,
            "height": null,
            "justify_content": null,
            "justify_items": null,
            "left": null,
            "margin": null,
            "max_height": null,
            "max_width": null,
            "min_height": null,
            "min_width": null,
            "object_fit": null,
            "object_position": null,
            "order": null,
            "overflow": null,
            "overflow_x": null,
            "overflow_y": null,
            "padding": null,
            "right": null,
            "top": null,
            "visibility": null,
            "width": null
          }
        },
        "166f13d2d42341058647cd284b158df3": {
          "model_module": "@jupyter-widgets/controls",
          "model_name": "DescriptionStyleModel",
          "model_module_version": "1.5.0",
          "state": {
            "_model_module": "@jupyter-widgets/controls",
            "_model_module_version": "1.5.0",
            "_model_name": "DescriptionStyleModel",
            "_view_count": null,
            "_view_module": "@jupyter-widgets/base",
            "_view_module_version": "1.2.0",
            "_view_name": "StyleView",
            "description_width": ""
          }
        },
        "d99c22efb3ca412184768fd27e77d74a": {
          "model_module": "@jupyter-widgets/controls",
          "model_name": "HBoxModel",
          "model_module_version": "1.5.0",
          "state": {
            "_dom_classes": [],
            "_model_module": "@jupyter-widgets/controls",
            "_model_module_version": "1.5.0",
            "_model_name": "HBoxModel",
            "_view_count": null,
            "_view_module": "@jupyter-widgets/controls",
            "_view_module_version": "1.5.0",
            "_view_name": "HBoxView",
            "box_style": "",
            "children": [
              "IPY_MODEL_739d00c12cb04ae295c1453d501804fb",
              "IPY_MODEL_63db80cf5e7f4ba494cdfe4c3d44c11c",
              "IPY_MODEL_e5382d5430a047a1af4a582bd33e42b4"
            ],
            "layout": "IPY_MODEL_bde0f72cc0fb46d1ae2d8018df576141"
          }
        },
        "739d00c12cb04ae295c1453d501804fb": {
          "model_module": "@jupyter-widgets/controls",
          "model_name": "HTMLModel",
          "model_module_version": "1.5.0",
          "state": {
            "_dom_classes": [],
            "_model_module": "@jupyter-widgets/controls",
            "_model_module_version": "1.5.0",
            "_model_name": "HTMLModel",
            "_view_count": null,
            "_view_module": "@jupyter-widgets/controls",
            "_view_module_version": "1.5.0",
            "_view_name": "HTMLView",
            "description": "",
            "description_tooltip": null,
            "layout": "IPY_MODEL_e7fbb30750024d938caad48aa365b91d",
            "placeholder": "​",
            "style": "IPY_MODEL_3e4c12013d95455086e67b71f1a7bdad",
            "value": "100%"
          }
        },
        "63db80cf5e7f4ba494cdfe4c3d44c11c": {
          "model_module": "@jupyter-widgets/controls",
          "model_name": "FloatProgressModel",
          "model_module_version": "1.5.0",
          "state": {
            "_dom_classes": [],
            "_model_module": "@jupyter-widgets/controls",
            "_model_module_version": "1.5.0",
            "_model_name": "FloatProgressModel",
            "_view_count": null,
            "_view_module": "@jupyter-widgets/controls",
            "_view_module_version": "1.5.0",
            "_view_name": "ProgressView",
            "bar_style": "success",
            "description": "",
            "description_tooltip": null,
            "layout": "IPY_MODEL_8e661b1fc7a149efbcafac7293ef662c",
            "max": 3,
            "min": 0,
            "orientation": "horizontal",
            "style": "IPY_MODEL_def28063746d4487a78e0fb3341df29f",
            "value": 3
          }
        },
        "e5382d5430a047a1af4a582bd33e42b4": {
          "model_module": "@jupyter-widgets/controls",
          "model_name": "HTMLModel",
          "model_module_version": "1.5.0",
          "state": {
            "_dom_classes": [],
            "_model_module": "@jupyter-widgets/controls",
            "_model_module_version": "1.5.0",
            "_model_name": "HTMLModel",
            "_view_count": null,
            "_view_module": "@jupyter-widgets/controls",
            "_view_module_version": "1.5.0",
            "_view_name": "HTMLView",
            "description": "",
            "description_tooltip": null,
            "layout": "IPY_MODEL_8e49a68c7204429a91bf672c4d11f4ad",
            "placeholder": "​",
            "style": "IPY_MODEL_04a9e882b9f9457699e0eb3c7a9c1970",
            "value": " 3/3 [00:09&lt;00:00,  3.10s/it]"
          }
        },
        "bde0f72cc0fb46d1ae2d8018df576141": {
          "model_module": "@jupyter-widgets/base",
          "model_name": "LayoutModel",
          "model_module_version": "1.2.0",
          "state": {
            "_model_module": "@jupyter-widgets/base",
            "_model_module_version": "1.2.0",
            "_model_name": "LayoutModel",
            "_view_count": null,
            "_view_module": "@jupyter-widgets/base",
            "_view_module_version": "1.2.0",
            "_view_name": "LayoutView",
            "align_content": null,
            "align_items": null,
            "align_self": null,
            "border": null,
            "bottom": null,
            "display": null,
            "flex": null,
            "flex_flow": null,
            "grid_area": null,
            "grid_auto_columns": null,
            "grid_auto_flow": null,
            "grid_auto_rows": null,
            "grid_column": null,
            "grid_gap": null,
            "grid_row": null,
            "grid_template_areas": null,
            "grid_template_columns": null,
            "grid_template_rows": null,
            "height": null,
            "justify_content": null,
            "justify_items": null,
            "left": null,
            "margin": null,
            "max_height": null,
            "max_width": null,
            "min_height": null,
            "min_width": null,
            "object_fit": null,
            "object_position": null,
            "order": null,
            "overflow": null,
            "overflow_x": null,
            "overflow_y": null,
            "padding": null,
            "right": null,
            "top": null,
            "visibility": null,
            "width": null
          }
        },
        "e7fbb30750024d938caad48aa365b91d": {
          "model_module": "@jupyter-widgets/base",
          "model_name": "LayoutModel",
          "model_module_version": "1.2.0",
          "state": {
            "_model_module": "@jupyter-widgets/base",
            "_model_module_version": "1.2.0",
            "_model_name": "LayoutModel",
            "_view_count": null,
            "_view_module": "@jupyter-widgets/base",
            "_view_module_version": "1.2.0",
            "_view_name": "LayoutView",
            "align_content": null,
            "align_items": null,
            "align_self": null,
            "border": null,
            "bottom": null,
            "display": null,
            "flex": null,
            "flex_flow": null,
            "grid_area": null,
            "grid_auto_columns": null,
            "grid_auto_flow": null,
            "grid_auto_rows": null,
            "grid_column": null,
            "grid_gap": null,
            "grid_row": null,
            "grid_template_areas": null,
            "grid_template_columns": null,
            "grid_template_rows": null,
            "height": null,
            "justify_content": null,
            "justify_items": null,
            "left": null,
            "margin": null,
            "max_height": null,
            "max_width": null,
            "min_height": null,
            "min_width": null,
            "object_fit": null,
            "object_position": null,
            "order": null,
            "overflow": null,
            "overflow_x": null,
            "overflow_y": null,
            "padding": null,
            "right": null,
            "top": null,
            "visibility": null,
            "width": null
          }
        },
        "3e4c12013d95455086e67b71f1a7bdad": {
          "model_module": "@jupyter-widgets/controls",
          "model_name": "DescriptionStyleModel",
          "model_module_version": "1.5.0",
          "state": {
            "_model_module": "@jupyter-widgets/controls",
            "_model_module_version": "1.5.0",
            "_model_name": "DescriptionStyleModel",
            "_view_count": null,
            "_view_module": "@jupyter-widgets/base",
            "_view_module_version": "1.2.0",
            "_view_name": "StyleView",
            "description_width": ""
          }
        },
        "8e661b1fc7a149efbcafac7293ef662c": {
          "model_module": "@jupyter-widgets/base",
          "model_name": "LayoutModel",
          "model_module_version": "1.2.0",
          "state": {
            "_model_module": "@jupyter-widgets/base",
            "_model_module_version": "1.2.0",
            "_model_name": "LayoutModel",
            "_view_count": null,
            "_view_module": "@jupyter-widgets/base",
            "_view_module_version": "1.2.0",
            "_view_name": "LayoutView",
            "align_content": null,
            "align_items": null,
            "align_self": null,
            "border": null,
            "bottom": null,
            "display": null,
            "flex": null,
            "flex_flow": null,
            "grid_area": null,
            "grid_auto_columns": null,
            "grid_auto_flow": null,
            "grid_auto_rows": null,
            "grid_column": null,
            "grid_gap": null,
            "grid_row": null,
            "grid_template_areas": null,
            "grid_template_columns": null,
            "grid_template_rows": null,
            "height": null,
            "justify_content": null,
            "justify_items": null,
            "left": null,
            "margin": null,
            "max_height": null,
            "max_width": null,
            "min_height": null,
            "min_width": null,
            "object_fit": null,
            "object_position": null,
            "order": null,
            "overflow": null,
            "overflow_x": null,
            "overflow_y": null,
            "padding": null,
            "right": null,
            "top": null,
            "visibility": null,
            "width": null
          }
        },
        "def28063746d4487a78e0fb3341df29f": {
          "model_module": "@jupyter-widgets/controls",
          "model_name": "ProgressStyleModel",
          "model_module_version": "1.5.0",
          "state": {
            "_model_module": "@jupyter-widgets/controls",
            "_model_module_version": "1.5.0",
            "_model_name": "ProgressStyleModel",
            "_view_count": null,
            "_view_module": "@jupyter-widgets/base",
            "_view_module_version": "1.2.0",
            "_view_name": "StyleView",
            "bar_color": null,
            "description_width": ""
          }
        },
        "8e49a68c7204429a91bf672c4d11f4ad": {
          "model_module": "@jupyter-widgets/base",
          "model_name": "LayoutModel",
          "model_module_version": "1.2.0",
          "state": {
            "_model_module": "@jupyter-widgets/base",
            "_model_module_version": "1.2.0",
            "_model_name": "LayoutModel",
            "_view_count": null,
            "_view_module": "@jupyter-widgets/base",
            "_view_module_version": "1.2.0",
            "_view_name": "LayoutView",
            "align_content": null,
            "align_items": null,
            "align_self": null,
            "border": null,
            "bottom": null,
            "display": null,
            "flex": null,
            "flex_flow": null,
            "grid_area": null,
            "grid_auto_columns": null,
            "grid_auto_flow": null,
            "grid_auto_rows": null,
            "grid_column": null,
            "grid_gap": null,
            "grid_row": null,
            "grid_template_areas": null,
            "grid_template_columns": null,
            "grid_template_rows": null,
            "height": null,
            "justify_content": null,
            "justify_items": null,
            "left": null,
            "margin": null,
            "max_height": null,
            "max_width": null,
            "min_height": null,
            "min_width": null,
            "object_fit": null,
            "object_position": null,
            "order": null,
            "overflow": null,
            "overflow_x": null,
            "overflow_y": null,
            "padding": null,
            "right": null,
            "top": null,
            "visibility": null,
            "width": null
          }
        },
        "04a9e882b9f9457699e0eb3c7a9c1970": {
          "model_module": "@jupyter-widgets/controls",
          "model_name": "DescriptionStyleModel",
          "model_module_version": "1.5.0",
          "state": {
            "_model_module": "@jupyter-widgets/controls",
            "_model_module_version": "1.5.0",
            "_model_name": "DescriptionStyleModel",
            "_view_count": null,
            "_view_module": "@jupyter-widgets/base",
            "_view_module_version": "1.2.0",
            "_view_name": "StyleView",
            "description_width": ""
          }
        }
      }
    }
  },
  "cells": [
    {
      "cell_type": "markdown",
      "source": [
        "# Getting started with Hugging Face and the ChatGPT API"
      ],
      "metadata": {
        "id": "k8Pu-aoAnYAq"
      }
    },
    {
      "cell_type": "markdown",
      "source": [
        "This notebook walks you through querying a Hugging Face LLM and using an API like the ChatGPT API.\n",
        "\n",
        "This tutorial is only a starting point and does not eliminate the need to dig deeper into those documentation materials linked here."
      ],
      "metadata": {
        "id": "LNZ6XFrlnbmv"
      }
    },
    {
      "cell_type": "markdown",
      "source": [
        "In this tutorial, we will **investigate racial bias** in GPT models."
      ],
      "metadata": {
        "id": "_YblsM1mCYlN"
      }
    },
    {
      "cell_type": "markdown",
      "source": [
        "First, because some of the code you may write can be computationally intensive, we will switch to a GPU to speed up the code. For this notebook, this isn't really necessary, so you might see Google Colab complain. Don't turn GPU on by default (neither in Colab nor GCP), but when you need it.\n",
        "\n",
        "To do so,\n",
        "- Click on the menu at the top right that shows `RAM` and `Disk` (or `Connect` if you haven't connected to a kernel yet)\n",
        "- Click on `View Resources`\n",
        "- Click `Change runtime type` and select `GPU` as a `Hardware accelerator`\n",
        "- Click `Save` and your Colab kernel will restart with the new specification (all variables will be lost)"
      ],
      "metadata": {
        "id": "9y4IDnL2pdqm"
      }
    },
    {
      "cell_type": "markdown",
      "source": [
        "## Hugging Face models"
      ],
      "metadata": {
        "id": "lQU2nYFjl4TB"
      }
    },
    {
      "cell_type": "markdown",
      "source": [
        "### Install packages\n",
        "\n",
        "Colab doesn't have all the packages you need installed, so you have to install them.\n",
        "\n",
        "There are ways to install packages permanently such that you don't have to reinstall every time. If you are interested, check out how to do so [here](https://stackoverflow.com/questions/55253498/how-do-i-install-a-library-permanently-in-colab) and [here](https://netraneupane.medium.com/how-to-install-libraries-permanently-in-google-colab-fb15a585d8a5)."
      ],
      "metadata": {
        "id": "m4eOzIU8s0BN"
      }
    },
    {
      "cell_type": "code",
      "source": [
        "!pip install transformers"
      ],
      "metadata": {
        "colab": {
          "base_uri": "https://localhost:8080/"
        },
        "id": "iN-AgL_-uAZl",
        "outputId": "c21e1a0b-068d-4b48-d7fc-3b0d6c386066"
      },
      "execution_count": null,
      "outputs": [
        {
          "output_type": "stream",
          "name": "stdout",
          "text": [
            "Looking in indexes: https://pypi.org/simple, https://us-python.pkg.dev/colab-wheels/public/simple/\n",
            "Collecting transformers\n",
            "  Downloading transformers-4.30.2-py3-none-any.whl (7.2 MB)\n",
            "\u001b[2K     \u001b[90m━━━━━━━━━━━━━━━━━━━━━━━━━━━━━━━━━━━━━━━━\u001b[0m \u001b[32m7.2/7.2 MB\u001b[0m \u001b[31m59.5 MB/s\u001b[0m eta \u001b[36m0:00:00\u001b[0m\n",
            "\u001b[?25hRequirement already satisfied: filelock in /usr/local/lib/python3.10/dist-packages (from transformers) (3.12.2)\n",
            "Collecting huggingface-hub<1.0,>=0.14.1 (from transformers)\n",
            "  Downloading huggingface_hub-0.15.1-py3-none-any.whl (236 kB)\n",
            "\u001b[2K     \u001b[90m━━━━━━━━━━━━━━━━━━━━━━━━━━━━━━━━━━━━━━\u001b[0m \u001b[32m236.8/236.8 kB\u001b[0m \u001b[31m24.6 MB/s\u001b[0m eta \u001b[36m0:00:00\u001b[0m\n",
            "\u001b[?25hRequirement already satisfied: numpy>=1.17 in /usr/local/lib/python3.10/dist-packages (from transformers) (1.22.4)\n",
            "Requirement already satisfied: packaging>=20.0 in /usr/local/lib/python3.10/dist-packages (from transformers) (23.1)\n",
            "Requirement already satisfied: pyyaml>=5.1 in /usr/local/lib/python3.10/dist-packages (from transformers) (6.0)\n",
            "Requirement already satisfied: regex!=2019.12.17 in /usr/local/lib/python3.10/dist-packages (from transformers) (2022.10.31)\n",
            "Requirement already satisfied: requests in /usr/local/lib/python3.10/dist-packages (from transformers) (2.27.1)\n",
            "Collecting tokenizers!=0.11.3,<0.14,>=0.11.1 (from transformers)\n",
            "  Downloading tokenizers-0.13.3-cp310-cp310-manylinux_2_17_x86_64.manylinux2014_x86_64.whl (7.8 MB)\n",
            "\u001b[2K     \u001b[90m━━━━━━━━━━━━━━━━━━━━━━━━━━━━━━━━━━━━━━━━\u001b[0m \u001b[32m7.8/7.8 MB\u001b[0m \u001b[31m79.2 MB/s\u001b[0m eta \u001b[36m0:00:00\u001b[0m\n",
            "\u001b[?25hCollecting safetensors>=0.3.1 (from transformers)\n",
            "  Downloading safetensors-0.3.1-cp310-cp310-manylinux_2_17_x86_64.manylinux2014_x86_64.whl (1.3 MB)\n",
            "\u001b[2K     \u001b[90m━━━━━━━━━━━━━━━━━━━━━━━━━━━━━━━━━━━━━━━━\u001b[0m \u001b[32m1.3/1.3 MB\u001b[0m \u001b[31m65.2 MB/s\u001b[0m eta \u001b[36m0:00:00\u001b[0m\n",
            "\u001b[?25hRequirement already satisfied: tqdm>=4.27 in /usr/local/lib/python3.10/dist-packages (from transformers) (4.65.0)\n",
            "Requirement already satisfied: fsspec in /usr/local/lib/python3.10/dist-packages (from huggingface-hub<1.0,>=0.14.1->transformers) (2023.6.0)\n",
            "Requirement already satisfied: typing-extensions>=3.7.4.3 in /usr/local/lib/python3.10/dist-packages (from huggingface-hub<1.0,>=0.14.1->transformers) (4.6.3)\n",
            "Requirement already satisfied: urllib3<1.27,>=1.21.1 in /usr/local/lib/python3.10/dist-packages (from requests->transformers) (1.26.16)\n",
            "Requirement already satisfied: certifi>=2017.4.17 in /usr/local/lib/python3.10/dist-packages (from requests->transformers) (2023.5.7)\n",
            "Requirement already satisfied: charset-normalizer~=2.0.0 in /usr/local/lib/python3.10/dist-packages (from requests->transformers) (2.0.12)\n",
            "Requirement already satisfied: idna<4,>=2.5 in /usr/local/lib/python3.10/dist-packages (from requests->transformers) (3.4)\n",
            "Installing collected packages: tokenizers, safetensors, huggingface-hub, transformers\n",
            "Successfully installed huggingface-hub-0.15.1 safetensors-0.3.1 tokenizers-0.13.3 transformers-4.30.2\n"
          ]
        }
      ]
    },
    {
      "cell_type": "markdown",
      "source": [
        "### Import packages"
      ],
      "metadata": {
        "id": "NGfyaOJEuINx"
      }
    },
    {
      "cell_type": "code",
      "source": [
        "import transformers # for working with Hugging Face models\n",
        "from transformers import pipeline, set_seed\n",
        "from transformers import DataCollatorForTokenClassification\n",
        "from transformers import AutoTokenizer, AutoModelForTokenClassification"
      ],
      "metadata": {
        "id": "4-cqLGvVspqJ"
      },
      "execution_count": null,
      "outputs": []
    },
    {
      "cell_type": "code",
      "source": [
        "import pandas as pd # for working with dataframes"
      ],
      "metadata": {
        "id": "ejkqKcmV2Bxm"
      },
      "execution_count": null,
      "outputs": []
    },
    {
      "cell_type": "markdown",
      "source": [
        "[Hugging Face](https://huggingface.co/) is a platform that hosts many machine learning models, including LLMs [GPT-2](https://huggingface.co/gpt2).\n",
        "\n",
        "Make sure you use the right model and version before you work with it. For example, we are using a relatively small version of GPT-2 here for testing purposes, but you would probably want to use a larger and more recent version."
      ],
      "metadata": {
        "id": "hg2ALOlyog-X"
      }
    },
    {
      "cell_type": "markdown",
      "source": [
        "Let's look at an example of loading the GPT-2 model from Huggine Face and using it to complete a sentence."
      ],
      "metadata": {
        "id": "vacPUoZbvMzz"
      }
    },
    {
      "cell_type": "markdown",
      "source": [
        "For models that are well-documented, check out the model information on Hugging Face and the underlying paper or repository to gain more insights about the LLM and issues such as known biases. For example, check out the [Hugging Face documentation for GPT-2](https://huggingface.co/gpt2)."
      ],
      "metadata": {
        "id": "213BtbacyXG4"
      }
    },
    {
      "cell_type": "code",
      "source": [
        "generator = pipeline('text-generation', model='gpt2') # dowload a small version"
      ],
      "metadata": {
        "colab": {
          "base_uri": "https://localhost:8080/",
          "height": 244,
          "referenced_widgets": [
            "f08675f0d842469db1ee0f52d47fea04",
            "37518ee0654146de930b5fbf8172c93f",
            "1643375639bc41309a21a77cb1b2ff38",
            "cca24f9ec075497ba07a1344382bc256",
            "0045c02a04294ac788f3160f81127187",
            "c900937878da4c4882b99b7b9c566d6d",
            "5a29f7f0fb20481b855958201c5813d0",
            "0921db4a806349c1abd0290a6329b9a7",
            "f3910a6ac34747138ce2ee75a01de130",
            "b1bbd88f944142b89a17ff49a0b63728",
            "448f2a45af96427389beae426133c6bc",
            "a3cb04ddda4849ada179c1fc4dbce729",
            "ee952b95ef714c969a1d7d065fa5495e",
            "efe4f7e35faf42b28106ba5d2e0923b6",
            "8655d5dbcf1f43c7b5a761cb705defbe",
            "ec330feb7a7743c48900369a27482aab",
            "e798dd5f820842eb80035794fdae69df",
            "461747be7f3240759c70c4d899ed56b8",
            "4bd9a2e9f56447479054d47fb1378da0",
            "09be6a83e0544fddb953bad91ba7cd8f",
            "c7dc56e28e96455c955128c42c42a77f",
            "c893652df25a4e71aa19069ed79bff94",
            "6cc2539f4a6640e2b5d3948b4bf4cb1e",
            "fb63c5a412d84670b361ec6c1a46291e",
            "8fd450cf773740e699e3f6ff93affbde",
            "b3814f2f826f4c278f8a7e9797ab4737",
            "24735926a34d48dd8ac6bca870523c9a",
            "be9a5d830b0942019765c4628cc566b5",
            "081a35d1fa09476bad076ea6d7122f92",
            "9a80050cb8704e88b82a0e4547caab5b",
            "6de186cbdaeb4aef9ab93a32c44a5d7c",
            "b9cb1baef44d4a43aeca0676ce51f745",
            "fa71f93cc04b4a908e1711388304a35e",
            "9451acfd1e91447fbe28d666b4a89c98",
            "adecb9bd82e94e65928040978b154d35",
            "bba1d69eb8a44e8abcfcd08540a7f9d8",
            "4d948a31da0c4cc293075607e4c0adbe",
            "131e5c2a36084f4e8f0ff1f01090675d",
            "d701742ce843474198e01e45808d31b1",
            "acac0548574a4f8195487a628b4033e4",
            "eb5b6520ac6242239e4100f0433dd318",
            "0f6d8e9f83104d4398b0b5c5bc495132",
            "f742ad699eae45db81d9e6f3d3824f09",
            "6f0f6bb6dac944d389625a80d29f872c",
            "5487856e048c452ab2e65d550330a368",
            "5a1f7d1a16ad4d85ad347e27480eb284",
            "acd861cdfb0e40d387329b5353006590",
            "681f36247d584b918e7f5ec8f7db9467",
            "55aa0f31cf00426dbe19110786f67736",
            "ac2fba262fdd47cea27164afd4c4bf83",
            "d2a5880217a846518e18b52dabf0d07e",
            "9398277d2b50416a912321434fa9cf55",
            "dbc896ea43ec421cb5697cc9165e99bb",
            "317564dafecc4942a5e446ed96fc6ffc",
            "a166dc2c3f6348289b122df7eafbb532",
            "e2c095c147b048b6bb0c299dfad3583a",
            "b14362b671ea49ab87a9c6f271822ba4",
            "41ecea4d8c4048689e965d17ddaf04e7",
            "b310740075d74b32ad5cf3cbc26b2730",
            "fd2cfbae3a534371afaf32e9098c19db",
            "a12943545e8f4f56bcd33e30e93073d4",
            "c005270535f44b5a842996b915eb1e2a",
            "176a87aaed2c4c869c3e78da17f94028",
            "a51cd93a8e094e0f9f0a436b1db012ee",
            "e024795208064430b759150460b134f1",
            "166f13d2d42341058647cd284b158df3"
          ]
        },
        "id": "_gJgcHhywN9I",
        "outputId": "ac68120d-08b3-4bcb-fb8b-1a9b21ebad81"
      },
      "execution_count": null,
      "outputs": [
        {
          "output_type": "display_data",
          "data": {
            "text/plain": [
              "Downloading (…)lve/main/config.json:   0%|          | 0.00/665 [00:00<?, ?B/s]"
            ],
            "application/vnd.jupyter.widget-view+json": {
              "version_major": 2,
              "version_minor": 0,
              "model_id": "f08675f0d842469db1ee0f52d47fea04"
            }
          },
          "metadata": {}
        },
        {
          "output_type": "display_data",
          "data": {
            "text/plain": [
              "Downloading model.safetensors:   0%|          | 0.00/548M [00:00<?, ?B/s]"
            ],
            "application/vnd.jupyter.widget-view+json": {
              "version_major": 2,
              "version_minor": 0,
              "model_id": "a3cb04ddda4849ada179c1fc4dbce729"
            }
          },
          "metadata": {}
        },
        {
          "output_type": "display_data",
          "data": {
            "text/plain": [
              "Downloading (…)neration_config.json:   0%|          | 0.00/124 [00:00<?, ?B/s]"
            ],
            "application/vnd.jupyter.widget-view+json": {
              "version_major": 2,
              "version_minor": 0,
              "model_id": "6cc2539f4a6640e2b5d3948b4bf4cb1e"
            }
          },
          "metadata": {}
        },
        {
          "output_type": "display_data",
          "data": {
            "text/plain": [
              "Downloading (…)olve/main/vocab.json: 0.00B [00:00, ?B/s]"
            ],
            "application/vnd.jupyter.widget-view+json": {
              "version_major": 2,
              "version_minor": 0,
              "model_id": "9451acfd1e91447fbe28d666b4a89c98"
            }
          },
          "metadata": {}
        },
        {
          "output_type": "display_data",
          "data": {
            "text/plain": [
              "Downloading (…)olve/main/merges.txt: 0.00B [00:00, ?B/s]"
            ],
            "application/vnd.jupyter.widget-view+json": {
              "version_major": 2,
              "version_minor": 0,
              "model_id": "5487856e048c452ab2e65d550330a368"
            }
          },
          "metadata": {}
        },
        {
          "output_type": "display_data",
          "data": {
            "text/plain": [
              "Downloading (…)/main/tokenizer.json: 0.00B [00:00, ?B/s]"
            ],
            "application/vnd.jupyter.widget-view+json": {
              "version_major": 2,
              "version_minor": 0,
              "model_id": "e2c095c147b048b6bb0c299dfad3583a"
            }
          },
          "metadata": {}
        },
        {
          "output_type": "stream",
          "name": "stderr",
          "text": [
            "Xformers is not installed correctly. If you want to use memory_efficient_attention to accelerate training use the following command to install Xformers\n",
            "pip install xformers.\n"
          ]
        }
      ]
    },
    {
      "cell_type": "code",
      "source": [
        "set_seed(42) # seet seed for reproducibilty in the same chunk (really important!)\n",
        "generator(\"An American woman tends to be\", max_length=50, num_return_sequences=5)"
      ],
      "metadata": {
        "colab": {
          "base_uri": "https://localhost:8080/"
        },
        "id": "-SjjdN5-w4VD",
        "outputId": "b0fc1ec3-2247-4414-9e69-e7be98df5451"
      },
      "execution_count": null,
      "outputs": [
        {
          "output_type": "stream",
          "name": "stderr",
          "text": [
            "Setting `pad_token_id` to `eos_token_id`:50256 for open-end generation.\n"
          ]
        },
        {
          "output_type": "execute_result",
          "data": {
            "text/plain": [
              "[{'generated_text': 'An American woman tends to be more generous toward her husband when she is angry—and in fact, if you look at her online, the \"likes for him are so high that your only hope of finding out about this isn\\'t your husband\"'},\n",
              " {'generated_text': 'An American woman tends to be among the most polarizing and sometimes even the most unappealing candidates for U.S. leadership.\\n\\nHer own campaign has been labeled anti-woman, hostile to women, racist, racist, xenophobic,'},\n",
              " {'generated_text': 'An American woman tends to be a woman who wants to do things that make people happy and make people feel better about themselves. She has to be able to do both at once in order to make people happy, and to maintain a sense of purpose.\"'},\n",
              " {'generated_text': \"An American woman tends to be extremely close to a woman's partner due to her social/emotional makeup. A woman who is closer to a partner than she normally would rather be, but may also be concerned about her partner's looks. As far\"},\n",
              " {'generated_text': 'An American woman tends to be overcompensated and underpaid, so the government is often not able to provide even nominal benefits. This is more or less to blame for her reluctance to report a fraud to the government.\\n\\nMoreover, the'}]"
            ]
          },
          "metadata": {},
          "execution_count": 38
        }
      ]
    },
    {
      "cell_type": "code",
      "source": [
        "set_seed(42) # seet seed for reproducibilty (really important!)\n",
        "generator(\"A Chinese woman tends to be\", max_length=50, num_return_sequences=5)"
      ],
      "metadata": {
        "colab": {
          "base_uri": "https://localhost:8080/"
        },
        "id": "mL-IjNACxHJ9",
        "outputId": "5ac74777-49c8-4478-af23-bed231e25370"
      },
      "execution_count": null,
      "outputs": [
        {
          "output_type": "stream",
          "name": "stderr",
          "text": [
            "Setting `pad_token_id` to `eos_token_id`:50256 for open-end generation.\n"
          ]
        },
        {
          "output_type": "execute_result",
          "data": {
            "text/plain": [
              "[{'generated_text': \"A Chinese woman tends to be more generous with her donations, but if you're not a typical mom in this country -- or you're the kind of mom to try to be a role model for your kids when they grow up -- then your choices may\"},\n",
              " {'generated_text': \"A Chinese woman tends to be seen as more open-minded and more optimistic in her outlook on life; she is also less likely to be afraid of losing weight over time.\\n\\nAnd that's not to say that when things come to their close\"},\n",
              " {'generated_text': 'A Chinese woman tends to be younger than her American counterpart in terms of age, and Chinese men tend to be more masculine. Asian men tend to be more sexually mature, while white men tend to be more young and mature. Asian women tend to date'},\n",
              " {'generated_text': \"A Chinese woman tends to be extremely close to a woman's partner due to her proximity to her husband. She has always worked with a Chinese woman and still works with Chinese women. However, she might be asked to stop by a man who is far\"},\n",
              " {'generated_text': 'A Chinese woman tends to be her pet food for most of her life. She uses a small variety of fruits and vegetables to keep her plants healthy. She also likes to use her hands to make a variety of items. Chinese women cook with their hands'}]"
            ]
          },
          "metadata": {},
          "execution_count": 39
        }
      ]
    },
    {
      "cell_type": "markdown",
      "source": [
        "Wow, how exciting an insightful (you'll see how much GPT models have improved over time) 😉 We definitely need to save this output."
      ],
      "metadata": {
        "id": "I47FaE-V1knb"
      }
    },
    {
      "cell_type": "markdown",
      "source": [
        "Your models will produce different outputs. In the case above, it is a list, so we can use `Dataframe.from_records` to convert it into a pandas dataframe. Check out the [pandas documentation](https://pandas.pydata.org/docs/user_guide/index.html#user-guide) to find out how create files from the output you"
      ],
      "metadata": {
        "id": "TfSiyE9y2g51"
      }
    },
    {
      "cell_type": "code",
      "source": [
        "# assign model output to a variable\n",
        "set_seed(42)\n",
        "output_chinese_woman_prompt = generator(\"A Chinese woman tends to be\", max_length=50, num_return_sequences=5)\n",
        "\n",
        "# assign model output to a dataframe\n",
        "df_chinese_woman_prompt = pd.DataFrame.from_records(output_chinese_woman_prompt)"
      ],
      "metadata": {
        "colab": {
          "base_uri": "https://localhost:8080/"
        },
        "id": "jrhczbDi1w7-",
        "outputId": "9cf989d0-ef95-41a3-b800-af31ad6f487a"
      },
      "execution_count": null,
      "outputs": [
        {
          "output_type": "stream",
          "name": "stderr",
          "text": [
            "Setting `pad_token_id` to `eos_token_id`:50256 for open-end generation.\n"
          ]
        }
      ]
    },
    {
      "cell_type": "code",
      "source": [
        "# print output preview\n",
        "df_chinese_woman_prompt"
      ],
      "metadata": {
        "colab": {
          "base_uri": "https://localhost:8080/",
          "height": 206
        },
        "id": "8o8_KIf61w-c",
        "outputId": "f55aeed7-aed5-490b-e5fd-d589357878d0"
      },
      "execution_count": null,
      "outputs": [
        {
          "output_type": "execute_result",
          "data": {
            "text/plain": [
              "                                      generated_text\n",
              "0  A Chinese woman tends to be more generous with...\n",
              "1  A Chinese woman tends to be seen as more open-...\n",
              "2  A Chinese woman tends to be younger than her A...\n",
              "3  A Chinese woman tends to be extremely close to...\n",
              "4  A Chinese woman tends to be her pet food for m..."
            ],
            "text/html": [
              "\n",
              "  <div id=\"df-c555e2c3-42ab-4d9d-a3b2-864a1db5a8e7\">\n",
              "    <div class=\"colab-df-container\">\n",
              "      <div>\n",
              "<style scoped>\n",
              "    .dataframe tbody tr th:only-of-type {\n",
              "        vertical-align: middle;\n",
              "    }\n",
              "\n",
              "    .dataframe tbody tr th {\n",
              "        vertical-align: top;\n",
              "    }\n",
              "\n",
              "    .dataframe thead th {\n",
              "        text-align: right;\n",
              "    }\n",
              "</style>\n",
              "<table border=\"1\" class=\"dataframe\">\n",
              "  <thead>\n",
              "    <tr style=\"text-align: right;\">\n",
              "      <th></th>\n",
              "      <th>generated_text</th>\n",
              "    </tr>\n",
              "  </thead>\n",
              "  <tbody>\n",
              "    <tr>\n",
              "      <th>0</th>\n",
              "      <td>A Chinese woman tends to be more generous with...</td>\n",
              "    </tr>\n",
              "    <tr>\n",
              "      <th>1</th>\n",
              "      <td>A Chinese woman tends to be seen as more open-...</td>\n",
              "    </tr>\n",
              "    <tr>\n",
              "      <th>2</th>\n",
              "      <td>A Chinese woman tends to be younger than her A...</td>\n",
              "    </tr>\n",
              "    <tr>\n",
              "      <th>3</th>\n",
              "      <td>A Chinese woman tends to be extremely close to...</td>\n",
              "    </tr>\n",
              "    <tr>\n",
              "      <th>4</th>\n",
              "      <td>A Chinese woman tends to be her pet food for m...</td>\n",
              "    </tr>\n",
              "  </tbody>\n",
              "</table>\n",
              "</div>\n",
              "      <button class=\"colab-df-convert\" onclick=\"convertToInteractive('df-c555e2c3-42ab-4d9d-a3b2-864a1db5a8e7')\"\n",
              "              title=\"Convert this dataframe to an interactive table.\"\n",
              "              style=\"display:none;\">\n",
              "        \n",
              "  <svg xmlns=\"http://www.w3.org/2000/svg\" height=\"24px\"viewBox=\"0 0 24 24\"\n",
              "       width=\"24px\">\n",
              "    <path d=\"M0 0h24v24H0V0z\" fill=\"none\"/>\n",
              "    <path d=\"M18.56 5.44l.94 2.06.94-2.06 2.06-.94-2.06-.94-.94-2.06-.94 2.06-2.06.94zm-11 1L8.5 8.5l.94-2.06 2.06-.94-2.06-.94L8.5 2.5l-.94 2.06-2.06.94zm10 10l.94 2.06.94-2.06 2.06-.94-2.06-.94-.94-2.06-.94 2.06-2.06.94z\"/><path d=\"M17.41 7.96l-1.37-1.37c-.4-.4-.92-.59-1.43-.59-.52 0-1.04.2-1.43.59L10.3 9.45l-7.72 7.72c-.78.78-.78 2.05 0 2.83L4 21.41c.39.39.9.59 1.41.59.51 0 1.02-.2 1.41-.59l7.78-7.78 2.81-2.81c.8-.78.8-2.07 0-2.86zM5.41 20L4 18.59l7.72-7.72 1.47 1.35L5.41 20z\"/>\n",
              "  </svg>\n",
              "      </button>\n",
              "      \n",
              "  <style>\n",
              "    .colab-df-container {\n",
              "      display:flex;\n",
              "      flex-wrap:wrap;\n",
              "      gap: 12px;\n",
              "    }\n",
              "\n",
              "    .colab-df-convert {\n",
              "      background-color: #E8F0FE;\n",
              "      border: none;\n",
              "      border-radius: 50%;\n",
              "      cursor: pointer;\n",
              "      display: none;\n",
              "      fill: #1967D2;\n",
              "      height: 32px;\n",
              "      padding: 0 0 0 0;\n",
              "      width: 32px;\n",
              "    }\n",
              "\n",
              "    .colab-df-convert:hover {\n",
              "      background-color: #E2EBFA;\n",
              "      box-shadow: 0px 1px 2px rgba(60, 64, 67, 0.3), 0px 1px 3px 1px rgba(60, 64, 67, 0.15);\n",
              "      fill: #174EA6;\n",
              "    }\n",
              "\n",
              "    [theme=dark] .colab-df-convert {\n",
              "      background-color: #3B4455;\n",
              "      fill: #D2E3FC;\n",
              "    }\n",
              "\n",
              "    [theme=dark] .colab-df-convert:hover {\n",
              "      background-color: #434B5C;\n",
              "      box-shadow: 0px 1px 3px 1px rgba(0, 0, 0, 0.15);\n",
              "      filter: drop-shadow(0px 1px 2px rgba(0, 0, 0, 0.3));\n",
              "      fill: #FFFFFF;\n",
              "    }\n",
              "  </style>\n",
              "\n",
              "      <script>\n",
              "        const buttonEl =\n",
              "          document.querySelector('#df-c555e2c3-42ab-4d9d-a3b2-864a1db5a8e7 button.colab-df-convert');\n",
              "        buttonEl.style.display =\n",
              "          google.colab.kernel.accessAllowed ? 'block' : 'none';\n",
              "\n",
              "        async function convertToInteractive(key) {\n",
              "          const element = document.querySelector('#df-c555e2c3-42ab-4d9d-a3b2-864a1db5a8e7');\n",
              "          const dataTable =\n",
              "            await google.colab.kernel.invokeFunction('convertToInteractive',\n",
              "                                                     [key], {});\n",
              "          if (!dataTable) return;\n",
              "\n",
              "          const docLinkHtml = 'Like what you see? Visit the ' +\n",
              "            '<a target=\"_blank\" href=https://colab.research.google.com/notebooks/data_table.ipynb>data table notebook</a>'\n",
              "            + ' to learn more about interactive tables.';\n",
              "          element.innerHTML = '';\n",
              "          dataTable['output_type'] = 'display_data';\n",
              "          await google.colab.output.renderOutput(dataTable, element);\n",
              "          const docLink = document.createElement('div');\n",
              "          docLink.innerHTML = docLinkHtml;\n",
              "          element.appendChild(docLink);\n",
              "        }\n",
              "      </script>\n",
              "    </div>\n",
              "  </div>\n",
              "  "
            ]
          },
          "metadata": {},
          "execution_count": 48
        }
      ]
    },
    {
      "cell_type": "markdown",
      "source": [
        "## ChatGPT API"
      ],
      "metadata": {
        "id": "5MppW9r5l76c"
      }
    },
    {
      "cell_type": "markdown",
      "source": [
        "### Install packages"
      ],
      "metadata": {
        "id": "ZByvzVO67txM"
      }
    },
    {
      "cell_type": "code",
      "source": [
        "!pip install openai"
      ],
      "metadata": {
        "colab": {
          "base_uri": "https://localhost:8080/"
        },
        "id": "ccOJ-L0E7Jzh",
        "outputId": "aff85904-566c-4111-c1d8-59d975e49d58"
      },
      "execution_count": null,
      "outputs": [
        {
          "output_type": "stream",
          "name": "stdout",
          "text": [
            "Looking in indexes: https://pypi.org/simple, https://us-python.pkg.dev/colab-wheels/public/simple/\n",
            "Collecting openai\n",
            "  Downloading openai-0.27.8-py3-none-any.whl (73 kB)\n",
            "\u001b[2K     \u001b[90m━━━━━━━━━━━━━━━━━━━━━━━━━━━━━━━━━━━━━━━━\u001b[0m \u001b[32m73.6/73.6 kB\u001b[0m \u001b[31m6.8 MB/s\u001b[0m eta \u001b[36m0:00:00\u001b[0m\n",
            "\u001b[?25hRequirement already satisfied: requests>=2.20 in /usr/local/lib/python3.10/dist-packages (from openai) (2.27.1)\n",
            "Requirement already satisfied: tqdm in /usr/local/lib/python3.10/dist-packages (from openai) (4.65.0)\n",
            "Requirement already satisfied: aiohttp in /usr/local/lib/python3.10/dist-packages (from openai) (3.8.4)\n",
            "Requirement already satisfied: urllib3<1.27,>=1.21.1 in /usr/local/lib/python3.10/dist-packages (from requests>=2.20->openai) (1.26.16)\n",
            "Requirement already satisfied: certifi>=2017.4.17 in /usr/local/lib/python3.10/dist-packages (from requests>=2.20->openai) (2023.5.7)\n",
            "Requirement already satisfied: charset-normalizer~=2.0.0 in /usr/local/lib/python3.10/dist-packages (from requests>=2.20->openai) (2.0.12)\n",
            "Requirement already satisfied: idna<4,>=2.5 in /usr/local/lib/python3.10/dist-packages (from requests>=2.20->openai) (3.4)\n",
            "Requirement already satisfied: attrs>=17.3.0 in /usr/local/lib/python3.10/dist-packages (from aiohttp->openai) (23.1.0)\n",
            "Requirement already satisfied: multidict<7.0,>=4.5 in /usr/local/lib/python3.10/dist-packages (from aiohttp->openai) (6.0.4)\n",
            "Requirement already satisfied: async-timeout<5.0,>=4.0.0a3 in /usr/local/lib/python3.10/dist-packages (from aiohttp->openai) (4.0.2)\n",
            "Requirement already satisfied: yarl<2.0,>=1.0 in /usr/local/lib/python3.10/dist-packages (from aiohttp->openai) (1.9.2)\n",
            "Requirement already satisfied: frozenlist>=1.1.1 in /usr/local/lib/python3.10/dist-packages (from aiohttp->openai) (1.3.3)\n",
            "Requirement already satisfied: aiosignal>=1.1.2 in /usr/local/lib/python3.10/dist-packages (from aiohttp->openai) (1.3.1)\n",
            "Installing collected packages: openai\n",
            "Successfully installed openai-0.27.8\n"
          ]
        }
      ]
    },
    {
      "cell_type": "markdown",
      "source": [
        "### Import packages"
      ],
      "metadata": {
        "id": "akYW8c0N7wxz"
      }
    },
    {
      "cell_type": "code",
      "source": [
        "import openai\n",
        "import getpass # for keeping API key secret\n",
        "import os\n",
        "from tqdm.notebook import tqdm # for progress bars"
      ],
      "metadata": {
        "id": "a4wVJpwh7sGE"
      },
      "execution_count": null,
      "outputs": []
    },
    {
      "cell_type": "markdown",
      "source": [
        "### Signing up for ChatGPT API"
      ],
      "metadata": {
        "id": "3Gs1FXe2WOoF"
      }
    },
    {
      "cell_type": "markdown",
      "source": [
        "First, sign up for an OpenAI account at https://openai.com/chatgpt.\n",
        "\n",
        "  - When you sign up, a secret key will be create that will allow you to access the ChatGPT API. Save this key. You will have to use it in your scripts. You can find your key at https://platform.openai.com/account/api-keys\n",
        "  - Use packages like `getpass` to avoid sharing your key anywhere. **Do not use someone else's key. Do not share your key. Do not post it anywhere publicly.**\n",
        "  - Change the `Default Organization` from `Personal` to `Pan Research Group` such that the API requests for made with your key are billed to Pan Research Group (if you use your key for personal projects, that should obviously not be billed to the group)"
      ],
      "metadata": {
        "id": "M3sLjGJI55ts"
      }
    },
    {
      "cell_type": "markdown",
      "source": [
        "OpenAI has a detailed [documentation for their ChatGPT API](https://platform.openai.com/docs/api-reference/introduction). This also addresses [rate limit errors](https://platform.openai.com/docs/guides/rate-limits/overview) which can occur if you exceed the [rate limits](https://platform.openai.com/account/rate-limits).\n",
        "\n",
        "Also check out the [OpenAI Guides](https://help.openai.com/en/collections/3965536-guides), including the ones on [text completion](https://help.openai.com/en/articles/7437022-text-completion) and [chat](https://help.openai.com/en/articles/7437211-chat-beta)."
      ],
      "metadata": {
        "id": "svU8u1wF6oUG"
      }
    },
    {
      "cell_type": "markdown",
      "source": [
        "### Making API calls"
      ],
      "metadata": {
        "id": "NXCxZw9mWVGm"
      }
    },
    {
      "cell_type": "markdown",
      "source": [
        "This example builds on the [Demo - OpenAI API notebook](https://colab.research.google.com/drive/1ylmsjem3h65kO-TzA4pLvA1PGj4JrCUP)."
      ],
      "metadata": {
        "id": "X0U7fs2agQIE"
      }
    },
    {
      "cell_type": "code",
      "source": [
        "key = getpass.getpass('Paste your API key when prompted and hit enter')\n",
        "openai.api_key = key"
      ],
      "metadata": {
        "colab": {
          "base_uri": "https://localhost:8080/"
        },
        "id": "hLLaV2G4L2hY",
        "outputId": "52fac851-d9e1-44f6-f6d8-930bb3c8deea"
      },
      "execution_count": null,
      "outputs": [
        {
          "name": "stdout",
          "output_type": "stream",
          "text": [
            "Paste your API key when prompted and hit enter··········\n"
          ]
        }
      ]
    },
    {
      "cell_type": "markdown",
      "source": [
        "#### Find available models"
      ],
      "metadata": {
        "id": "gYIB5UvLX_r1"
      }
    },
    {
      "cell_type": "markdown",
      "source": [
        "Use `openai.Model.list()` to retrieve all available models. Below, you can see the models that contain `gpt` in their name because they will be most relevant to this project."
      ],
      "metadata": {
        "id": "wSCJjhWBYB4D"
      }
    },
    {
      "cell_type": "code",
      "source": [
        "df_models = pd.json_normalize(openai.Model.list()['data'])"
      ],
      "metadata": {
        "id": "zYvG1W-xWotM"
      },
      "execution_count": null,
      "outputs": []
    },
    {
      "cell_type": "code",
      "source": [
        "df_models[df_models['id'].str.contains('gpt')]"
      ],
      "metadata": {
        "colab": {
          "base_uri": "https://localhost:8080/",
          "height": 238
        },
        "id": "W_iunviuXd3A",
        "outputId": "7259d640-0bc2-4154-e245-73bba5b186e9"
      },
      "execution_count": null,
      "outputs": [
        {
          "output_type": "execute_result",
          "data": {
            "text/plain": [
              "                         id object     created         owned_by  \\\n",
              "14  gpt-3-5-turbo-snap-0613  model  1687800829           system   \n",
              "45       gpt-3.5-turbo-0613  model  1686587434           openai   \n",
              "47   gpt-3.5-turbo-16k-0613  model  1685474247           openai   \n",
              "52       gpt-3.5-turbo-0301  model  1677649963           openai   \n",
              "53            gpt-3.5-turbo  model  1677610602           openai   \n",
              "54        gpt-3.5-turbo-16k  model  1683758102  openai-internal   \n",
              "\n",
              "                                           permission  \\\n",
              "14  [{'id': 'modelperm-XAhrtYZnQupJSBom0hxwOg1p', ...   \n",
              "45  [{'id': 'modelperm-4LMjvnTrMtQH6DRJDyARcjRv', ...   \n",
              "47  [{'id': 'modelperm-frXtfLMXYirfJ90w5WLZ2m0R', ...   \n",
              "52  [{'id': 'modelperm-SLKYPTq6k8bPzA3szBMGKSMb', ...   \n",
              "53  [{'id': 'modelperm-ZWWMDMUVkqDYZ2T2zS1PQplZ', ...   \n",
              "54  [{'id': 'modelperm-aWWqGUuH89B9wvTJopJhCrK8', ...   \n",
              "\n",
              "                       root parent  \n",
              "14  gpt-3-5-turbo-snap-0613   None  \n",
              "45       gpt-3.5-turbo-0613   None  \n",
              "47   gpt-3.5-turbo-16k-0613   None  \n",
              "52       gpt-3.5-turbo-0301   None  \n",
              "53            gpt-3.5-turbo   None  \n",
              "54        gpt-3.5-turbo-16k   None  "
            ],
            "text/html": [
              "\n",
              "  <div id=\"df-fb8a887a-3332-4974-862f-602e3cc06c0b\">\n",
              "    <div class=\"colab-df-container\">\n",
              "      <div>\n",
              "<style scoped>\n",
              "    .dataframe tbody tr th:only-of-type {\n",
              "        vertical-align: middle;\n",
              "    }\n",
              "\n",
              "    .dataframe tbody tr th {\n",
              "        vertical-align: top;\n",
              "    }\n",
              "\n",
              "    .dataframe thead th {\n",
              "        text-align: right;\n",
              "    }\n",
              "</style>\n",
              "<table border=\"1\" class=\"dataframe\">\n",
              "  <thead>\n",
              "    <tr style=\"text-align: right;\">\n",
              "      <th></th>\n",
              "      <th>id</th>\n",
              "      <th>object</th>\n",
              "      <th>created</th>\n",
              "      <th>owned_by</th>\n",
              "      <th>permission</th>\n",
              "      <th>root</th>\n",
              "      <th>parent</th>\n",
              "    </tr>\n",
              "  </thead>\n",
              "  <tbody>\n",
              "    <tr>\n",
              "      <th>14</th>\n",
              "      <td>gpt-3-5-turbo-snap-0613</td>\n",
              "      <td>model</td>\n",
              "      <td>1687800829</td>\n",
              "      <td>system</td>\n",
              "      <td>[{'id': 'modelperm-XAhrtYZnQupJSBom0hxwOg1p', ...</td>\n",
              "      <td>gpt-3-5-turbo-snap-0613</td>\n",
              "      <td>None</td>\n",
              "    </tr>\n",
              "    <tr>\n",
              "      <th>45</th>\n",
              "      <td>gpt-3.5-turbo-0613</td>\n",
              "      <td>model</td>\n",
              "      <td>1686587434</td>\n",
              "      <td>openai</td>\n",
              "      <td>[{'id': 'modelperm-4LMjvnTrMtQH6DRJDyARcjRv', ...</td>\n",
              "      <td>gpt-3.5-turbo-0613</td>\n",
              "      <td>None</td>\n",
              "    </tr>\n",
              "    <tr>\n",
              "      <th>47</th>\n",
              "      <td>gpt-3.5-turbo-16k-0613</td>\n",
              "      <td>model</td>\n",
              "      <td>1685474247</td>\n",
              "      <td>openai</td>\n",
              "      <td>[{'id': 'modelperm-frXtfLMXYirfJ90w5WLZ2m0R', ...</td>\n",
              "      <td>gpt-3.5-turbo-16k-0613</td>\n",
              "      <td>None</td>\n",
              "    </tr>\n",
              "    <tr>\n",
              "      <th>52</th>\n",
              "      <td>gpt-3.5-turbo-0301</td>\n",
              "      <td>model</td>\n",
              "      <td>1677649963</td>\n",
              "      <td>openai</td>\n",
              "      <td>[{'id': 'modelperm-SLKYPTq6k8bPzA3szBMGKSMb', ...</td>\n",
              "      <td>gpt-3.5-turbo-0301</td>\n",
              "      <td>None</td>\n",
              "    </tr>\n",
              "    <tr>\n",
              "      <th>53</th>\n",
              "      <td>gpt-3.5-turbo</td>\n",
              "      <td>model</td>\n",
              "      <td>1677610602</td>\n",
              "      <td>openai</td>\n",
              "      <td>[{'id': 'modelperm-ZWWMDMUVkqDYZ2T2zS1PQplZ', ...</td>\n",
              "      <td>gpt-3.5-turbo</td>\n",
              "      <td>None</td>\n",
              "    </tr>\n",
              "    <tr>\n",
              "      <th>54</th>\n",
              "      <td>gpt-3.5-turbo-16k</td>\n",
              "      <td>model</td>\n",
              "      <td>1683758102</td>\n",
              "      <td>openai-internal</td>\n",
              "      <td>[{'id': 'modelperm-aWWqGUuH89B9wvTJopJhCrK8', ...</td>\n",
              "      <td>gpt-3.5-turbo-16k</td>\n",
              "      <td>None</td>\n",
              "    </tr>\n",
              "  </tbody>\n",
              "</table>\n",
              "</div>\n",
              "      <button class=\"colab-df-convert\" onclick=\"convertToInteractive('df-fb8a887a-3332-4974-862f-602e3cc06c0b')\"\n",
              "              title=\"Convert this dataframe to an interactive table.\"\n",
              "              style=\"display:none;\">\n",
              "        \n",
              "  <svg xmlns=\"http://www.w3.org/2000/svg\" height=\"24px\"viewBox=\"0 0 24 24\"\n",
              "       width=\"24px\">\n",
              "    <path d=\"M0 0h24v24H0V0z\" fill=\"none\"/>\n",
              "    <path d=\"M18.56 5.44l.94 2.06.94-2.06 2.06-.94-2.06-.94-.94-2.06-.94 2.06-2.06.94zm-11 1L8.5 8.5l.94-2.06 2.06-.94-2.06-.94L8.5 2.5l-.94 2.06-2.06.94zm10 10l.94 2.06.94-2.06 2.06-.94-2.06-.94-.94-2.06-.94 2.06-2.06.94z\"/><path d=\"M17.41 7.96l-1.37-1.37c-.4-.4-.92-.59-1.43-.59-.52 0-1.04.2-1.43.59L10.3 9.45l-7.72 7.72c-.78.78-.78 2.05 0 2.83L4 21.41c.39.39.9.59 1.41.59.51 0 1.02-.2 1.41-.59l7.78-7.78 2.81-2.81c.8-.78.8-2.07 0-2.86zM5.41 20L4 18.59l7.72-7.72 1.47 1.35L5.41 20z\"/>\n",
              "  </svg>\n",
              "      </button>\n",
              "      \n",
              "  <style>\n",
              "    .colab-df-container {\n",
              "      display:flex;\n",
              "      flex-wrap:wrap;\n",
              "      gap: 12px;\n",
              "    }\n",
              "\n",
              "    .colab-df-convert {\n",
              "      background-color: #E8F0FE;\n",
              "      border: none;\n",
              "      border-radius: 50%;\n",
              "      cursor: pointer;\n",
              "      display: none;\n",
              "      fill: #1967D2;\n",
              "      height: 32px;\n",
              "      padding: 0 0 0 0;\n",
              "      width: 32px;\n",
              "    }\n",
              "\n",
              "    .colab-df-convert:hover {\n",
              "      background-color: #E2EBFA;\n",
              "      box-shadow: 0px 1px 2px rgba(60, 64, 67, 0.3), 0px 1px 3px 1px rgba(60, 64, 67, 0.15);\n",
              "      fill: #174EA6;\n",
              "    }\n",
              "\n",
              "    [theme=dark] .colab-df-convert {\n",
              "      background-color: #3B4455;\n",
              "      fill: #D2E3FC;\n",
              "    }\n",
              "\n",
              "    [theme=dark] .colab-df-convert:hover {\n",
              "      background-color: #434B5C;\n",
              "      box-shadow: 0px 1px 3px 1px rgba(0, 0, 0, 0.15);\n",
              "      filter: drop-shadow(0px 1px 2px rgba(0, 0, 0, 0.3));\n",
              "      fill: #FFFFFF;\n",
              "    }\n",
              "  </style>\n",
              "\n",
              "      <script>\n",
              "        const buttonEl =\n",
              "          document.querySelector('#df-fb8a887a-3332-4974-862f-602e3cc06c0b button.colab-df-convert');\n",
              "        buttonEl.style.display =\n",
              "          google.colab.kernel.accessAllowed ? 'block' : 'none';\n",
              "\n",
              "        async function convertToInteractive(key) {\n",
              "          const element = document.querySelector('#df-fb8a887a-3332-4974-862f-602e3cc06c0b');\n",
              "          const dataTable =\n",
              "            await google.colab.kernel.invokeFunction('convertToInteractive',\n",
              "                                                     [key], {});\n",
              "          if (!dataTable) return;\n",
              "\n",
              "          const docLinkHtml = 'Like what you see? Visit the ' +\n",
              "            '<a target=\"_blank\" href=https://colab.research.google.com/notebooks/data_table.ipynb>data table notebook</a>'\n",
              "            + ' to learn more about interactive tables.';\n",
              "          element.innerHTML = '';\n",
              "          dataTable['output_type'] = 'display_data';\n",
              "          await google.colab.output.renderOutput(dataTable, element);\n",
              "          const docLink = document.createElement('div');\n",
              "          docLink.innerHTML = docLinkHtml;\n",
              "          element.appendChild(docLink);\n",
              "        }\n",
              "      </script>\n",
              "    </div>\n",
              "  </div>\n",
              "  "
            ]
          },
          "metadata": {},
          "execution_count": 22
        }
      ]
    },
    {
      "cell_type": "markdown",
      "source": [
        "### Specify API call parameters"
      ],
      "metadata": {
        "id": "wQrLG2OXYZQ6"
      }
    },
    {
      "cell_type": "markdown",
      "source": [
        "To make an API call, you will have to specify various paramters, including\n",
        "\n",
        "- `model`: the model you want to use\n",
        "- `messages`: the prompt(s) you want to feed the model\n",
        "- `temparature`: how deterministic model outout should be (optional)\n",
        "- `max_tokens`: how many tokens the model should generate at maximum"
      ],
      "metadata": {
        "id": "KO_sF4OHYfbQ"
      }
    },
    {
      "cell_type": "code",
      "source": [
        "model = \"gpt-3.5-turbo\" # define the model you want to use"
      ],
      "metadata": {
        "id": "nInyRMG-YOmT"
      },
      "execution_count": null,
      "outputs": []
    },
    {
      "cell_type": "code",
      "source": [
        "chatgpt_prompt_american_woman = [{\"role\": \"user\",\n",
        "                                  \"content\": \"An American woman tends to be\"}]"
      ],
      "metadata": {
        "id": "4pkiessTaXhy"
      },
      "execution_count": null,
      "outputs": []
    },
    {
      "cell_type": "code",
      "source": [
        "response_american_woman_prompt = openai.ChatCompletion.create(\n",
        "        model=model,\n",
        "        messages=chatgpt_prompt_american_woman,\n",
        "        temperature=0, # makes output more deterministic\n",
        "        max_tokens=100) # limits size of tokens returned"
      ],
      "metadata": {
        "id": "vMtfIKk9aXkp"
      },
      "execution_count": null,
      "outputs": []
    },
    {
      "cell_type": "code",
      "source": [
        "response_american_woman_prompt"
      ],
      "metadata": {
        "colab": {
          "base_uri": "https://localhost:8080/"
        },
        "id": "HKIF1ZuBaXm-",
        "outputId": "10f39d9c-0c69-4215-91b6-6cf00df4287e"
      },
      "execution_count": null,
      "outputs": [
        {
          "output_type": "execute_result",
          "data": {
            "text/plain": [
              "<OpenAIObject chat.completion id=chatcmpl-7VnFdHhR9zJJWcesE9SoE6xeU8KnQ at 0x7fa73940ae80> JSON: {\n",
              "  \"id\": \"chatcmpl-7VnFdHhR9zJJWcesE9SoE6xeU8KnQ\",\n",
              "  \"object\": \"chat.completion\",\n",
              "  \"created\": 1687811845,\n",
              "  \"model\": \"gpt-3.5-turbo-0301\",\n",
              "  \"choices\": [\n",
              "    {\n",
              "      \"index\": 0,\n",
              "      \"message\": {\n",
              "        \"role\": \"assistant\",\n",
              "        \"content\": \"independent, confident, and assertive. She values her individuality and often strives to achieve her goals and aspirations. She is also typically open-minded and accepting of diversity, and values equality and fairness. Additionally, she may be patriotic and proud of her country's history and values.\"\n",
              "      },\n",
              "      \"finish_reason\": \"stop\"\n",
              "    }\n",
              "  ],\n",
              "  \"usage\": {\n",
              "    \"prompt_tokens\": 14,\n",
              "    \"completion_tokens\": 57,\n",
              "    \"total_tokens\": 71\n",
              "  }\n",
              "}"
            ]
          },
          "metadata": {},
          "execution_count": 42
        }
      ]
    },
    {
      "cell_type": "code",
      "source": [
        "chatgpt_prompt_chinese_woman = [{\"role\": \"user\",\n",
        "                                \"content\": \"A Chinese woman tends to be\"}]"
      ],
      "metadata": {
        "id": "UCe0KcNyYRqR"
      },
      "execution_count": null,
      "outputs": []
    },
    {
      "cell_type": "code",
      "source": [
        "response_chinese_woman_prompt = openai.ChatCompletion.create(\n",
        "        model=model,\n",
        "        messages=chatgpt_prompt_chinese_woman,\n",
        "        temperature=0, # makes output more deterministic\n",
        "        max_tokens=100) # limits size of tokens returned"
      ],
      "metadata": {
        "id": "yci8mgmO9gWL"
      },
      "execution_count": null,
      "outputs": []
    },
    {
      "cell_type": "code",
      "source": [
        "response_chinese_woman_prompt"
      ],
      "metadata": {
        "colab": {
          "base_uri": "https://localhost:8080/"
        },
        "id": "R04OmWzN9gY7",
        "outputId": "e44bd10d-b053-4bcd-9bd6-c3b9611984ee"
      },
      "execution_count": null,
      "outputs": [
        {
          "output_type": "execute_result",
          "data": {
            "text/plain": [
              "<OpenAIObject chat.completion id=chatcmpl-7VnGDxXIi2WdR05gyjPbJU630kagf at 0x7fa7386606d0> JSON: {\n",
              "  \"id\": \"chatcmpl-7VnGDxXIi2WdR05gyjPbJU630kagf\",\n",
              "  \"object\": \"chat.completion\",\n",
              "  \"created\": 1687811881,\n",
              "  \"model\": \"gpt-3.5-turbo-0301\",\n",
              "  \"choices\": [\n",
              "    {\n",
              "      \"index\": 0,\n",
              "      \"message\": {\n",
              "        \"role\": \"assistant\",\n",
              "        \"content\": \"family-oriented and values traditional gender roles. She is often hardworking and dedicated to her family's well-being. Education is highly valued in Chinese culture, and many women strive for academic and professional success. However, there is still a significant gender gap in the workforce, and women often face discrimination and limited opportunities for advancement. Despite these challenges, Chinese women have made significant strides in recent years, and many are breaking barriers and achieving success in various fields.\"\n",
              "      },\n",
              "      \"finish_reason\": \"stop\"\n",
              "    }\n",
              "  ],\n",
              "  \"usage\": {\n",
              "    \"prompt_tokens\": 14,\n",
              "    \"completion_tokens\": 90,\n",
              "    \"total_tokens\": 104\n",
              "  }\n",
              "}"
            ]
          },
          "metadata": {},
          "execution_count": 47
        }
      ]
    },
    {
      "cell_type": "markdown",
      "source": [
        "You will see how much of a difference the prompt makes. If you made the same two requests at the same time, the model would acknowledge that it returns biased content."
      ],
      "metadata": {
        "id": "_9lI0GClaN-3"
      }
    },
    {
      "cell_type": "code",
      "source": [
        "chatgpt_prompt_women = [{\"role\": \"user\",\n",
        "                         \"content\": \"An American woman tends to be\"},\n",
        "                        {\"role\": \"user\",\n",
        "                         \"content\": \"A Chinese woman tends to be\"}]"
      ],
      "metadata": {
        "id": "w5DH3ufDbacO"
      },
      "execution_count": null,
      "outputs": []
    },
    {
      "cell_type": "code",
      "source": [
        "response_women_prompt = openai.ChatCompletion.create(\n",
        "        model=model,\n",
        "        messages=chatgpt_prompt_women,\n",
        "        temperature=0, # makes output more deterministic\n",
        "        max_tokens=100) # limits size of tokens returned"
      ],
      "metadata": {
        "id": "OyakXB_Qblbp"
      },
      "execution_count": null,
      "outputs": []
    },
    {
      "cell_type": "code",
      "source": [
        "response_women_prompt"
      ],
      "metadata": {
        "colab": {
          "base_uri": "https://localhost:8080/"
        },
        "id": "gCPV69kcboJg",
        "outputId": "ca247c60-a9d4-4fce-f9d7-8bb554be821f"
      },
      "execution_count": null,
      "outputs": [
        {
          "output_type": "execute_result",
          "data": {
            "text/plain": [
              "<OpenAIObject chat.completion id=chatcmpl-7VnxS8DnD9Dp5cL7FIlpJePDeh70g at 0x7fe85146ae30> JSON: {\n",
              "  \"id\": \"chatcmpl-7VnxS8DnD9Dp5cL7FIlpJePDeh70g\",\n",
              "  \"object\": \"chat.completion\",\n",
              "  \"created\": 1687814562,\n",
              "  \"model\": \"gpt-3.5-turbo-0301\",\n",
              "  \"choices\": [\n",
              "    {\n",
              "      \"index\": 0,\n",
              "      \"message\": {\n",
              "        \"role\": \"assistant\",\n",
              "        \"content\": \"As an AI language model, I cannot make generalizations about entire groups of people based on their nationality or ethnicity. It is important to recognize that individuals are unique and cannot be defined solely by their cultural background.\"\n",
              "      },\n",
              "      \"finish_reason\": \"stop\"\n",
              "    }\n",
              "  ],\n",
              "  \"usage\": {\n",
              "    \"prompt_tokens\": 25,\n",
              "    \"completion_tokens\": 42,\n",
              "    \"total_tokens\": 67\n",
              "  }\n",
              "}"
            ]
          },
          "metadata": {},
          "execution_count": 20
        }
      ]
    },
    {
      "cell_type": "markdown",
      "source": [
        "The ChatGPT API has limits, such as the number of tokens you can request. To see how many tokens a given prompt took, you can run"
      ],
      "metadata": {
        "id": "Uy8fxYZvcgEf"
      }
    },
    {
      "cell_type": "code",
      "source": [
        "# check how many tokens were used\n",
        "response_women_prompt['usage']['total_tokens']"
      ],
      "metadata": {
        "colab": {
          "base_uri": "https://localhost:8080/"
        },
        "id": "30Z2KF4KZIiS",
        "outputId": "7879a1c1-0de9-40c3-ac33-f37cc30595ef"
      },
      "execution_count": null,
      "outputs": [
        {
          "output_type": "execute_result",
          "data": {
            "text/plain": [
              "67"
            ]
          },
          "metadata": {},
          "execution_count": 21
        }
      ]
    },
    {
      "cell_type": "markdown",
      "source": [
        "The ChatGPT API returns a JSON object/a dictionary.\n",
        "\n",
        "You might want to save the response as a JSON file.\n",
        "\n",
        "If you want to save it as a dataframe, it takes some formatting to get it into a rectangular shape. The example above is specific to this response, other queries with more interactions might have to be handled differently, but likely using the same functions (specifically, `json_normalize` in `pandas` will be helpful, and you can also check out the `itertools` package."
      ],
      "metadata": {
        "id": "HMjd7Q3WI7M6"
      }
    },
    {
      "cell_type": "code",
      "source": [
        "# reshaping response into a dataframe\n",
        "df_chatgpt_prompt = pd.json_normalize(response_women_prompt)"
      ],
      "metadata": {
        "id": "Rp7hbmVhGhDd"
      },
      "execution_count": null,
      "outputs": []
    },
    {
      "cell_type": "markdown",
      "source": [
        "This still has a dictionary for the different choices (message, role etc.), so we flatten further."
      ],
      "metadata": {
        "id": "q-7GRP-QJjKQ"
      }
    },
    {
      "cell_type": "code",
      "source": [
        "df_choice_details = pd.json_normalize(df_chatgpt_prompt['choices'][0])"
      ],
      "metadata": {
        "id": "zUctG-j7Jc32"
      },
      "execution_count": null,
      "outputs": []
    },
    {
      "cell_type": "markdown",
      "source": [
        "And then bind the two dataframes together columnwise."
      ],
      "metadata": {
        "id": "f_SRp3CxJrPX"
      }
    },
    {
      "cell_type": "code",
      "source": [
        "df_chatgpt_prompt = pd.concat([df_chatgpt_prompt, df_choice_details], axis=1)"
      ],
      "metadata": {
        "id": "4wN34kFsJc6L"
      },
      "execution_count": null,
      "outputs": []
    },
    {
      "cell_type": "code",
      "source": [
        "df_chatgpt_prompt = df_chatgpt_prompt.drop('choices', axis=1) # drop the choices variable that is not needed anymore"
      ],
      "metadata": {
        "id": "d2NECdk4dtqg"
      },
      "execution_count": null,
      "outputs": []
    },
    {
      "cell_type": "code",
      "source": [
        "df_chatgpt_prompt"
      ],
      "metadata": {
        "colab": {
          "base_uri": "https://localhost:8080/",
          "height": 197
        },
        "id": "Xl1houJedmaI",
        "outputId": "3f79dc92-b5ba-494d-b3a7-df43403528de"
      },
      "execution_count": null,
      "outputs": [
        {
          "output_type": "execute_result",
          "data": {
            "text/plain": [
              "                                       id           object     created  \\\n",
              "0  chatcmpl-7VnHbxjkwRjNSulBP2wnC7gPJaiAZ  chat.completion  1687811967   \n",
              "\n",
              "                model  usage.prompt_tokens  usage.completion_tokens  \\\n",
              "0  gpt-3.5-turbo-0301                   25                       42   \n",
              "\n",
              "   usage.total_tokens  index finish_reason message.role  \\\n",
              "0                  67      0          stop    assistant   \n",
              "\n",
              "                                     message.content  \n",
              "0  As an AI language model, I cannot make general...  "
            ],
            "text/html": [
              "\n",
              "  <div id=\"df-799c7036-c51b-41b7-9f72-1b9703a7bb52\">\n",
              "    <div class=\"colab-df-container\">\n",
              "      <div>\n",
              "<style scoped>\n",
              "    .dataframe tbody tr th:only-of-type {\n",
              "        vertical-align: middle;\n",
              "    }\n",
              "\n",
              "    .dataframe tbody tr th {\n",
              "        vertical-align: top;\n",
              "    }\n",
              "\n",
              "    .dataframe thead th {\n",
              "        text-align: right;\n",
              "    }\n",
              "</style>\n",
              "<table border=\"1\" class=\"dataframe\">\n",
              "  <thead>\n",
              "    <tr style=\"text-align: right;\">\n",
              "      <th></th>\n",
              "      <th>id</th>\n",
              "      <th>object</th>\n",
              "      <th>created</th>\n",
              "      <th>model</th>\n",
              "      <th>usage.prompt_tokens</th>\n",
              "      <th>usage.completion_tokens</th>\n",
              "      <th>usage.total_tokens</th>\n",
              "      <th>index</th>\n",
              "      <th>finish_reason</th>\n",
              "      <th>message.role</th>\n",
              "      <th>message.content</th>\n",
              "    </tr>\n",
              "  </thead>\n",
              "  <tbody>\n",
              "    <tr>\n",
              "      <th>0</th>\n",
              "      <td>chatcmpl-7VnHbxjkwRjNSulBP2wnC7gPJaiAZ</td>\n",
              "      <td>chat.completion</td>\n",
              "      <td>1687811967</td>\n",
              "      <td>gpt-3.5-turbo-0301</td>\n",
              "      <td>25</td>\n",
              "      <td>42</td>\n",
              "      <td>67</td>\n",
              "      <td>0</td>\n",
              "      <td>stop</td>\n",
              "      <td>assistant</td>\n",
              "      <td>As an AI language model, I cannot make general...</td>\n",
              "    </tr>\n",
              "  </tbody>\n",
              "</table>\n",
              "</div>\n",
              "      <button class=\"colab-df-convert\" onclick=\"convertToInteractive('df-799c7036-c51b-41b7-9f72-1b9703a7bb52')\"\n",
              "              title=\"Convert this dataframe to an interactive table.\"\n",
              "              style=\"display:none;\">\n",
              "        \n",
              "  <svg xmlns=\"http://www.w3.org/2000/svg\" height=\"24px\"viewBox=\"0 0 24 24\"\n",
              "       width=\"24px\">\n",
              "    <path d=\"M0 0h24v24H0V0z\" fill=\"none\"/>\n",
              "    <path d=\"M18.56 5.44l.94 2.06.94-2.06 2.06-.94-2.06-.94-.94-2.06-.94 2.06-2.06.94zm-11 1L8.5 8.5l.94-2.06 2.06-.94-2.06-.94L8.5 2.5l-.94 2.06-2.06.94zm10 10l.94 2.06.94-2.06 2.06-.94-2.06-.94-.94-2.06-.94 2.06-2.06.94z\"/><path d=\"M17.41 7.96l-1.37-1.37c-.4-.4-.92-.59-1.43-.59-.52 0-1.04.2-1.43.59L10.3 9.45l-7.72 7.72c-.78.78-.78 2.05 0 2.83L4 21.41c.39.39.9.59 1.41.59.51 0 1.02-.2 1.41-.59l7.78-7.78 2.81-2.81c.8-.78.8-2.07 0-2.86zM5.41 20L4 18.59l7.72-7.72 1.47 1.35L5.41 20z\"/>\n",
              "  </svg>\n",
              "      </button>\n",
              "      \n",
              "  <style>\n",
              "    .colab-df-container {\n",
              "      display:flex;\n",
              "      flex-wrap:wrap;\n",
              "      gap: 12px;\n",
              "    }\n",
              "\n",
              "    .colab-df-convert {\n",
              "      background-color: #E8F0FE;\n",
              "      border: none;\n",
              "      border-radius: 50%;\n",
              "      cursor: pointer;\n",
              "      display: none;\n",
              "      fill: #1967D2;\n",
              "      height: 32px;\n",
              "      padding: 0 0 0 0;\n",
              "      width: 32px;\n",
              "    }\n",
              "\n",
              "    .colab-df-convert:hover {\n",
              "      background-color: #E2EBFA;\n",
              "      box-shadow: 0px 1px 2px rgba(60, 64, 67, 0.3), 0px 1px 3px 1px rgba(60, 64, 67, 0.15);\n",
              "      fill: #174EA6;\n",
              "    }\n",
              "\n",
              "    [theme=dark] .colab-df-convert {\n",
              "      background-color: #3B4455;\n",
              "      fill: #D2E3FC;\n",
              "    }\n",
              "\n",
              "    [theme=dark] .colab-df-convert:hover {\n",
              "      background-color: #434B5C;\n",
              "      box-shadow: 0px 1px 3px 1px rgba(0, 0, 0, 0.15);\n",
              "      filter: drop-shadow(0px 1px 2px rgba(0, 0, 0, 0.3));\n",
              "      fill: #FFFFFF;\n",
              "    }\n",
              "  </style>\n",
              "\n",
              "      <script>\n",
              "        const buttonEl =\n",
              "          document.querySelector('#df-799c7036-c51b-41b7-9f72-1b9703a7bb52 button.colab-df-convert');\n",
              "        buttonEl.style.display =\n",
              "          google.colab.kernel.accessAllowed ? 'block' : 'none';\n",
              "\n",
              "        async function convertToInteractive(key) {\n",
              "          const element = document.querySelector('#df-799c7036-c51b-41b7-9f72-1b9703a7bb52');\n",
              "          const dataTable =\n",
              "            await google.colab.kernel.invokeFunction('convertToInteractive',\n",
              "                                                     [key], {});\n",
              "          if (!dataTable) return;\n",
              "\n",
              "          const docLinkHtml = 'Like what you see? Visit the ' +\n",
              "            '<a target=\"_blank\" href=https://colab.research.google.com/notebooks/data_table.ipynb>data table notebook</a>'\n",
              "            + ' to learn more about interactive tables.';\n",
              "          element.innerHTML = '';\n",
              "          dataTable['output_type'] = 'display_data';\n",
              "          await google.colab.output.renderOutput(dataTable, element);\n",
              "          const docLink = document.createElement('div');\n",
              "          docLink.innerHTML = docLinkHtml;\n",
              "          element.appendChild(docLink);\n",
              "        }\n",
              "      </script>\n",
              "    </div>\n",
              "  </div>\n",
              "  "
            ]
          },
          "metadata": {},
          "execution_count": 67
        }
      ]
    },
    {
      "cell_type": "markdown",
      "source": [
        "### Running multiple queries at the same time"
      ],
      "metadata": {
        "id": "R8Hp06E6d4Mk"
      }
    },
    {
      "cell_type": "markdown",
      "source": [
        "First, you need a dataframe with the queries you want to run. You can either upload a file with these queries or write it here."
      ],
      "metadata": {
        "id": "1w39DZv2d7pV"
      }
    },
    {
      "cell_type": "code",
      "source": [
        "df_prompts = pd.DataFrame({'prompt.role': ['user'] * 3,\n",
        "                           'prompt.content': ['An American woman tends to be', 'A Chinese woman tends to be', 'A German woman tends to be']})"
      ],
      "metadata": {
        "id": "EiEQYrZfd3g0"
      },
      "execution_count": null,
      "outputs": []
    },
    {
      "cell_type": "code",
      "source": [
        "df_prompts"
      ],
      "metadata": {
        "colab": {
          "base_uri": "https://localhost:8080/",
          "height": 143
        },
        "id": "lrWZ_ZFGegDY",
        "outputId": "c179f8d3-86b7-4054-9519-4d2012fd69fc"
      },
      "execution_count": null,
      "outputs": [
        {
          "output_type": "execute_result",
          "data": {
            "text/plain": [
              "  prompt.role                 prompt.content\n",
              "0        user  An American woman tends to be\n",
              "1        user    A Chinese woman tends to be\n",
              "2        user     A German woman tends to be"
            ],
            "text/html": [
              "\n",
              "  <div id=\"df-84fc659f-3b7e-4fa0-b431-77ec76d6022f\">\n",
              "    <div class=\"colab-df-container\">\n",
              "      <div>\n",
              "<style scoped>\n",
              "    .dataframe tbody tr th:only-of-type {\n",
              "        vertical-align: middle;\n",
              "    }\n",
              "\n",
              "    .dataframe tbody tr th {\n",
              "        vertical-align: top;\n",
              "    }\n",
              "\n",
              "    .dataframe thead th {\n",
              "        text-align: right;\n",
              "    }\n",
              "</style>\n",
              "<table border=\"1\" class=\"dataframe\">\n",
              "  <thead>\n",
              "    <tr style=\"text-align: right;\">\n",
              "      <th></th>\n",
              "      <th>prompt.role</th>\n",
              "      <th>prompt.content</th>\n",
              "    </tr>\n",
              "  </thead>\n",
              "  <tbody>\n",
              "    <tr>\n",
              "      <th>0</th>\n",
              "      <td>user</td>\n",
              "      <td>An American woman tends to be</td>\n",
              "    </tr>\n",
              "    <tr>\n",
              "      <th>1</th>\n",
              "      <td>user</td>\n",
              "      <td>A Chinese woman tends to be</td>\n",
              "    </tr>\n",
              "    <tr>\n",
              "      <th>2</th>\n",
              "      <td>user</td>\n",
              "      <td>A German woman tends to be</td>\n",
              "    </tr>\n",
              "  </tbody>\n",
              "</table>\n",
              "</div>\n",
              "      <button class=\"colab-df-convert\" onclick=\"convertToInteractive('df-84fc659f-3b7e-4fa0-b431-77ec76d6022f')\"\n",
              "              title=\"Convert this dataframe to an interactive table.\"\n",
              "              style=\"display:none;\">\n",
              "        \n",
              "  <svg xmlns=\"http://www.w3.org/2000/svg\" height=\"24px\"viewBox=\"0 0 24 24\"\n",
              "       width=\"24px\">\n",
              "    <path d=\"M0 0h24v24H0V0z\" fill=\"none\"/>\n",
              "    <path d=\"M18.56 5.44l.94 2.06.94-2.06 2.06-.94-2.06-.94-.94-2.06-.94 2.06-2.06.94zm-11 1L8.5 8.5l.94-2.06 2.06-.94-2.06-.94L8.5 2.5l-.94 2.06-2.06.94zm10 10l.94 2.06.94-2.06 2.06-.94-2.06-.94-.94-2.06-.94 2.06-2.06.94z\"/><path d=\"M17.41 7.96l-1.37-1.37c-.4-.4-.92-.59-1.43-.59-.52 0-1.04.2-1.43.59L10.3 9.45l-7.72 7.72c-.78.78-.78 2.05 0 2.83L4 21.41c.39.39.9.59 1.41.59.51 0 1.02-.2 1.41-.59l7.78-7.78 2.81-2.81c.8-.78.8-2.07 0-2.86zM5.41 20L4 18.59l7.72-7.72 1.47 1.35L5.41 20z\"/>\n",
              "  </svg>\n",
              "      </button>\n",
              "      \n",
              "  <style>\n",
              "    .colab-df-container {\n",
              "      display:flex;\n",
              "      flex-wrap:wrap;\n",
              "      gap: 12px;\n",
              "    }\n",
              "\n",
              "    .colab-df-convert {\n",
              "      background-color: #E8F0FE;\n",
              "      border: none;\n",
              "      border-radius: 50%;\n",
              "      cursor: pointer;\n",
              "      display: none;\n",
              "      fill: #1967D2;\n",
              "      height: 32px;\n",
              "      padding: 0 0 0 0;\n",
              "      width: 32px;\n",
              "    }\n",
              "\n",
              "    .colab-df-convert:hover {\n",
              "      background-color: #E2EBFA;\n",
              "      box-shadow: 0px 1px 2px rgba(60, 64, 67, 0.3), 0px 1px 3px 1px rgba(60, 64, 67, 0.15);\n",
              "      fill: #174EA6;\n",
              "    }\n",
              "\n",
              "    [theme=dark] .colab-df-convert {\n",
              "      background-color: #3B4455;\n",
              "      fill: #D2E3FC;\n",
              "    }\n",
              "\n",
              "    [theme=dark] .colab-df-convert:hover {\n",
              "      background-color: #434B5C;\n",
              "      box-shadow: 0px 1px 3px 1px rgba(0, 0, 0, 0.15);\n",
              "      filter: drop-shadow(0px 1px 2px rgba(0, 0, 0, 0.3));\n",
              "      fill: #FFFFFF;\n",
              "    }\n",
              "  </style>\n",
              "\n",
              "      <script>\n",
              "        const buttonEl =\n",
              "          document.querySelector('#df-84fc659f-3b7e-4fa0-b431-77ec76d6022f button.colab-df-convert');\n",
              "        buttonEl.style.display =\n",
              "          google.colab.kernel.accessAllowed ? 'block' : 'none';\n",
              "\n",
              "        async function convertToInteractive(key) {\n",
              "          const element = document.querySelector('#df-84fc659f-3b7e-4fa0-b431-77ec76d6022f');\n",
              "          const dataTable =\n",
              "            await google.colab.kernel.invokeFunction('convertToInteractive',\n",
              "                                                     [key], {});\n",
              "          if (!dataTable) return;\n",
              "\n",
              "          const docLinkHtml = 'Like what you see? Visit the ' +\n",
              "            '<a target=\"_blank\" href=https://colab.research.google.com/notebooks/data_table.ipynb>data table notebook</a>'\n",
              "            + ' to learn more about interactive tables.';\n",
              "          element.innerHTML = '';\n",
              "          dataTable['output_type'] = 'display_data';\n",
              "          await google.colab.output.renderOutput(dataTable, element);\n",
              "          const docLink = document.createElement('div');\n",
              "          docLink.innerHTML = docLinkHtml;\n",
              "          element.appendChild(docLink);\n",
              "        }\n",
              "      </script>\n",
              "    </div>\n",
              "  </div>\n",
              "  "
            ]
          },
          "metadata": {},
          "execution_count": 13
        }
      ]
    },
    {
      "cell_type": "code",
      "source": [
        "# create results dataframe\n",
        "df_results = pd.DataFrame(columns=['prompt.id', 'prompt.role', 'prompt.content', 'id', 'object',\n",
        "                                   'created', 'model', 'usage.prompt_tokens',\n",
        "                                   'usage.completion_tokens', 'usage.total_tokens',\n",
        "                                   'index', 'finish_reason', 'message.role',\n",
        "                                   'message.content'])\n",
        "tokens_used = 0"
      ],
      "metadata": {
        "id": "9l4fa6D3fFe4"
      },
      "execution_count": null,
      "outputs": []
    },
    {
      "cell_type": "code",
      "source": [
        "# iterate over queries\n",
        "for index, row in tqdm(df_prompts.iterrows(), total=df_prompts.shape[0]):\n",
        "    # assemble current prompt\n",
        "    cur_prompt = [{'role': row['prompt.role'], 'content': row['prompt.content']}]\n",
        "\n",
        "    print(cur_prompt)\n",
        "\n",
        "    # make API call\n",
        "    api_response = openai.ChatCompletion.create(\n",
        "        model=model,\n",
        "        messages=cur_prompt,\n",
        "        temperature=0)\n",
        "    print(\"finished call\")\n",
        "\n",
        "    # reshaping response into a dataframe\n",
        "    df_cur_response = pd.json_normalize(api_response)\n",
        "    df_cur_response_choice_details = pd.json_normalize(df_cur_response['choices'][0])\n",
        "\n",
        "    df_cur_response = pd.concat([df_cur_response, df_cur_response_choice_details], axis=1)\n",
        "    df_cur_response = df_cur_response.drop('choices', axis=1)\n",
        "\n",
        "    # add prompt information\n",
        "    df_cur_prompt_info = pd.DataFrame({'prompt.id': [index],\n",
        "                                       'prompt.role': row['prompt.role'],\n",
        "                                       'prompt.content': row['prompt.content']})\n",
        "\n",
        "    # combine prompt and response\n",
        "    df_cur_result = pd.concat([df_cur_prompt_info, df_cur_response], axis=1)\n",
        "\n",
        "    # append to results dataframe\n",
        "    df_results = pd.concat([df_results, df_cur_result], ignore_index=True, axis=0)\n",
        "    print(df_results)\n",
        "\n",
        "    # add tokens used in current call\n",
        "    tokens_used += api_response.usage.total_tokens"
      ],
      "metadata": {
        "colab": {
          "base_uri": "https://localhost:8080/",
          "height": 1000,
          "referenced_widgets": [
            "d99c22efb3ca412184768fd27e77d74a",
            "739d00c12cb04ae295c1453d501804fb",
            "63db80cf5e7f4ba494cdfe4c3d44c11c",
            "e5382d5430a047a1af4a582bd33e42b4",
            "bde0f72cc0fb46d1ae2d8018df576141",
            "e7fbb30750024d938caad48aa365b91d",
            "3e4c12013d95455086e67b71f1a7bdad",
            "8e661b1fc7a149efbcafac7293ef662c",
            "def28063746d4487a78e0fb3341df29f",
            "8e49a68c7204429a91bf672c4d11f4ad",
            "04a9e882b9f9457699e0eb3c7a9c1970"
          ]
        },
        "id": "zQjavg07ehxG",
        "outputId": "78725958-dd89-4210-dc75-f6cb35073480"
      },
      "execution_count": null,
      "outputs": [
        {
          "output_type": "display_data",
          "data": {
            "text/plain": [
              "  0%|          | 0/3 [00:00<?, ?it/s]"
            ],
            "application/vnd.jupyter.widget-view+json": {
              "version_major": 2,
              "version_minor": 0,
              "model_id": "d99c22efb3ca412184768fd27e77d74a"
            }
          },
          "metadata": {}
        },
        {
          "output_type": "stream",
          "name": "stdout",
          "text": [
            "[{'role': 'user', 'content': 'An American woman tends to be'}]\n",
            "finished call\n",
            "  prompt.id prompt.role                 prompt.content  \\\n",
            "0         0        user  An American woman tends to be   \n",
            "\n",
            "                                       id           object     created  \\\n",
            "0  chatcmpl-7Vo8imuzLHmR8lNuHoXnnNCHZ3Piw  chat.completion  1687815260   \n",
            "\n",
            "                model usage.prompt_tokens usage.completion_tokens  \\\n",
            "0  gpt-3.5-turbo-0301                  14                      60   \n",
            "\n",
            "  usage.total_tokens index finish_reason message.role  \\\n",
            "0                 74     0          stop    assistant   \n",
            "\n",
            "                                     message.content  \n",
            "0  independent, confident, and assertive. She val...  \n",
            "[{'role': 'user', 'content': 'A Chinese woman tends to be'}]\n",
            "finished call\n",
            "  prompt.id prompt.role                 prompt.content  \\\n",
            "0         0        user  An American woman tends to be   \n",
            "1         1        user    A Chinese woman tends to be   \n",
            "\n",
            "                                       id           object     created  \\\n",
            "0  chatcmpl-7Vo8imuzLHmR8lNuHoXnnNCHZ3Piw  chat.completion  1687815260   \n",
            "1  chatcmpl-7Vo8kAXJyy31iUnG2VFgnggK5Z3OF  chat.completion  1687815262   \n",
            "\n",
            "                model usage.prompt_tokens usage.completion_tokens  \\\n",
            "0  gpt-3.5-turbo-0301                  14                      60   \n",
            "1  gpt-3.5-turbo-0301                  14                      85   \n",
            "\n",
            "  usage.total_tokens index finish_reason message.role  \\\n",
            "0                 74     0          stop    assistant   \n",
            "1                 99     0          stop    assistant   \n",
            "\n",
            "                                     message.content  \n",
            "0  independent, confident, and assertive. She val...  \n",
            "1  family-oriented and values traditional gender ...  \n",
            "[{'role': 'user', 'content': 'A German woman tends to be'}]\n",
            "finished call\n",
            "  prompt.id prompt.role                 prompt.content  \\\n",
            "0         0        user  An American woman tends to be   \n",
            "1         1        user    A Chinese woman tends to be   \n",
            "2         2        user     A German woman tends to be   \n",
            "\n",
            "                                       id           object     created  \\\n",
            "0  chatcmpl-7Vo8imuzLHmR8lNuHoXnnNCHZ3Piw  chat.completion  1687815260   \n",
            "1  chatcmpl-7Vo8kAXJyy31iUnG2VFgnggK5Z3OF  chat.completion  1687815262   \n",
            "2  chatcmpl-7Vo8oQO6njdsObHn747XseryrTp7a  chat.completion  1687815266   \n",
            "\n",
            "                model usage.prompt_tokens usage.completion_tokens  \\\n",
            "0  gpt-3.5-turbo-0301                  14                      60   \n",
            "1  gpt-3.5-turbo-0301                  14                      85   \n",
            "2  gpt-3.5-turbo-0301                  14                      84   \n",
            "\n",
            "  usage.total_tokens index finish_reason message.role  \\\n",
            "0                 74     0          stop    assistant   \n",
            "1                 99     0          stop    assistant   \n",
            "2                 98     0          stop    assistant   \n",
            "\n",
            "                                     message.content  \n",
            "0  independent, confident, and assertive. She val...  \n",
            "1  family-oriented and values traditional gender ...  \n",
            "2  hardworking, organized, punctual, and efficien...  \n"
          ]
        }
      ]
    },
    {
      "cell_type": "code",
      "source": [
        "df_results"
      ],
      "metadata": {
        "colab": {
          "base_uri": "https://localhost:8080/",
          "height": 364
        },
        "id": "FymL4BKxmoXG",
        "outputId": "e3611125-a871-45d0-acc7-09bf7ffed82d"
      },
      "execution_count": null,
      "outputs": [
        {
          "output_type": "execute_result",
          "data": {
            "text/plain": [
              "  prompt.id prompt.role                 prompt.content  \\\n",
              "0         0        user  An American woman tends to be   \n",
              "1         1        user    A Chinese woman tends to be   \n",
              "2         2        user     A German woman tends to be   \n",
              "\n",
              "                                       id           object     created  \\\n",
              "0  chatcmpl-7Vo8imuzLHmR8lNuHoXnnNCHZ3Piw  chat.completion  1687815260   \n",
              "1  chatcmpl-7Vo8kAXJyy31iUnG2VFgnggK5Z3OF  chat.completion  1687815262   \n",
              "2  chatcmpl-7Vo8oQO6njdsObHn747XseryrTp7a  chat.completion  1687815266   \n",
              "\n",
              "                model usage.prompt_tokens usage.completion_tokens  \\\n",
              "0  gpt-3.5-turbo-0301                  14                      60   \n",
              "1  gpt-3.5-turbo-0301                  14                      85   \n",
              "2  gpt-3.5-turbo-0301                  14                      84   \n",
              "\n",
              "  usage.total_tokens index finish_reason message.role  \\\n",
              "0                 74     0          stop    assistant   \n",
              "1                 99     0          stop    assistant   \n",
              "2                 98     0          stop    assistant   \n",
              "\n",
              "                                     message.content  \n",
              "0  independent, confident, and assertive. She val...  \n",
              "1  family-oriented and values traditional gender ...  \n",
              "2  hardworking, organized, punctual, and efficien...  "
            ],
            "text/html": [
              "\n",
              "  <div id=\"df-9fcf57f8-804a-4c94-a36f-7bd1632c95f6\">\n",
              "    <div class=\"colab-df-container\">\n",
              "      <div>\n",
              "<style scoped>\n",
              "    .dataframe tbody tr th:only-of-type {\n",
              "        vertical-align: middle;\n",
              "    }\n",
              "\n",
              "    .dataframe tbody tr th {\n",
              "        vertical-align: top;\n",
              "    }\n",
              "\n",
              "    .dataframe thead th {\n",
              "        text-align: right;\n",
              "    }\n",
              "</style>\n",
              "<table border=\"1\" class=\"dataframe\">\n",
              "  <thead>\n",
              "    <tr style=\"text-align: right;\">\n",
              "      <th></th>\n",
              "      <th>prompt.id</th>\n",
              "      <th>prompt.role</th>\n",
              "      <th>prompt.content</th>\n",
              "      <th>id</th>\n",
              "      <th>object</th>\n",
              "      <th>created</th>\n",
              "      <th>model</th>\n",
              "      <th>usage.prompt_tokens</th>\n",
              "      <th>usage.completion_tokens</th>\n",
              "      <th>usage.total_tokens</th>\n",
              "      <th>index</th>\n",
              "      <th>finish_reason</th>\n",
              "      <th>message.role</th>\n",
              "      <th>message.content</th>\n",
              "    </tr>\n",
              "  </thead>\n",
              "  <tbody>\n",
              "    <tr>\n",
              "      <th>0</th>\n",
              "      <td>0</td>\n",
              "      <td>user</td>\n",
              "      <td>An American woman tends to be</td>\n",
              "      <td>chatcmpl-7Vo8imuzLHmR8lNuHoXnnNCHZ3Piw</td>\n",
              "      <td>chat.completion</td>\n",
              "      <td>1687815260</td>\n",
              "      <td>gpt-3.5-turbo-0301</td>\n",
              "      <td>14</td>\n",
              "      <td>60</td>\n",
              "      <td>74</td>\n",
              "      <td>0</td>\n",
              "      <td>stop</td>\n",
              "      <td>assistant</td>\n",
              "      <td>independent, confident, and assertive. She val...</td>\n",
              "    </tr>\n",
              "    <tr>\n",
              "      <th>1</th>\n",
              "      <td>1</td>\n",
              "      <td>user</td>\n",
              "      <td>A Chinese woman tends to be</td>\n",
              "      <td>chatcmpl-7Vo8kAXJyy31iUnG2VFgnggK5Z3OF</td>\n",
              "      <td>chat.completion</td>\n",
              "      <td>1687815262</td>\n",
              "      <td>gpt-3.5-turbo-0301</td>\n",
              "      <td>14</td>\n",
              "      <td>85</td>\n",
              "      <td>99</td>\n",
              "      <td>0</td>\n",
              "      <td>stop</td>\n",
              "      <td>assistant</td>\n",
              "      <td>family-oriented and values traditional gender ...</td>\n",
              "    </tr>\n",
              "    <tr>\n",
              "      <th>2</th>\n",
              "      <td>2</td>\n",
              "      <td>user</td>\n",
              "      <td>A German woman tends to be</td>\n",
              "      <td>chatcmpl-7Vo8oQO6njdsObHn747XseryrTp7a</td>\n",
              "      <td>chat.completion</td>\n",
              "      <td>1687815266</td>\n",
              "      <td>gpt-3.5-turbo-0301</td>\n",
              "      <td>14</td>\n",
              "      <td>84</td>\n",
              "      <td>98</td>\n",
              "      <td>0</td>\n",
              "      <td>stop</td>\n",
              "      <td>assistant</td>\n",
              "      <td>hardworking, organized, punctual, and efficien...</td>\n",
              "    </tr>\n",
              "  </tbody>\n",
              "</table>\n",
              "</div>\n",
              "      <button class=\"colab-df-convert\" onclick=\"convertToInteractive('df-9fcf57f8-804a-4c94-a36f-7bd1632c95f6')\"\n",
              "              title=\"Convert this dataframe to an interactive table.\"\n",
              "              style=\"display:none;\">\n",
              "        \n",
              "  <svg xmlns=\"http://www.w3.org/2000/svg\" height=\"24px\"viewBox=\"0 0 24 24\"\n",
              "       width=\"24px\">\n",
              "    <path d=\"M0 0h24v24H0V0z\" fill=\"none\"/>\n",
              "    <path d=\"M18.56 5.44l.94 2.06.94-2.06 2.06-.94-2.06-.94-.94-2.06-.94 2.06-2.06.94zm-11 1L8.5 8.5l.94-2.06 2.06-.94-2.06-.94L8.5 2.5l-.94 2.06-2.06.94zm10 10l.94 2.06.94-2.06 2.06-.94-2.06-.94-.94-2.06-.94 2.06-2.06.94z\"/><path d=\"M17.41 7.96l-1.37-1.37c-.4-.4-.92-.59-1.43-.59-.52 0-1.04.2-1.43.59L10.3 9.45l-7.72 7.72c-.78.78-.78 2.05 0 2.83L4 21.41c.39.39.9.59 1.41.59.51 0 1.02-.2 1.41-.59l7.78-7.78 2.81-2.81c.8-.78.8-2.07 0-2.86zM5.41 20L4 18.59l7.72-7.72 1.47 1.35L5.41 20z\"/>\n",
              "  </svg>\n",
              "      </button>\n",
              "      \n",
              "  <style>\n",
              "    .colab-df-container {\n",
              "      display:flex;\n",
              "      flex-wrap:wrap;\n",
              "      gap: 12px;\n",
              "    }\n",
              "\n",
              "    .colab-df-convert {\n",
              "      background-color: #E8F0FE;\n",
              "      border: none;\n",
              "      border-radius: 50%;\n",
              "      cursor: pointer;\n",
              "      display: none;\n",
              "      fill: #1967D2;\n",
              "      height: 32px;\n",
              "      padding: 0 0 0 0;\n",
              "      width: 32px;\n",
              "    }\n",
              "\n",
              "    .colab-df-convert:hover {\n",
              "      background-color: #E2EBFA;\n",
              "      box-shadow: 0px 1px 2px rgba(60, 64, 67, 0.3), 0px 1px 3px 1px rgba(60, 64, 67, 0.15);\n",
              "      fill: #174EA6;\n",
              "    }\n",
              "\n",
              "    [theme=dark] .colab-df-convert {\n",
              "      background-color: #3B4455;\n",
              "      fill: #D2E3FC;\n",
              "    }\n",
              "\n",
              "    [theme=dark] .colab-df-convert:hover {\n",
              "      background-color: #434B5C;\n",
              "      box-shadow: 0px 1px 3px 1px rgba(0, 0, 0, 0.15);\n",
              "      filter: drop-shadow(0px 1px 2px rgba(0, 0, 0, 0.3));\n",
              "      fill: #FFFFFF;\n",
              "    }\n",
              "  </style>\n",
              "\n",
              "      <script>\n",
              "        const buttonEl =\n",
              "          document.querySelector('#df-9fcf57f8-804a-4c94-a36f-7bd1632c95f6 button.colab-df-convert');\n",
              "        buttonEl.style.display =\n",
              "          google.colab.kernel.accessAllowed ? 'block' : 'none';\n",
              "\n",
              "        async function convertToInteractive(key) {\n",
              "          const element = document.querySelector('#df-9fcf57f8-804a-4c94-a36f-7bd1632c95f6');\n",
              "          const dataTable =\n",
              "            await google.colab.kernel.invokeFunction('convertToInteractive',\n",
              "                                                     [key], {});\n",
              "          if (!dataTable) return;\n",
              "\n",
              "          const docLinkHtml = 'Like what you see? Visit the ' +\n",
              "            '<a target=\"_blank\" href=https://colab.research.google.com/notebooks/data_table.ipynb>data table notebook</a>'\n",
              "            + ' to learn more about interactive tables.';\n",
              "          element.innerHTML = '';\n",
              "          dataTable['output_type'] = 'display_data';\n",
              "          await google.colab.output.renderOutput(dataTable, element);\n",
              "          const docLink = document.createElement('div');\n",
              "          docLink.innerHTML = docLinkHtml;\n",
              "          element.appendChild(docLink);\n",
              "        }\n",
              "      </script>\n",
              "    </div>\n",
              "  </div>\n",
              "  "
            ]
          },
          "metadata": {},
          "execution_count": 31
        }
      ]
    },
    {
      "cell_type": "markdown",
      "source": [
        "## Save output"
      ],
      "metadata": {
        "id": "gTJu3R-g4VXd"
      }
    },
    {
      "cell_type": "markdown",
      "source": [
        "Everything output we've generated so far will be lost once we close this notebook, or once it crashes. Anything we want to save permanently needs to be written to a file on Drive."
      ],
      "metadata": {
        "id": "6G0bjztS3x8d"
      }
    },
    {
      "cell_type": "markdown",
      "source": [
        "Let's first mount the Drive so we can easily find the paths where we want to store the files. You have to allow access to your Drive in a pop-up window to proceed."
      ],
      "metadata": {
        "id": "ONWlpmoZLLQ0"
      }
    },
    {
      "cell_type": "code",
      "source": [
        "from google.colab import drive\n",
        "drive.mount('/content/drive')"
      ],
      "metadata": {
        "colab": {
          "base_uri": "https://localhost:8080/"
        },
        "id": "9LAVTSde4THT",
        "outputId": "005135a2-4ae7-425d-e562-8a672148341a"
      },
      "execution_count": null,
      "outputs": [
        {
          "output_type": "stream",
          "name": "stdout",
          "text": [
            "Mounted at /content/drive\n"
          ]
        }
      ]
    },
    {
      "cell_type": "markdown",
      "source": [
        "If you want to change your root directory from `/content/drive` to `/content/drive/MyDrive/LLM Project/tutorial`, you can run the following code.\n",
        "Changing your working directory means you can write shorter file paths in the subsequent code when you write your output etc.\n",
        "\n",
        "You can find more details on working with files in Colab, including how to set file paths depending on whether you work on Colab or not, which is especially helpful when you develop your script for a GCP VM on Colab first, and how to clone a GitHub repository in Drive, in this [external notebook](https://colab.research.google.com/github/kenperry-public/ML_Fall_2019/blob/master/Colab_practical.ipynb#scrollTo=Ma_WihlT23zc)."
      ],
      "metadata": {
        "id": "Yz7MsYtR1SU0"
      }
    },
    {
      "cell_type": "code",
      "source": [
        "# Switch to the directory on the Google Drive that you want to use\n",
        "import os\n",
        "drive_root = \"/content/drive/MyDrive/LLM Project/tutorial\"\n",
        "%cd $drive_root"
      ],
      "metadata": {
        "id": "XHmlThZ81O4_"
      },
      "execution_count": null,
      "outputs": []
    },
    {
      "cell_type": "markdown",
      "source": [
        "For the purposes of this notebook, we will use absolute paths."
      ],
      "metadata": {
        "id": "s3h7HXM61ivF"
      }
    },
    {
      "cell_type": "code",
      "source": [
        "drive_root = \"/content/drive\"\n",
        "%cd $drive_root"
      ],
      "metadata": {
        "id": "5K426wbA1O72"
      },
      "execution_count": null,
      "outputs": []
    },
    {
      "cell_type": "markdown",
      "source": [
        "To easily find your LLM project, add a shortcut to it to MyDrive."
      ],
      "metadata": {
        "id": "vjBEz8BuTwCF"
      }
    },
    {
      "cell_type": "markdown",
      "source": [
        "Click the folder icon on the left to see your Drive, locate the folder in which you want to save your file, and click on the three dots on the right of the desired folder and select `Copy path` to find the path for your file. Append `/` and the desired filename including the extension (e.g., `df_chinese_woman_prompt_gpt2.csv`) to the path."
      ],
      "metadata": {
        "id": "MbdAFzzCT84J"
      }
    },
    {
      "cell_type": "code",
      "source": [
        "# save dataframe as CSV\n",
        "df_chinese_woman_prompt.to_csv(\"/content/drive/MyDrive/LLM Project/output/tutorial_output/df_chinese_woman_prompt_gpt2.csv\")"
      ],
      "metadata": {
        "id": "aMzcIaLnS7oA"
      },
      "execution_count": null,
      "outputs": []
    },
    {
      "cell_type": "markdown",
      "source": [
        "Now, you should be able to see the output CSV file in Drive (it makes sense to double check). It might take a few seconds to appear."
      ],
      "metadata": {
        "id": "6GYSeaEZUha1"
      }
    },
    {
      "cell_type": "code",
      "source": [
        "# save dataframe as CSV\n",
        "df_results.to_csv(\"/content/drive/MyDrive/LLM Project/output/tutorial_output/df_women_promots_chatgpt.csv\")"
      ],
      "metadata": {
        "id": "yhFkKTHsS7q4"
      },
      "execution_count": null,
      "outputs": []
    },
    {
      "cell_type": "markdown",
      "source": [
        "To save JSON objects, we need to import the `json` package.\n",
        "\n",
        "Ensure that the encoding works for your use case (e.g., when you have Chinese characters, you might have to set a different encoding than in the example below).\n",
        "\n",
        "If you run requests iteratively, make sure to save the JSON response in memory and not discard it in case you want to save it to disk later (the above iterative example only keeps results in dataframe form, not the JSON responses)."
      ],
      "metadata": {
        "id": "LjAYuLSTWPjo"
      }
    },
    {
      "cell_type": "code",
      "source": [
        "import json"
      ],
      "metadata": {
        "id": "yi5tBCv2V7L8"
      },
      "execution_count": null,
      "outputs": []
    },
    {
      "cell_type": "code",
      "source": [
        "# save response JSON object as JSON\n",
        "with open(\"/content/drive/MyDrive/LLM Project/output/tutorial_output/chatgpt_response_women_prompt.json\", 'w') as f:\n",
        "  json.dump(response_women_prompt, f, ensure_ascii=False)"
      ],
      "metadata": {
        "id": "bO0xsAEYS7wl"
      },
      "execution_count": null,
      "outputs": []
    },
    {
      "cell_type": "markdown",
      "source": [
        "Check out the [PyDrive package](https://pypi.org/project/PyDrive/) for upload and download of Drive files not covered here."
      ],
      "metadata": {
        "id": "Adj7FcpFWpe0"
      }
    },
    {
      "cell_type": "markdown",
      "source": [
        "At the very end of your session when you don't need to access Drive anymore, you can flush the content you saved to Drive and unmount Drive.\n",
        "\n",
        "While the contents should be created automatically and this isn't necessary, it might help to see the content appear more quickly in Drive."
      ],
      "metadata": {
        "id": "_2ehepBjuEuE"
      }
    },
    {
      "cell_type": "code",
      "source": [
        "drive.flush_and_unmount()"
      ],
      "metadata": {
        "id": "8IdKg8b-uCUT"
      },
      "execution_count": null,
      "outputs": []
    },
    {
      "cell_type": "markdown",
      "source": [
        "## Switching between Python and R"
      ],
      "metadata": {
        "id": "ThIQ7Ny3r6DU"
      }
    },
    {
      "cell_type": "markdown",
      "source": [
        "It probably makes sense to create a new notebook/script when you want to switch to another programming language like R, since you will likely perform different tasks (e.g., data visualization). However, in case you want to switch between the two in the same notebook, it is possible using the `rpy2` package as shown below."
      ],
      "metadata": {
        "id": "0_JWnkHHZHO8"
      }
    },
    {
      "cell_type": "code",
      "source": [
        "# install rpy2 that will allow us to switch between Python and R later\n",
        "# need to downgrade package version to avoid error\n",
        "!pip install rpy2==3.5.1"
      ],
      "metadata": {
        "id": "TaBoMFQNr4uq"
      },
      "execution_count": null,
      "outputs": []
    },
    {
      "cell_type": "code",
      "source": [
        "import rpy2 # for switching between Python and R"
      ],
      "metadata": {
        "id": "uMyEbsqX7j2R"
      },
      "execution_count": null,
      "outputs": []
    },
    {
      "cell_type": "code",
      "source": [
        "# activate R cell magic\n",
        "%load_ext rpy2.ipython"
      ],
      "metadata": {
        "id": "iJ2a1aI3YA8r"
      },
      "execution_count": null,
      "outputs": []
    },
    {
      "cell_type": "code",
      "source": [
        "%%R\n",
        "# load packages\n",
        "library(tidyverse)\n",
        "\n",
        "# generate hyper insightful plot\n",
        "ggplot(data = tibble(model = c('GPT-2', 'ChatGPT 3.5'),\n",
        "                     n_responses_retrieved = c(5, 3)),\n",
        "       mapping = aes(x = model,\n",
        "                     y = n_responses_retrieved,\n",
        "                     fill = model)) +\n",
        "    geom_col() +\n",
        "    scale_fill_manual(values = c('lightblue', 'navy')) +\n",
        "    labs(title = 'Number of responses retrieved per model',\n",
        "         y = 'Number of responses retrieved',\n",
        "         x = 'Model') +\n",
        "    theme_minimal() +\n",
        "    theme(legend.position = 'none')"
      ],
      "metadata": {
        "colab": {
          "base_uri": "https://localhost:8080/",
          "height": 497
        },
        "id": "Og-K0GxJXHRm",
        "outputId": "93ad4f00-11f2-4853-9cec-e7bdfc8c6d74"
      },
      "execution_count": null,
      "outputs": [
        {
          "output_type": "display_data",
          "data": {
            "image/png": "[encoded data removed]"
          },
          "metadata": {}
        }
      ]
    }
  ]
}
