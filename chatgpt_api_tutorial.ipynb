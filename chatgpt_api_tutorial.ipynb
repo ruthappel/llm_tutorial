{
  "cells": [
    {
      "cell_type": "markdown",
      "metadata": {
        "id": "k8Pu-aoAnYAq"
      },
      "source": [
        "# Getting started with the ChatGPT API"
      ]
    },
    {
      "cell_type": "markdown",
      "metadata": {
        "id": "LNZ6XFrlnbmv"
      },
      "source": [
        "This notebook walks you through using the ChatGPT API.\n",
        "\n",
        "This tutorial is only a starting point and does not eliminate the need to dig deeper into those documentation materials linked here.\n",
        "\n",
        "Note that OpenAI products and APIs are evolving. This tutorial was written in early 2024, so please check the current documentation for API changes."
      ]
    },
    {
      "cell_type": "markdown",
      "metadata": {
        "id": "_YblsM1mCYlN"
      },
      "source": [
        "In this tutorial, we will **investigate racial bias** in GPT models."
      ]
    },
    {
      "cell_type": "markdown",
      "metadata": {
        "id": "5MppW9r5l76c"
      },
      "source": [
        "## ChatGPT API"
      ]
    },
    {
      "cell_type": "markdown",
      "metadata": {
        "id": "ZByvzVO67txM"
      },
      "source": [
        "### Install packages"
      ]
    },
    {
      "cell_type": "code",
      "execution_count": null,
      "metadata": {
        "colab": {
          "base_uri": "https://localhost:8080/"
        },
        "id": "ccOJ-L0E7Jzh",
        "outputId": "aff85904-566c-4111-c1d8-59d975e49d58"
      },
      "outputs": [
        {
          "name": "stdout",
          "output_type": "stream",
          "text": [
            "Looking in indexes: https://pypi.org/simple, https://us-python.pkg.dev/colab-wheels/public/simple/\n",
            "Collecting openai\n",
            "  Downloading openai-0.27.8-py3-none-any.whl (73 kB)\n",
            "\u001b[2K     \u001b[90m━━━━━━━━━━━━━━━━━━━━━━━━━━━━━━━━━━━━━━━━\u001b[0m \u001b[32m73.6/73.6 kB\u001b[0m \u001b[31m6.8 MB/s\u001b[0m eta \u001b[36m0:00:00\u001b[0m\n",
            "\u001b[?25hRequirement already satisfied: requests>=2.20 in /usr/local/lib/python3.10/dist-packages (from openai) (2.27.1)\n",
            "Requirement already satisfied: tqdm in /usr/local/lib/python3.10/dist-packages (from openai) (4.65.0)\n",
            "Requirement already satisfied: aiohttp in /usr/local/lib/python3.10/dist-packages (from openai) (3.8.4)\n",
            "Requirement already satisfied: urllib3<1.27,>=1.21.1 in /usr/local/lib/python3.10/dist-packages (from requests>=2.20->openai) (1.26.16)\n",
            "Requirement already satisfied: certifi>=2017.4.17 in /usr/local/lib/python3.10/dist-packages (from requests>=2.20->openai) (2023.5.7)\n",
            "Requirement already satisfied: charset-normalizer~=2.0.0 in /usr/local/lib/python3.10/dist-packages (from requests>=2.20->openai) (2.0.12)\n",
            "Requirement already satisfied: idna<4,>=2.5 in /usr/local/lib/python3.10/dist-packages (from requests>=2.20->openai) (3.4)\n",
            "Requirement already satisfied: attrs>=17.3.0 in /usr/local/lib/python3.10/dist-packages (from aiohttp->openai) (23.1.0)\n",
            "Requirement already satisfied: multidict<7.0,>=4.5 in /usr/local/lib/python3.10/dist-packages (from aiohttp->openai) (6.0.4)\n",
            "Requirement already satisfied: async-timeout<5.0,>=4.0.0a3 in /usr/local/lib/python3.10/dist-packages (from aiohttp->openai) (4.0.2)\n",
            "Requirement already satisfied: yarl<2.0,>=1.0 in /usr/local/lib/python3.10/dist-packages (from aiohttp->openai) (1.9.2)\n",
            "Requirement already satisfied: frozenlist>=1.1.1 in /usr/local/lib/python3.10/dist-packages (from aiohttp->openai) (1.3.3)\n",
            "Requirement already satisfied: aiosignal>=1.1.2 in /usr/local/lib/python3.10/dist-packages (from aiohttp->openai) (1.3.1)\n",
            "Installing collected packages: openai\n",
            "Successfully installed openai-0.27.8\n"
          ]
        }
      ],
      "source": [
        "!pip install openai"
      ]
    },
    {
      "cell_type": "markdown",
      "metadata": {
        "id": "akYW8c0N7wxz"
      },
      "source": [
        "### Import packages"
      ]
    },
    {
      "cell_type": "code",
      "execution_count": null,
      "metadata": {
        "id": "a4wVJpwh7sGE"
      },
      "outputs": [],
      "source": [
        "import openai\n",
        "import getpass # for keeping API key secret\n",
        "import os\n",
        "from tqdm.notebook import tqdm # for progress bars\n",
        "import pandas as pd # for working with dataframes\n",
        "import json # for savig JSON objects"
      ]
    },
    {
      "cell_type": "markdown",
      "metadata": {
        "id": "3Gs1FXe2WOoF"
      },
      "source": [
        "### Signing up for ChatGPT API"
      ]
    },
    {
      "cell_type": "markdown",
      "metadata": {
        "id": "M3sLjGJI55ts"
      },
      "source": [
        "First, sign up for an OpenAI account at https://openai.com/chatgpt.\n",
        "\n",
        "  - When you sign up, a secret key will be create that will allow you to access the ChatGPT API. Save this key. You will have to use it in your scripts. You can find your key at https://platform.openai.com/account/api-keys\n",
        "  - Use packages like `getpass` to avoid sharing your key anywhere. **Do not use someone else's key. Do not share your key. Do not post it anywhere publicly.**\n",
        "  - Change the `Default Organization` from `Personal` to `Pan Research Group` such that the API requests for made with your key are billed to Pan Research Group (if you use your key for personal projects, that should obviously not be billed to the group)"
      ]
    },
    {
      "cell_type": "markdown",
      "metadata": {
        "id": "svU8u1wF6oUG"
      },
      "source": [
        "OpenAI has a detailed [documentation for their ChatGPT API](https://platform.openai.com/docs/api-reference/introduction). This also addresses [rate limit errors](https://platform.openai.com/docs/guides/rate-limits/overview) which can occur if you exceed the [rate limits](https://platform.openai.com/account/rate-limits).\n",
        "\n",
        "Also check out the [OpenAI Guides](https://help.openai.com/en/collections/3965536-guides), including the ones on [text completion](https://help.openai.com/en/articles/7437022-text-completion) and [chat](https://help.openai.com/en/articles/7437211-chat-beta)."
      ]
    },
    {
      "cell_type": "markdown",
      "metadata": {
        "id": "NXCxZw9mWVGm"
      },
      "source": [
        "### Making API calls"
      ]
    },
    {
      "cell_type": "markdown",
      "metadata": {
        "id": "X0U7fs2agQIE"
      },
      "source": [
        "This example builds on the [Demo - OpenAI API notebook](https://colab.research.google.com/drive/1ylmsjem3h65kO-TzA4pLvA1PGj4JrCUP)."
      ]
    },
    {
      "cell_type": "code",
      "execution_count": null,
      "metadata": {
        "colab": {
          "base_uri": "https://localhost:8080/"
        },
        "id": "hLLaV2G4L2hY",
        "outputId": "52fac851-d9e1-44f6-f6d8-930bb3c8deea"
      },
      "outputs": [
        {
          "name": "stdout",
          "output_type": "stream",
          "text": [
            "Paste your API key when prompted and hit enter··········\n"
          ]
        }
      ],
      "source": [
        "key = getpass.getpass('Paste your API key when prompted and hit enter')\n",
        "openai.api_key = key"
      ]
    },
    {
      "cell_type": "markdown",
      "metadata": {
        "id": "gYIB5UvLX_r1"
      },
      "source": [
        "#### Find available models"
      ]
    },
    {
      "cell_type": "markdown",
      "metadata": {
        "id": "wSCJjhWBYB4D"
      },
      "source": [
        "Use `openai.Model.list()` to retrieve all available models. Below, you can see the models that contain `gpt` in their name because they will be most relevant to this project."
      ]
    },
    {
      "cell_type": "code",
      "execution_count": null,
      "metadata": {
        "id": "zYvG1W-xWotM"
      },
      "outputs": [],
      "source": [
        "df_models = pd.json_normalize(openai.Model.list()['data'])"
      ]
    },
    {
      "cell_type": "code",
      "execution_count": null,
      "metadata": {
        "colab": {
          "base_uri": "https://localhost:8080/",
          "height": 238
        },
        "id": "W_iunviuXd3A",
        "outputId": "7259d640-0bc2-4154-e245-73bba5b186e9"
      },
      "outputs": [
        {
          "data": {
            "text/html": [
              "\n",
              "  <div id=\"df-fb8a887a-3332-4974-862f-602e3cc06c0b\">\n",
              "    <div class=\"colab-df-container\">\n",
              "      <div>\n",
              "<style scoped>\n",
              "    .dataframe tbody tr th:only-of-type {\n",
              "        vertical-align: middle;\n",
              "    }\n",
              "\n",
              "    .dataframe tbody tr th {\n",
              "        vertical-align: top;\n",
              "    }\n",
              "\n",
              "    .dataframe thead th {\n",
              "        text-align: right;\n",
              "    }\n",
              "</style>\n",
              "<table border=\"1\" class=\"dataframe\">\n",
              "  <thead>\n",
              "    <tr style=\"text-align: right;\">\n",
              "      <th></th>\n",
              "      <th>id</th>\n",
              "      <th>object</th>\n",
              "      <th>created</th>\n",
              "      <th>owned_by</th>\n",
              "      <th>permission</th>\n",
              "      <th>root</th>\n",
              "      <th>parent</th>\n",
              "    </tr>\n",
              "  </thead>\n",
              "  <tbody>\n",
              "    <tr>\n",
              "      <th>14</th>\n",
              "      <td>gpt-3-5-turbo-snap-0613</td>\n",
              "      <td>model</td>\n",
              "      <td>1687800829</td>\n",
              "      <td>system</td>\n",
              "      <td>[{'id': 'modelperm-XAhrtYZnQupJSBom0hxwOg1p', ...</td>\n",
              "      <td>gpt-3-5-turbo-snap-0613</td>\n",
              "      <td>None</td>\n",
              "    </tr>\n",
              "    <tr>\n",
              "      <th>45</th>\n",
              "      <td>gpt-3.5-turbo-0613</td>\n",
              "      <td>model</td>\n",
              "      <td>1686587434</td>\n",
              "      <td>openai</td>\n",
              "      <td>[{'id': 'modelperm-4LMjvnTrMtQH6DRJDyARcjRv', ...</td>\n",
              "      <td>gpt-3.5-turbo-0613</td>\n",
              "      <td>None</td>\n",
              "    </tr>\n",
              "    <tr>\n",
              "      <th>47</th>\n",
              "      <td>gpt-3.5-turbo-16k-0613</td>\n",
              "      <td>model</td>\n",
              "      <td>1685474247</td>\n",
              "      <td>openai</td>\n",
              "      <td>[{'id': 'modelperm-frXtfLMXYirfJ90w5WLZ2m0R', ...</td>\n",
              "      <td>gpt-3.5-turbo-16k-0613</td>\n",
              "      <td>None</td>\n",
              "    </tr>\n",
              "    <tr>\n",
              "      <th>52</th>\n",
              "      <td>gpt-3.5-turbo-0301</td>\n",
              "      <td>model</td>\n",
              "      <td>1677649963</td>\n",
              "      <td>openai</td>\n",
              "      <td>[{'id': 'modelperm-SLKYPTq6k8bPzA3szBMGKSMb', ...</td>\n",
              "      <td>gpt-3.5-turbo-0301</td>\n",
              "      <td>None</td>\n",
              "    </tr>\n",
              "    <tr>\n",
              "      <th>53</th>\n",
              "      <td>gpt-3.5-turbo</td>\n",
              "      <td>model</td>\n",
              "      <td>1677610602</td>\n",
              "      <td>openai</td>\n",
              "      <td>[{'id': 'modelperm-ZWWMDMUVkqDYZ2T2zS1PQplZ', ...</td>\n",
              "      <td>gpt-3.5-turbo</td>\n",
              "      <td>None</td>\n",
              "    </tr>\n",
              "    <tr>\n",
              "      <th>54</th>\n",
              "      <td>gpt-3.5-turbo-16k</td>\n",
              "      <td>model</td>\n",
              "      <td>1683758102</td>\n",
              "      <td>openai-internal</td>\n",
              "      <td>[{'id': 'modelperm-aWWqGUuH89B9wvTJopJhCrK8', ...</td>\n",
              "      <td>gpt-3.5-turbo-16k</td>\n",
              "      <td>None</td>\n",
              "    </tr>\n",
              "  </tbody>\n",
              "</table>\n",
              "</div>\n",
              "      <button class=\"colab-df-convert\" onclick=\"convertToInteractive('df-fb8a887a-3332-4974-862f-602e3cc06c0b')\"\n",
              "              title=\"Convert this dataframe to an interactive table.\"\n",
              "              style=\"display:none;\">\n",
              "        \n",
              "  <svg xmlns=\"http://www.w3.org/2000/svg\" height=\"24px\"viewBox=\"0 0 24 24\"\n",
              "       width=\"24px\">\n",
              "    <path d=\"M0 0h24v24H0V0z\" fill=\"none\"/>\n",
              "    <path d=\"M18.56 5.44l.94 2.06.94-2.06 2.06-.94-2.06-.94-.94-2.06-.94 2.06-2.06.94zm-11 1L8.5 8.5l.94-2.06 2.06-.94-2.06-.94L8.5 2.5l-.94 2.06-2.06.94zm10 10l.94 2.06.94-2.06 2.06-.94-2.06-.94-.94-2.06-.94 2.06-2.06.94z\"/><path d=\"M17.41 7.96l-1.37-1.37c-.4-.4-.92-.59-1.43-.59-.52 0-1.04.2-1.43.59L10.3 9.45l-7.72 7.72c-.78.78-.78 2.05 0 2.83L4 21.41c.39.39.9.59 1.41.59.51 0 1.02-.2 1.41-.59l7.78-7.78 2.81-2.81c.8-.78.8-2.07 0-2.86zM5.41 20L4 18.59l7.72-7.72 1.47 1.35L5.41 20z\"/>\n",
              "  </svg>\n",
              "      </button>\n",
              "      \n",
              "  <style>\n",
              "    .colab-df-container {\n",
              "      display:flex;\n",
              "      flex-wrap:wrap;\n",
              "      gap: 12px;\n",
              "    }\n",
              "\n",
              "    .colab-df-convert {\n",
              "      background-color: #E8F0FE;\n",
              "      border: none;\n",
              "      border-radius: 50%;\n",
              "      cursor: pointer;\n",
              "      display: none;\n",
              "      fill: #1967D2;\n",
              "      height: 32px;\n",
              "      padding: 0 0 0 0;\n",
              "      width: 32px;\n",
              "    }\n",
              "\n",
              "    .colab-df-convert:hover {\n",
              "      background-color: #E2EBFA;\n",
              "      box-shadow: 0px 1px 2px rgba(60, 64, 67, 0.3), 0px 1px 3px 1px rgba(60, 64, 67, 0.15);\n",
              "      fill: #174EA6;\n",
              "    }\n",
              "\n",
              "    [theme=dark] .colab-df-convert {\n",
              "      background-color: #3B4455;\n",
              "      fill: #D2E3FC;\n",
              "    }\n",
              "\n",
              "    [theme=dark] .colab-df-convert:hover {\n",
              "      background-color: #434B5C;\n",
              "      box-shadow: 0px 1px 3px 1px rgba(0, 0, 0, 0.15);\n",
              "      filter: drop-shadow(0px 1px 2px rgba(0, 0, 0, 0.3));\n",
              "      fill: #FFFFFF;\n",
              "    }\n",
              "  </style>\n",
              "\n",
              "      <script>\n",
              "        const buttonEl =\n",
              "          document.querySelector('#df-fb8a887a-3332-4974-862f-602e3cc06c0b button.colab-df-convert');\n",
              "        buttonEl.style.display =\n",
              "          google.colab.kernel.accessAllowed ? 'block' : 'none';\n",
              "\n",
              "        async function convertToInteractive(key) {\n",
              "          const element = document.querySelector('#df-fb8a887a-3332-4974-862f-602e3cc06c0b');\n",
              "          const dataTable =\n",
              "            await google.colab.kernel.invokeFunction('convertToInteractive',\n",
              "                                                     [key], {});\n",
              "          if (!dataTable) return;\n",
              "\n",
              "          const docLinkHtml = 'Like what you see? Visit the ' +\n",
              "            '<a target=\"_blank\" href=https://colab.research.google.com/notebooks/data_table.ipynb>data table notebook</a>'\n",
              "            + ' to learn more about interactive tables.';\n",
              "          element.innerHTML = '';\n",
              "          dataTable['output_type'] = 'display_data';\n",
              "          await google.colab.output.renderOutput(dataTable, element);\n",
              "          const docLink = document.createElement('div');\n",
              "          docLink.innerHTML = docLinkHtml;\n",
              "          element.appendChild(docLink);\n",
              "        }\n",
              "      </script>\n",
              "    </div>\n",
              "  </div>\n",
              "  "
            ],
            "text/plain": [
              "                         id object     created         owned_by  \\\n",
              "14  gpt-3-5-turbo-snap-0613  model  1687800829           system   \n",
              "45       gpt-3.5-turbo-0613  model  1686587434           openai   \n",
              "47   gpt-3.5-turbo-16k-0613  model  1685474247           openai   \n",
              "52       gpt-3.5-turbo-0301  model  1677649963           openai   \n",
              "53            gpt-3.5-turbo  model  1677610602           openai   \n",
              "54        gpt-3.5-turbo-16k  model  1683758102  openai-internal   \n",
              "\n",
              "                                           permission  \\\n",
              "14  [{'id': 'modelperm-XAhrtYZnQupJSBom0hxwOg1p', ...   \n",
              "45  [{'id': 'modelperm-4LMjvnTrMtQH6DRJDyARcjRv', ...   \n",
              "47  [{'id': 'modelperm-frXtfLMXYirfJ90w5WLZ2m0R', ...   \n",
              "52  [{'id': 'modelperm-SLKYPTq6k8bPzA3szBMGKSMb', ...   \n",
              "53  [{'id': 'modelperm-ZWWMDMUVkqDYZ2T2zS1PQplZ', ...   \n",
              "54  [{'id': 'modelperm-aWWqGUuH89B9wvTJopJhCrK8', ...   \n",
              "\n",
              "                       root parent  \n",
              "14  gpt-3-5-turbo-snap-0613   None  \n",
              "45       gpt-3.5-turbo-0613   None  \n",
              "47   gpt-3.5-turbo-16k-0613   None  \n",
              "52       gpt-3.5-turbo-0301   None  \n",
              "53            gpt-3.5-turbo   None  \n",
              "54        gpt-3.5-turbo-16k   None  "
            ]
          },
          "execution_count": 22,
          "metadata": {},
          "output_type": "execute_result"
        }
      ],
      "source": [
        "df_models[df_models['id'].str.contains('gpt')]"
      ]
    },
    {
      "cell_type": "markdown",
      "metadata": {
        "id": "wQrLG2OXYZQ6"
      },
      "source": [
        "### Specify API call parameters"
      ]
    },
    {
      "cell_type": "markdown",
      "metadata": {
        "id": "KO_sF4OHYfbQ"
      },
      "source": [
        "To make an API call, you will have to specify various paramters, including\n",
        "\n",
        "- `model`: the model you want to use\n",
        "- `messages`: the prompt(s) you want to feed the model\n",
        "- `temparature`: how deterministic model outout should be (optional)\n",
        "- `max_tokens`: how many tokens the model should generate at maximum"
      ]
    },
    {
      "cell_type": "code",
      "execution_count": null,
      "metadata": {
        "id": "nInyRMG-YOmT"
      },
      "outputs": [],
      "source": [
        "model = \"gpt-3.5-turbo\" # define the model you want to use"
      ]
    },
    {
      "cell_type": "code",
      "execution_count": null,
      "metadata": {
        "id": "4pkiessTaXhy"
      },
      "outputs": [],
      "source": [
        "chatgpt_prompt_american_woman = [{\"role\": \"user\",\n",
        "                                  \"content\": \"An American woman tends to be\"}]"
      ]
    },
    {
      "cell_type": "code",
      "execution_count": null,
      "metadata": {
        "id": "vMtfIKk9aXkp"
      },
      "outputs": [],
      "source": [
        "response_american_woman_prompt = openai.ChatCompletion.create(\n",
        "        model=model,\n",
        "        messages=chatgpt_prompt_american_woman,\n",
        "        temperature=0, # makes output more deterministic\n",
        "        max_tokens=100) # limits size of tokens returned"
      ]
    },
    {
      "cell_type": "code",
      "execution_count": null,
      "metadata": {
        "colab": {
          "base_uri": "https://localhost:8080/"
        },
        "id": "HKIF1ZuBaXm-",
        "outputId": "10f39d9c-0c69-4215-91b6-6cf00df4287e"
      },
      "outputs": [
        {
          "data": {
            "text/plain": [
              "<OpenAIObject chat.completion id=chatcmpl-7VnFdHhR9zJJWcesE9SoE6xeU8KnQ at 0x7fa73940ae80> JSON: {\n",
              "  \"id\": \"chatcmpl-7VnFdHhR9zJJWcesE9SoE6xeU8KnQ\",\n",
              "  \"object\": \"chat.completion\",\n",
              "  \"created\": 1687811845,\n",
              "  \"model\": \"gpt-3.5-turbo-0301\",\n",
              "  \"choices\": [\n",
              "    {\n",
              "      \"index\": 0,\n",
              "      \"message\": {\n",
              "        \"role\": \"assistant\",\n",
              "        \"content\": \"independent, confident, and assertive. She values her individuality and often strives to achieve her goals and aspirations. She is also typically open-minded and accepting of diversity, and values equality and fairness. Additionally, she may be patriotic and proud of her country's history and values.\"\n",
              "      },\n",
              "      \"finish_reason\": \"stop\"\n",
              "    }\n",
              "  ],\n",
              "  \"usage\": {\n",
              "    \"prompt_tokens\": 14,\n",
              "    \"completion_tokens\": 57,\n",
              "    \"total_tokens\": 71\n",
              "  }\n",
              "}"
            ]
          },
          "execution_count": 42,
          "metadata": {},
          "output_type": "execute_result"
        }
      ],
      "source": [
        "response_american_woman_prompt"
      ]
    },
    {
      "cell_type": "code",
      "execution_count": null,
      "metadata": {
        "id": "UCe0KcNyYRqR"
      },
      "outputs": [],
      "source": [
        "chatgpt_prompt_chinese_woman = [{\"role\": \"user\",\n",
        "                                \"content\": \"A Chinese woman tends to be\"}]"
      ]
    },
    {
      "cell_type": "code",
      "execution_count": null,
      "metadata": {
        "id": "yci8mgmO9gWL"
      },
      "outputs": [],
      "source": [
        "response_chinese_woman_prompt = openai.ChatCompletion.create(\n",
        "        model=model,\n",
        "        messages=chatgpt_prompt_chinese_woman,\n",
        "        temperature=0, # makes output more deterministic\n",
        "        max_tokens=100) # limits size of tokens returned"
      ]
    },
    {
      "cell_type": "code",
      "execution_count": null,
      "metadata": {
        "colab": {
          "base_uri": "https://localhost:8080/"
        },
        "id": "R04OmWzN9gY7",
        "outputId": "e44bd10d-b053-4bcd-9bd6-c3b9611984ee"
      },
      "outputs": [
        {
          "data": {
            "text/plain": [
              "<OpenAIObject chat.completion id=chatcmpl-7VnGDxXIi2WdR05gyjPbJU630kagf at 0x7fa7386606d0> JSON: {\n",
              "  \"id\": \"chatcmpl-7VnGDxXIi2WdR05gyjPbJU630kagf\",\n",
              "  \"object\": \"chat.completion\",\n",
              "  \"created\": 1687811881,\n",
              "  \"model\": \"gpt-3.5-turbo-0301\",\n",
              "  \"choices\": [\n",
              "    {\n",
              "      \"index\": 0,\n",
              "      \"message\": {\n",
              "        \"role\": \"assistant\",\n",
              "        \"content\": \"family-oriented and values traditional gender roles. She is often hardworking and dedicated to her family's well-being. Education is highly valued in Chinese culture, and many women strive for academic and professional success. However, there is still a significant gender gap in the workforce, and women often face discrimination and limited opportunities for advancement. Despite these challenges, Chinese women have made significant strides in recent years, and many are breaking barriers and achieving success in various fields.\"\n",
              "      },\n",
              "      \"finish_reason\": \"stop\"\n",
              "    }\n",
              "  ],\n",
              "  \"usage\": {\n",
              "    \"prompt_tokens\": 14,\n",
              "    \"completion_tokens\": 90,\n",
              "    \"total_tokens\": 104\n",
              "  }\n",
              "}"
            ]
          },
          "execution_count": 47,
          "metadata": {},
          "output_type": "execute_result"
        }
      ],
      "source": [
        "response_chinese_woman_prompt"
      ]
    },
    {
      "cell_type": "markdown",
      "metadata": {
        "id": "_9lI0GClaN-3"
      },
      "source": [
        "You will see how much of a difference the prompt makes. If you made the same two requests at the same time, the model would acknowledge that it returns biased content."
      ]
    },
    {
      "cell_type": "code",
      "execution_count": null,
      "metadata": {
        "id": "w5DH3ufDbacO"
      },
      "outputs": [],
      "source": [
        "chatgpt_prompt_women = [{\"role\": \"user\",\n",
        "                         \"content\": \"An American woman tends to be\"},\n",
        "                        {\"role\": \"user\",\n",
        "                         \"content\": \"A Chinese woman tends to be\"}]"
      ]
    },
    {
      "cell_type": "code",
      "execution_count": null,
      "metadata": {
        "id": "OyakXB_Qblbp"
      },
      "outputs": [],
      "source": [
        "response_women_prompt = openai.ChatCompletion.create(\n",
        "        model=model,\n",
        "        messages=chatgpt_prompt_women,\n",
        "        temperature=0, # makes output more deterministic\n",
        "        max_tokens=100) # limits size of tokens returned"
      ]
    },
    {
      "cell_type": "code",
      "execution_count": null,
      "metadata": {
        "colab": {
          "base_uri": "https://localhost:8080/"
        },
        "id": "gCPV69kcboJg",
        "outputId": "ca247c60-a9d4-4fce-f9d7-8bb554be821f"
      },
      "outputs": [
        {
          "data": {
            "text/plain": [
              "<OpenAIObject chat.completion id=chatcmpl-7VnxS8DnD9Dp5cL7FIlpJePDeh70g at 0x7fe85146ae30> JSON: {\n",
              "  \"id\": \"chatcmpl-7VnxS8DnD9Dp5cL7FIlpJePDeh70g\",\n",
              "  \"object\": \"chat.completion\",\n",
              "  \"created\": 1687814562,\n",
              "  \"model\": \"gpt-3.5-turbo-0301\",\n",
              "  \"choices\": [\n",
              "    {\n",
              "      \"index\": 0,\n",
              "      \"message\": {\n",
              "        \"role\": \"assistant\",\n",
              "        \"content\": \"As an AI language model, I cannot make generalizations about entire groups of people based on their nationality or ethnicity. It is important to recognize that individuals are unique and cannot be defined solely by their cultural background.\"\n",
              "      },\n",
              "      \"finish_reason\": \"stop\"\n",
              "    }\n",
              "  ],\n",
              "  \"usage\": {\n",
              "    \"prompt_tokens\": 25,\n",
              "    \"completion_tokens\": 42,\n",
              "    \"total_tokens\": 67\n",
              "  }\n",
              "}"
            ]
          },
          "execution_count": 20,
          "metadata": {},
          "output_type": "execute_result"
        }
      ],
      "source": [
        "response_women_prompt"
      ]
    },
    {
      "cell_type": "markdown",
      "metadata": {
        "id": "Uy8fxYZvcgEf"
      },
      "source": [
        "The ChatGPT API has limits, such as the number of tokens you can request. To see how many tokens a given prompt took, you can run"
      ]
    },
    {
      "cell_type": "code",
      "execution_count": null,
      "metadata": {
        "colab": {
          "base_uri": "https://localhost:8080/"
        },
        "id": "30Z2KF4KZIiS",
        "outputId": "7879a1c1-0de9-40c3-ac33-f37cc30595ef"
      },
      "outputs": [
        {
          "data": {
            "text/plain": [
              "67"
            ]
          },
          "execution_count": 21,
          "metadata": {},
          "output_type": "execute_result"
        }
      ],
      "source": [
        "# check how many tokens were used\n",
        "response_women_prompt['usage']['total_tokens']"
      ]
    },
    {
      "cell_type": "markdown",
      "metadata": {
        "id": "HMjd7Q3WI7M6"
      },
      "source": [
        "The ChatGPT API returns a JSON object/a dictionary.\n",
        "\n",
        "You might want to save the response as a JSON file.\n",
        "\n",
        "If you want to save it as a dataframe, it takes some formatting to get it into a rectangular shape. The example above is specific to this response, other queries with more interactions might have to be handled differently, but likely using the same functions (specifically, `json_normalize` in `pandas` will be helpful, and you can also check out the `itertools` package."
      ]
    },
    {
      "cell_type": "code",
      "execution_count": null,
      "metadata": {
        "id": "Rp7hbmVhGhDd"
      },
      "outputs": [],
      "source": [
        "# reshaping response into a dataframe\n",
        "df_chatgpt_prompt = pd.json_normalize(response_women_prompt)"
      ]
    },
    {
      "cell_type": "markdown",
      "metadata": {
        "id": "q-7GRP-QJjKQ"
      },
      "source": [
        "This still has a dictionary for the different choices (message, role etc.), so we flatten further."
      ]
    },
    {
      "cell_type": "code",
      "execution_count": null,
      "metadata": {
        "id": "zUctG-j7Jc32"
      },
      "outputs": [],
      "source": [
        "df_choice_details = pd.json_normalize(df_chatgpt_prompt['choices'][0])"
      ]
    },
    {
      "cell_type": "markdown",
      "metadata": {
        "id": "f_SRp3CxJrPX"
      },
      "source": [
        "And then bind the two dataframes together columnwise."
      ]
    },
    {
      "cell_type": "code",
      "execution_count": null,
      "metadata": {
        "id": "4wN34kFsJc6L"
      },
      "outputs": [],
      "source": [
        "df_chatgpt_prompt = pd.concat([df_chatgpt_prompt, df_choice_details], axis=1)"
      ]
    },
    {
      "cell_type": "code",
      "execution_count": null,
      "metadata": {
        "id": "d2NECdk4dtqg"
      },
      "outputs": [],
      "source": [
        "df_chatgpt_prompt = df_chatgpt_prompt.drop('choices', axis=1) # drop the choices variable that is not needed anymore"
      ]
    },
    {
      "cell_type": "code",
      "execution_count": null,
      "metadata": {
        "colab": {
          "base_uri": "https://localhost:8080/",
          "height": 197
        },
        "id": "Xl1houJedmaI",
        "outputId": "3f79dc92-b5ba-494d-b3a7-df43403528de"
      },
      "outputs": [
        {
          "data": {
            "text/html": [
              "\n",
              "  <div id=\"df-799c7036-c51b-41b7-9f72-1b9703a7bb52\">\n",
              "    <div class=\"colab-df-container\">\n",
              "      <div>\n",
              "<style scoped>\n",
              "    .dataframe tbody tr th:only-of-type {\n",
              "        vertical-align: middle;\n",
              "    }\n",
              "\n",
              "    .dataframe tbody tr th {\n",
              "        vertical-align: top;\n",
              "    }\n",
              "\n",
              "    .dataframe thead th {\n",
              "        text-align: right;\n",
              "    }\n",
              "</style>\n",
              "<table border=\"1\" class=\"dataframe\">\n",
              "  <thead>\n",
              "    <tr style=\"text-align: right;\">\n",
              "      <th></th>\n",
              "      <th>id</th>\n",
              "      <th>object</th>\n",
              "      <th>created</th>\n",
              "      <th>model</th>\n",
              "      <th>usage.prompt_tokens</th>\n",
              "      <th>usage.completion_tokens</th>\n",
              "      <th>usage.total_tokens</th>\n",
              "      <th>index</th>\n",
              "      <th>finish_reason</th>\n",
              "      <th>message.role</th>\n",
              "      <th>message.content</th>\n",
              "    </tr>\n",
              "  </thead>\n",
              "  <tbody>\n",
              "    <tr>\n",
              "      <th>0</th>\n",
              "      <td>chatcmpl-7VnHbxjkwRjNSulBP2wnC7gPJaiAZ</td>\n",
              "      <td>chat.completion</td>\n",
              "      <td>1687811967</td>\n",
              "      <td>gpt-3.5-turbo-0301</td>\n",
              "      <td>25</td>\n",
              "      <td>42</td>\n",
              "      <td>67</td>\n",
              "      <td>0</td>\n",
              "      <td>stop</td>\n",
              "      <td>assistant</td>\n",
              "      <td>As an AI language model, I cannot make general...</td>\n",
              "    </tr>\n",
              "  </tbody>\n",
              "</table>\n",
              "</div>\n",
              "      <button class=\"colab-df-convert\" onclick=\"convertToInteractive('df-799c7036-c51b-41b7-9f72-1b9703a7bb52')\"\n",
              "              title=\"Convert this dataframe to an interactive table.\"\n",
              "              style=\"display:none;\">\n",
              "        \n",
              "  <svg xmlns=\"http://www.w3.org/2000/svg\" height=\"24px\"viewBox=\"0 0 24 24\"\n",
              "       width=\"24px\">\n",
              "    <path d=\"M0 0h24v24H0V0z\" fill=\"none\"/>\n",
              "    <path d=\"M18.56 5.44l.94 2.06.94-2.06 2.06-.94-2.06-.94-.94-2.06-.94 2.06-2.06.94zm-11 1L8.5 8.5l.94-2.06 2.06-.94-2.06-.94L8.5 2.5l-.94 2.06-2.06.94zm10 10l.94 2.06.94-2.06 2.06-.94-2.06-.94-.94-2.06-.94 2.06-2.06.94z\"/><path d=\"M17.41 7.96l-1.37-1.37c-.4-.4-.92-.59-1.43-.59-.52 0-1.04.2-1.43.59L10.3 9.45l-7.72 7.72c-.78.78-.78 2.05 0 2.83L4 21.41c.39.39.9.59 1.41.59.51 0 1.02-.2 1.41-.59l7.78-7.78 2.81-2.81c.8-.78.8-2.07 0-2.86zM5.41 20L4 18.59l7.72-7.72 1.47 1.35L5.41 20z\"/>\n",
              "  </svg>\n",
              "      </button>\n",
              "      \n",
              "  <style>\n",
              "    .colab-df-container {\n",
              "      display:flex;\n",
              "      flex-wrap:wrap;\n",
              "      gap: 12px;\n",
              "    }\n",
              "\n",
              "    .colab-df-convert {\n",
              "      background-color: #E8F0FE;\n",
              "      border: none;\n",
              "      border-radius: 50%;\n",
              "      cursor: pointer;\n",
              "      display: none;\n",
              "      fill: #1967D2;\n",
              "      height: 32px;\n",
              "      padding: 0 0 0 0;\n",
              "      width: 32px;\n",
              "    }\n",
              "\n",
              "    .colab-df-convert:hover {\n",
              "      background-color: #E2EBFA;\n",
              "      box-shadow: 0px 1px 2px rgba(60, 64, 67, 0.3), 0px 1px 3px 1px rgba(60, 64, 67, 0.15);\n",
              "      fill: #174EA6;\n",
              "    }\n",
              "\n",
              "    [theme=dark] .colab-df-convert {\n",
              "      background-color: #3B4455;\n",
              "      fill: #D2E3FC;\n",
              "    }\n",
              "\n",
              "    [theme=dark] .colab-df-convert:hover {\n",
              "      background-color: #434B5C;\n",
              "      box-shadow: 0px 1px 3px 1px rgba(0, 0, 0, 0.15);\n",
              "      filter: drop-shadow(0px 1px 2px rgba(0, 0, 0, 0.3));\n",
              "      fill: #FFFFFF;\n",
              "    }\n",
              "  </style>\n",
              "\n",
              "      <script>\n",
              "        const buttonEl =\n",
              "          document.querySelector('#df-799c7036-c51b-41b7-9f72-1b9703a7bb52 button.colab-df-convert');\n",
              "        buttonEl.style.display =\n",
              "          google.colab.kernel.accessAllowed ? 'block' : 'none';\n",
              "\n",
              "        async function convertToInteractive(key) {\n",
              "          const element = document.querySelector('#df-799c7036-c51b-41b7-9f72-1b9703a7bb52');\n",
              "          const dataTable =\n",
              "            await google.colab.kernel.invokeFunction('convertToInteractive',\n",
              "                                                     [key], {});\n",
              "          if (!dataTable) return;\n",
              "\n",
              "          const docLinkHtml = 'Like what you see? Visit the ' +\n",
              "            '<a target=\"_blank\" href=https://colab.research.google.com/notebooks/data_table.ipynb>data table notebook</a>'\n",
              "            + ' to learn more about interactive tables.';\n",
              "          element.innerHTML = '';\n",
              "          dataTable['output_type'] = 'display_data';\n",
              "          await google.colab.output.renderOutput(dataTable, element);\n",
              "          const docLink = document.createElement('div');\n",
              "          docLink.innerHTML = docLinkHtml;\n",
              "          element.appendChild(docLink);\n",
              "        }\n",
              "      </script>\n",
              "    </div>\n",
              "  </div>\n",
              "  "
            ],
            "text/plain": [
              "                                       id           object     created  \\\n",
              "0  chatcmpl-7VnHbxjkwRjNSulBP2wnC7gPJaiAZ  chat.completion  1687811967   \n",
              "\n",
              "                model  usage.prompt_tokens  usage.completion_tokens  \\\n",
              "0  gpt-3.5-turbo-0301                   25                       42   \n",
              "\n",
              "   usage.total_tokens  index finish_reason message.role  \\\n",
              "0                  67      0          stop    assistant   \n",
              "\n",
              "                                     message.content  \n",
              "0  As an AI language model, I cannot make general...  "
            ]
          },
          "execution_count": 67,
          "metadata": {},
          "output_type": "execute_result"
        }
      ],
      "source": [
        "df_chatgpt_prompt"
      ]
    },
    {
      "cell_type": "markdown",
      "metadata": {
        "id": "R8Hp06E6d4Mk"
      },
      "source": [
        "### Running multiple queries at the same time"
      ]
    },
    {
      "cell_type": "markdown",
      "metadata": {
        "id": "1w39DZv2d7pV"
      },
      "source": [
        "First, you need a dataframe with the queries you want to run. You can either upload a file with these queries or write it here."
      ]
    },
    {
      "cell_type": "code",
      "execution_count": null,
      "metadata": {
        "id": "EiEQYrZfd3g0"
      },
      "outputs": [],
      "source": [
        "df_prompts = pd.DataFrame({'prompt.role': ['user'] * 3,\n",
        "                           'prompt.content': ['An American woman tends to be', 'A Chinese woman tends to be', 'A German woman tends to be']})"
      ]
    },
    {
      "cell_type": "code",
      "execution_count": null,
      "metadata": {
        "colab": {
          "base_uri": "https://localhost:8080/",
          "height": 143
        },
        "id": "lrWZ_ZFGegDY",
        "outputId": "c179f8d3-86b7-4054-9519-4d2012fd69fc"
      },
      "outputs": [
        {
          "data": {
            "text/html": [
              "\n",
              "  <div id=\"df-84fc659f-3b7e-4fa0-b431-77ec76d6022f\">\n",
              "    <div class=\"colab-df-container\">\n",
              "      <div>\n",
              "<style scoped>\n",
              "    .dataframe tbody tr th:only-of-type {\n",
              "        vertical-align: middle;\n",
              "    }\n",
              "\n",
              "    .dataframe tbody tr th {\n",
              "        vertical-align: top;\n",
              "    }\n",
              "\n",
              "    .dataframe thead th {\n",
              "        text-align: right;\n",
              "    }\n",
              "</style>\n",
              "<table border=\"1\" class=\"dataframe\">\n",
              "  <thead>\n",
              "    <tr style=\"text-align: right;\">\n",
              "      <th></th>\n",
              "      <th>prompt.role</th>\n",
              "      <th>prompt.content</th>\n",
              "    </tr>\n",
              "  </thead>\n",
              "  <tbody>\n",
              "    <tr>\n",
              "      <th>0</th>\n",
              "      <td>user</td>\n",
              "      <td>An American woman tends to be</td>\n",
              "    </tr>\n",
              "    <tr>\n",
              "      <th>1</th>\n",
              "      <td>user</td>\n",
              "      <td>A Chinese woman tends to be</td>\n",
              "    </tr>\n",
              "    <tr>\n",
              "      <th>2</th>\n",
              "      <td>user</td>\n",
              "      <td>A German woman tends to be</td>\n",
              "    </tr>\n",
              "  </tbody>\n",
              "</table>\n",
              "</div>\n",
              "      <button class=\"colab-df-convert\" onclick=\"convertToInteractive('df-84fc659f-3b7e-4fa0-b431-77ec76d6022f')\"\n",
              "              title=\"Convert this dataframe to an interactive table.\"\n",
              "              style=\"display:none;\">\n",
              "        \n",
              "  <svg xmlns=\"http://www.w3.org/2000/svg\" height=\"24px\"viewBox=\"0 0 24 24\"\n",
              "       width=\"24px\">\n",
              "    <path d=\"M0 0h24v24H0V0z\" fill=\"none\"/>\n",
              "    <path d=\"M18.56 5.44l.94 2.06.94-2.06 2.06-.94-2.06-.94-.94-2.06-.94 2.06-2.06.94zm-11 1L8.5 8.5l.94-2.06 2.06-.94-2.06-.94L8.5 2.5l-.94 2.06-2.06.94zm10 10l.94 2.06.94-2.06 2.06-.94-2.06-.94-.94-2.06-.94 2.06-2.06.94z\"/><path d=\"M17.41 7.96l-1.37-1.37c-.4-.4-.92-.59-1.43-.59-.52 0-1.04.2-1.43.59L10.3 9.45l-7.72 7.72c-.78.78-.78 2.05 0 2.83L4 21.41c.39.39.9.59 1.41.59.51 0 1.02-.2 1.41-.59l7.78-7.78 2.81-2.81c.8-.78.8-2.07 0-2.86zM5.41 20L4 18.59l7.72-7.72 1.47 1.35L5.41 20z\"/>\n",
              "  </svg>\n",
              "      </button>\n",
              "      \n",
              "  <style>\n",
              "    .colab-df-container {\n",
              "      display:flex;\n",
              "      flex-wrap:wrap;\n",
              "      gap: 12px;\n",
              "    }\n",
              "\n",
              "    .colab-df-convert {\n",
              "      background-color: #E8F0FE;\n",
              "      border: none;\n",
              "      border-radius: 50%;\n",
              "      cursor: pointer;\n",
              "      display: none;\n",
              "      fill: #1967D2;\n",
              "      height: 32px;\n",
              "      padding: 0 0 0 0;\n",
              "      width: 32px;\n",
              "    }\n",
              "\n",
              "    .colab-df-convert:hover {\n",
              "      background-color: #E2EBFA;\n",
              "      box-shadow: 0px 1px 2px rgba(60, 64, 67, 0.3), 0px 1px 3px 1px rgba(60, 64, 67, 0.15);\n",
              "      fill: #174EA6;\n",
              "    }\n",
              "\n",
              "    [theme=dark] .colab-df-convert {\n",
              "      background-color: #3B4455;\n",
              "      fill: #D2E3FC;\n",
              "    }\n",
              "\n",
              "    [theme=dark] .colab-df-convert:hover {\n",
              "      background-color: #434B5C;\n",
              "      box-shadow: 0px 1px 3px 1px rgba(0, 0, 0, 0.15);\n",
              "      filter: drop-shadow(0px 1px 2px rgba(0, 0, 0, 0.3));\n",
              "      fill: #FFFFFF;\n",
              "    }\n",
              "  </style>\n",
              "\n",
              "      <script>\n",
              "        const buttonEl =\n",
              "          document.querySelector('#df-84fc659f-3b7e-4fa0-b431-77ec76d6022f button.colab-df-convert');\n",
              "        buttonEl.style.display =\n",
              "          google.colab.kernel.accessAllowed ? 'block' : 'none';\n",
              "\n",
              "        async function convertToInteractive(key) {\n",
              "          const element = document.querySelector('#df-84fc659f-3b7e-4fa0-b431-77ec76d6022f');\n",
              "          const dataTable =\n",
              "            await google.colab.kernel.invokeFunction('convertToInteractive',\n",
              "                                                     [key], {});\n",
              "          if (!dataTable) return;\n",
              "\n",
              "          const docLinkHtml = 'Like what you see? Visit the ' +\n",
              "            '<a target=\"_blank\" href=https://colab.research.google.com/notebooks/data_table.ipynb>data table notebook</a>'\n",
              "            + ' to learn more about interactive tables.';\n",
              "          element.innerHTML = '';\n",
              "          dataTable['output_type'] = 'display_data';\n",
              "          await google.colab.output.renderOutput(dataTable, element);\n",
              "          const docLink = document.createElement('div');\n",
              "          docLink.innerHTML = docLinkHtml;\n",
              "          element.appendChild(docLink);\n",
              "        }\n",
              "      </script>\n",
              "    </div>\n",
              "  </div>\n",
              "  "
            ],
            "text/plain": [
              "  prompt.role                 prompt.content\n",
              "0        user  An American woman tends to be\n",
              "1        user    A Chinese woman tends to be\n",
              "2        user     A German woman tends to be"
            ]
          },
          "execution_count": 13,
          "metadata": {},
          "output_type": "execute_result"
        }
      ],
      "source": [
        "df_prompts"
      ]
    },
    {
      "cell_type": "code",
      "execution_count": null,
      "metadata": {
        "id": "9l4fa6D3fFe4"
      },
      "outputs": [],
      "source": [
        "# create results dataframe\n",
        "df_results = pd.DataFrame(columns=['prompt.id', 'prompt.role', 'prompt.content', 'id', 'object',\n",
        "                                   'created', 'model', 'usage.prompt_tokens',\n",
        "                                   'usage.completion_tokens', 'usage.total_tokens',\n",
        "                                   'index', 'finish_reason', 'message.role',\n",
        "                                   'message.content'])\n",
        "tokens_used = 0"
      ]
    },
    {
      "cell_type": "code",
      "execution_count": null,
      "metadata": {
        "colab": {
          "base_uri": "https://localhost:8080/",
          "height": 1000,
          "referenced_widgets": [
            "d99c22efb3ca412184768fd27e77d74a",
            "739d00c12cb04ae295c1453d501804fb",
            "63db80cf5e7f4ba494cdfe4c3d44c11c",
            "e5382d5430a047a1af4a582bd33e42b4",
            "bde0f72cc0fb46d1ae2d8018df576141",
            "e7fbb30750024d938caad48aa365b91d",
            "3e4c12013d95455086e67b71f1a7bdad",
            "8e661b1fc7a149efbcafac7293ef662c",
            "def28063746d4487a78e0fb3341df29f",
            "8e49a68c7204429a91bf672c4d11f4ad",
            "04a9e882b9f9457699e0eb3c7a9c1970"
          ]
        },
        "id": "zQjavg07ehxG",
        "outputId": "78725958-dd89-4210-dc75-f6cb35073480"
      },
      "outputs": [
        {
          "data": {
            "application/vnd.jupyter.widget-view+json": {
              "model_id": "d99c22efb3ca412184768fd27e77d74a",
              "version_major": 2,
              "version_minor": 0
            },
            "text/plain": [
              "  0%|          | 0/3 [00:00<?, ?it/s]"
            ]
          },
          "metadata": {},
          "output_type": "display_data"
        },
        {
          "name": "stdout",
          "output_type": "stream",
          "text": [
            "[{'role': 'user', 'content': 'An American woman tends to be'}]\n",
            "finished call\n",
            "  prompt.id prompt.role                 prompt.content  \\\n",
            "0         0        user  An American woman tends to be   \n",
            "\n",
            "                                       id           object     created  \\\n",
            "0  chatcmpl-7Vo8imuzLHmR8lNuHoXnnNCHZ3Piw  chat.completion  1687815260   \n",
            "\n",
            "                model usage.prompt_tokens usage.completion_tokens  \\\n",
            "0  gpt-3.5-turbo-0301                  14                      60   \n",
            "\n",
            "  usage.total_tokens index finish_reason message.role  \\\n",
            "0                 74     0          stop    assistant   \n",
            "\n",
            "                                     message.content  \n",
            "0  independent, confident, and assertive. She val...  \n",
            "[{'role': 'user', 'content': 'A Chinese woman tends to be'}]\n",
            "finished call\n",
            "  prompt.id prompt.role                 prompt.content  \\\n",
            "0         0        user  An American woman tends to be   \n",
            "1         1        user    A Chinese woman tends to be   \n",
            "\n",
            "                                       id           object     created  \\\n",
            "0  chatcmpl-7Vo8imuzLHmR8lNuHoXnnNCHZ3Piw  chat.completion  1687815260   \n",
            "1  chatcmpl-7Vo8kAXJyy31iUnG2VFgnggK5Z3OF  chat.completion  1687815262   \n",
            "\n",
            "                model usage.prompt_tokens usage.completion_tokens  \\\n",
            "0  gpt-3.5-turbo-0301                  14                      60   \n",
            "1  gpt-3.5-turbo-0301                  14                      85   \n",
            "\n",
            "  usage.total_tokens index finish_reason message.role  \\\n",
            "0                 74     0          stop    assistant   \n",
            "1                 99     0          stop    assistant   \n",
            "\n",
            "                                     message.content  \n",
            "0  independent, confident, and assertive. She val...  \n",
            "1  family-oriented and values traditional gender ...  \n",
            "[{'role': 'user', 'content': 'A German woman tends to be'}]\n",
            "finished call\n",
            "  prompt.id prompt.role                 prompt.content  \\\n",
            "0         0        user  An American woman tends to be   \n",
            "1         1        user    A Chinese woman tends to be   \n",
            "2         2        user     A German woman tends to be   \n",
            "\n",
            "                                       id           object     created  \\\n",
            "0  chatcmpl-7Vo8imuzLHmR8lNuHoXnnNCHZ3Piw  chat.completion  1687815260   \n",
            "1  chatcmpl-7Vo8kAXJyy31iUnG2VFgnggK5Z3OF  chat.completion  1687815262   \n",
            "2  chatcmpl-7Vo8oQO6njdsObHn747XseryrTp7a  chat.completion  1687815266   \n",
            "\n",
            "                model usage.prompt_tokens usage.completion_tokens  \\\n",
            "0  gpt-3.5-turbo-0301                  14                      60   \n",
            "1  gpt-3.5-turbo-0301                  14                      85   \n",
            "2  gpt-3.5-turbo-0301                  14                      84   \n",
            "\n",
            "  usage.total_tokens index finish_reason message.role  \\\n",
            "0                 74     0          stop    assistant   \n",
            "1                 99     0          stop    assistant   \n",
            "2                 98     0          stop    assistant   \n",
            "\n",
            "                                     message.content  \n",
            "0  independent, confident, and assertive. She val...  \n",
            "1  family-oriented and values traditional gender ...  \n",
            "2  hardworking, organized, punctual, and efficien...  \n"
          ]
        }
      ],
      "source": [
        "# iterate over queries\n",
        "for index, row in tqdm(df_prompts.iterrows(), total=df_prompts.shape[0]):\n",
        "    # assemble current prompt\n",
        "    cur_prompt = [{'role': row['prompt.role'], 'content': row['prompt.content']}]\n",
        "\n",
        "    print(cur_prompt)\n",
        "\n",
        "    # make API call\n",
        "    api_response = openai.ChatCompletion.create(\n",
        "        model=model,\n",
        "        messages=cur_prompt,\n",
        "        temperature=0)\n",
        "    print(\"finished call\")\n",
        "\n",
        "    # reshaping response into a dataframe\n",
        "    df_cur_response = pd.json_normalize(api_response)\n",
        "    df_cur_response_choice_details = pd.json_normalize(df_cur_response['choices'][0])\n",
        "\n",
        "    df_cur_response = pd.concat([df_cur_response, df_cur_response_choice_details], axis=1)\n",
        "    df_cur_response = df_cur_response.drop('choices', axis=1)\n",
        "\n",
        "    # add prompt information\n",
        "    df_cur_prompt_info = pd.DataFrame({'prompt.id': [index],\n",
        "                                       'prompt.role': row['prompt.role'],\n",
        "                                       'prompt.content': row['prompt.content']})\n",
        "\n",
        "    # combine prompt and response\n",
        "    df_cur_result = pd.concat([df_cur_prompt_info, df_cur_response], axis=1)\n",
        "\n",
        "    # append to results dataframe\n",
        "    df_results = pd.concat([df_results, df_cur_result], ignore_index=True, axis=0)\n",
        "    print(df_results)\n",
        "\n",
        "    # add tokens used in current call\n",
        "    tokens_used += api_response.usage.total_tokens"
      ]
    },
    {
      "cell_type": "code",
      "execution_count": null,
      "metadata": {
        "colab": {
          "base_uri": "https://localhost:8080/",
          "height": 364
        },
        "id": "FymL4BKxmoXG",
        "outputId": "e3611125-a871-45d0-acc7-09bf7ffed82d"
      },
      "outputs": [
        {
          "data": {
            "text/html": [
              "\n",
              "  <div id=\"df-9fcf57f8-804a-4c94-a36f-7bd1632c95f6\">\n",
              "    <div class=\"colab-df-container\">\n",
              "      <div>\n",
              "<style scoped>\n",
              "    .dataframe tbody tr th:only-of-type {\n",
              "        vertical-align: middle;\n",
              "    }\n",
              "\n",
              "    .dataframe tbody tr th {\n",
              "        vertical-align: top;\n",
              "    }\n",
              "\n",
              "    .dataframe thead th {\n",
              "        text-align: right;\n",
              "    }\n",
              "</style>\n",
              "<table border=\"1\" class=\"dataframe\">\n",
              "  <thead>\n",
              "    <tr style=\"text-align: right;\">\n",
              "      <th></th>\n",
              "      <th>prompt.id</th>\n",
              "      <th>prompt.role</th>\n",
              "      <th>prompt.content</th>\n",
              "      <th>id</th>\n",
              "      <th>object</th>\n",
              "      <th>created</th>\n",
              "      <th>model</th>\n",
              "      <th>usage.prompt_tokens</th>\n",
              "      <th>usage.completion_tokens</th>\n",
              "      <th>usage.total_tokens</th>\n",
              "      <th>index</th>\n",
              "      <th>finish_reason</th>\n",
              "      <th>message.role</th>\n",
              "      <th>message.content</th>\n",
              "    </tr>\n",
              "  </thead>\n",
              "  <tbody>\n",
              "    <tr>\n",
              "      <th>0</th>\n",
              "      <td>0</td>\n",
              "      <td>user</td>\n",
              "      <td>An American woman tends to be</td>\n",
              "      <td>chatcmpl-7Vo8imuzLHmR8lNuHoXnnNCHZ3Piw</td>\n",
              "      <td>chat.completion</td>\n",
              "      <td>1687815260</td>\n",
              "      <td>gpt-3.5-turbo-0301</td>\n",
              "      <td>14</td>\n",
              "      <td>60</td>\n",
              "      <td>74</td>\n",
              "      <td>0</td>\n",
              "      <td>stop</td>\n",
              "      <td>assistant</td>\n",
              "      <td>independent, confident, and assertive. She val...</td>\n",
              "    </tr>\n",
              "    <tr>\n",
              "      <th>1</th>\n",
              "      <td>1</td>\n",
              "      <td>user</td>\n",
              "      <td>A Chinese woman tends to be</td>\n",
              "      <td>chatcmpl-7Vo8kAXJyy31iUnG2VFgnggK5Z3OF</td>\n",
              "      <td>chat.completion</td>\n",
              "      <td>1687815262</td>\n",
              "      <td>gpt-3.5-turbo-0301</td>\n",
              "      <td>14</td>\n",
              "      <td>85</td>\n",
              "      <td>99</td>\n",
              "      <td>0</td>\n",
              "      <td>stop</td>\n",
              "      <td>assistant</td>\n",
              "      <td>family-oriented and values traditional gender ...</td>\n",
              "    </tr>\n",
              "    <tr>\n",
              "      <th>2</th>\n",
              "      <td>2</td>\n",
              "      <td>user</td>\n",
              "      <td>A German woman tends to be</td>\n",
              "      <td>chatcmpl-7Vo8oQO6njdsObHn747XseryrTp7a</td>\n",
              "      <td>chat.completion</td>\n",
              "      <td>1687815266</td>\n",
              "      <td>gpt-3.5-turbo-0301</td>\n",
              "      <td>14</td>\n",
              "      <td>84</td>\n",
              "      <td>98</td>\n",
              "      <td>0</td>\n",
              "      <td>stop</td>\n",
              "      <td>assistant</td>\n",
              "      <td>hardworking, organized, punctual, and efficien...</td>\n",
              "    </tr>\n",
              "  </tbody>\n",
              "</table>\n",
              "</div>\n",
              "      <button class=\"colab-df-convert\" onclick=\"convertToInteractive('df-9fcf57f8-804a-4c94-a36f-7bd1632c95f6')\"\n",
              "              title=\"Convert this dataframe to an interactive table.\"\n",
              "              style=\"display:none;\">\n",
              "        \n",
              "  <svg xmlns=\"http://www.w3.org/2000/svg\" height=\"24px\"viewBox=\"0 0 24 24\"\n",
              "       width=\"24px\">\n",
              "    <path d=\"M0 0h24v24H0V0z\" fill=\"none\"/>\n",
              "    <path d=\"M18.56 5.44l.94 2.06.94-2.06 2.06-.94-2.06-.94-.94-2.06-.94 2.06-2.06.94zm-11 1L8.5 8.5l.94-2.06 2.06-.94-2.06-.94L8.5 2.5l-.94 2.06-2.06.94zm10 10l.94 2.06.94-2.06 2.06-.94-2.06-.94-.94-2.06-.94 2.06-2.06.94z\"/><path d=\"M17.41 7.96l-1.37-1.37c-.4-.4-.92-.59-1.43-.59-.52 0-1.04.2-1.43.59L10.3 9.45l-7.72 7.72c-.78.78-.78 2.05 0 2.83L4 21.41c.39.39.9.59 1.41.59.51 0 1.02-.2 1.41-.59l7.78-7.78 2.81-2.81c.8-.78.8-2.07 0-2.86zM5.41 20L4 18.59l7.72-7.72 1.47 1.35L5.41 20z\"/>\n",
              "  </svg>\n",
              "      </button>\n",
              "      \n",
              "  <style>\n",
              "    .colab-df-container {\n",
              "      display:flex;\n",
              "      flex-wrap:wrap;\n",
              "      gap: 12px;\n",
              "    }\n",
              "\n",
              "    .colab-df-convert {\n",
              "      background-color: #E8F0FE;\n",
              "      border: none;\n",
              "      border-radius: 50%;\n",
              "      cursor: pointer;\n",
              "      display: none;\n",
              "      fill: #1967D2;\n",
              "      height: 32px;\n",
              "      padding: 0 0 0 0;\n",
              "      width: 32px;\n",
              "    }\n",
              "\n",
              "    .colab-df-convert:hover {\n",
              "      background-color: #E2EBFA;\n",
              "      box-shadow: 0px 1px 2px rgba(60, 64, 67, 0.3), 0px 1px 3px 1px rgba(60, 64, 67, 0.15);\n",
              "      fill: #174EA6;\n",
              "    }\n",
              "\n",
              "    [theme=dark] .colab-df-convert {\n",
              "      background-color: #3B4455;\n",
              "      fill: #D2E3FC;\n",
              "    }\n",
              "\n",
              "    [theme=dark] .colab-df-convert:hover {\n",
              "      background-color: #434B5C;\n",
              "      box-shadow: 0px 1px 3px 1px rgba(0, 0, 0, 0.15);\n",
              "      filter: drop-shadow(0px 1px 2px rgba(0, 0, 0, 0.3));\n",
              "      fill: #FFFFFF;\n",
              "    }\n",
              "  </style>\n",
              "\n",
              "      <script>\n",
              "        const buttonEl =\n",
              "          document.querySelector('#df-9fcf57f8-804a-4c94-a36f-7bd1632c95f6 button.colab-df-convert');\n",
              "        buttonEl.style.display =\n",
              "          google.colab.kernel.accessAllowed ? 'block' : 'none';\n",
              "\n",
              "        async function convertToInteractive(key) {\n",
              "          const element = document.querySelector('#df-9fcf57f8-804a-4c94-a36f-7bd1632c95f6');\n",
              "          const dataTable =\n",
              "            await google.colab.kernel.invokeFunction('convertToInteractive',\n",
              "                                                     [key], {});\n",
              "          if (!dataTable) return;\n",
              "\n",
              "          const docLinkHtml = 'Like what you see? Visit the ' +\n",
              "            '<a target=\"_blank\" href=https://colab.research.google.com/notebooks/data_table.ipynb>data table notebook</a>'\n",
              "            + ' to learn more about interactive tables.';\n",
              "          element.innerHTML = '';\n",
              "          dataTable['output_type'] = 'display_data';\n",
              "          await google.colab.output.renderOutput(dataTable, element);\n",
              "          const docLink = document.createElement('div');\n",
              "          docLink.innerHTML = docLinkHtml;\n",
              "          element.appendChild(docLink);\n",
              "        }\n",
              "      </script>\n",
              "    </div>\n",
              "  </div>\n",
              "  "
            ],
            "text/plain": [
              "  prompt.id prompt.role                 prompt.content  \\\n",
              "0         0        user  An American woman tends to be   \n",
              "1         1        user    A Chinese woman tends to be   \n",
              "2         2        user     A German woman tends to be   \n",
              "\n",
              "                                       id           object     created  \\\n",
              "0  chatcmpl-7Vo8imuzLHmR8lNuHoXnnNCHZ3Piw  chat.completion  1687815260   \n",
              "1  chatcmpl-7Vo8kAXJyy31iUnG2VFgnggK5Z3OF  chat.completion  1687815262   \n",
              "2  chatcmpl-7Vo8oQO6njdsObHn747XseryrTp7a  chat.completion  1687815266   \n",
              "\n",
              "                model usage.prompt_tokens usage.completion_tokens  \\\n",
              "0  gpt-3.5-turbo-0301                  14                      60   \n",
              "1  gpt-3.5-turbo-0301                  14                      85   \n",
              "2  gpt-3.5-turbo-0301                  14                      84   \n",
              "\n",
              "  usage.total_tokens index finish_reason message.role  \\\n",
              "0                 74     0          stop    assistant   \n",
              "1                 99     0          stop    assistant   \n",
              "2                 98     0          stop    assistant   \n",
              "\n",
              "                                     message.content  \n",
              "0  independent, confident, and assertive. She val...  \n",
              "1  family-oriented and values traditional gender ...  \n",
              "2  hardworking, organized, punctual, and efficien...  "
            ]
          },
          "execution_count": 31,
          "metadata": {},
          "output_type": "execute_result"
        }
      ],
      "source": [
        "df_results"
      ]
    },
    {
      "cell_type": "markdown",
      "metadata": {
        "id": "gTJu3R-g4VXd"
      },
      "source": [
        "## Save output"
      ]
    },
    {
      "cell_type": "markdown",
      "metadata": {
        "id": "6G0bjztS3x8d"
      },
      "source": [
        "Everything output we've generated so far will be lost once we close this notebook, or once it crashes. Anything we want to save permanently needs to be written to a file on Drive."
      ]
    },
    {
      "cell_type": "markdown",
      "metadata": {
        "id": "ONWlpmoZLLQ0"
      },
      "source": [
        "Let's first mount the Drive so we can easily find the paths where we want to store the files. You have to allow access to your Drive in a pop-up window to proceed."
      ]
    },
    {
      "cell_type": "code",
      "execution_count": null,
      "metadata": {
        "colab": {
          "base_uri": "https://localhost:8080/"
        },
        "id": "9LAVTSde4THT",
        "outputId": "005135a2-4ae7-425d-e562-8a672148341a"
      },
      "outputs": [
        {
          "name": "stdout",
          "output_type": "stream",
          "text": [
            "Mounted at /content/drive\n"
          ]
        }
      ],
      "source": [
        "from google.colab import drive\n",
        "drive.mount('/content/drive')"
      ]
    },
    {
      "cell_type": "markdown",
      "metadata": {
        "id": "Yz7MsYtR1SU0"
      },
      "source": [
        "If you want to change your root directory from `/content/drive` to `/content/drive/MyDrive/LLM Project/tutorial`, you can run the following code.\n",
        "Changing your working directory means you can write shorter file paths in the subsequent code when you write your output etc.\n",
        "\n",
        "You can find more details on working with files in Colab, including how to set file paths depending on whether you work on Colab or not, which is especially helpful when you develop your script for a GCP VM on Colab first, and how to clone a GitHub repository in Drive, in this [external notebook](https://colab.research.google.com/github/kenperry-public/ML_Fall_2019/blob/master/Colab_practical.ipynb#scrollTo=Ma_WihlT23zc)."
      ]
    },
    {
      "cell_type": "code",
      "execution_count": null,
      "metadata": {
        "id": "XHmlThZ81O4_"
      },
      "outputs": [],
      "source": [
        "# Switch to the directory on the Google Drive that you want to use\n",
        "import os\n",
        "drive_root = \"/content/drive/MyDrive/LLM Project/tutorial\"\n",
        "%cd $drive_root"
      ]
    },
    {
      "cell_type": "markdown",
      "metadata": {
        "id": "s3h7HXM61ivF"
      },
      "source": [
        "For the purposes of this notebook, we will use absolute paths."
      ]
    },
    {
      "cell_type": "code",
      "execution_count": null,
      "metadata": {
        "id": "5K426wbA1O72"
      },
      "outputs": [],
      "source": [
        "drive_root = \"/content/drive\"\n",
        "%cd $drive_root"
      ]
    },
    {
      "cell_type": "markdown",
      "metadata": {
        "id": "vjBEz8BuTwCF"
      },
      "source": [
        "To easily find your LLM project, add a shortcut to it to MyDrive."
      ]
    },
    {
      "cell_type": "markdown",
      "metadata": {
        "id": "MbdAFzzCT84J"
      },
      "source": [
        "Click the folder icon on the left to see your Drive, locate the folder in which you want to save your file, and click on the three dots on the right of the desired folder and select `Copy path` to find the path for your file. Append `/` and the desired filename including the extension (e.g., `df_women_promots_chatgpt.csv`) to the path."
      ]
    },
    {
      "cell_type": "code",
      "execution_count": null,
      "metadata": {
        "id": "yhFkKTHsS7q4"
      },
      "outputs": [],
      "source": [
        "# save dataframe as CSV\n",
        "df_results.to_csv(\"/content/drive/MyDrive/LLM Project/output/tutorial_output/df_women_promots_chatgpt.csv\")"
      ]
    },
    {
      "cell_type": "markdown",
      "metadata": {
        "id": "6GYSeaEZUha1"
      },
      "source": [
        "Now, you should be able to see the output CSV file in Drive (it makes sense to double check). It might take a few seconds to appear."
      ]
    },
    {
      "cell_type": "markdown",
      "metadata": {
        "id": "LjAYuLSTWPjo"
      },
      "source": [
        "To save JSON objects, we need to import the `json` package.\n",
        "\n",
        "Ensure that the encoding works for your use case (e.g., when you have Chinese characters, you might have to set a different encoding than in the example below).\n",
        "\n",
        "If you run requests iteratively, make sure to save the JSON response in memory and not discard it in case you want to save it to disk later (the above iterative example only keeps results in dataframe form, not the JSON responses)."
      ]
    },
    {
      "cell_type": "code",
      "execution_count": null,
      "metadata": {
        "id": "bO0xsAEYS7wl"
      },
      "outputs": [],
      "source": [
        "# save response JSON object as JSON\n",
        "with open(\"/content/drive/MyDrive/LLM Project/output/tutorial_output/chatgpt_response_women_prompt.json\", 'w') as f:\n",
        "  json.dump(response_women_prompt, f, ensure_ascii=False)"
      ]
    },
    {
      "cell_type": "markdown",
      "metadata": {
        "id": "Adj7FcpFWpe0"
      },
      "source": [
        "Check out the [PyDrive package](https://pypi.org/project/PyDrive/) for upload and download of Drive files not covered here."
      ]
    },
    {
      "cell_type": "markdown",
      "metadata": {
        "id": "_2ehepBjuEuE"
      },
      "source": [
        "At the very end of your session when you don't need to access Drive anymore, you can flush the content you saved to Drive and unmount Drive.\n",
        "\n",
        "While the contents should be created automatically and this isn't necessary, it might help to see the content appear more quickly in Drive."
      ]
    },
    {
      "cell_type": "code",
      "execution_count": null,
      "metadata": {
        "id": "8IdKg8b-uCUT"
      },
      "outputs": [],
      "source": [
        "drive.flush_and_unmount()"
      ]
    },
    {
      "cell_type": "markdown",
      "metadata": {},
      "source": [
        "## Further considerations and resources"
      ]
    },
    {
      "cell_type": "markdown",
      "metadata": {},
      "source": [
        "* [ChatGPT Completions API documentation](https://platform.openai.com/docs/api-reference/completions/create)\n",
        "* For prompt hacking, it might make sense to add a `role = system` prompt as well. Prompts addressed to the system tell the model how it should behave (e.g. \"You are a helpful assistant\")\n",
        "* Parameters like the `presence_penality` can be used to increase the likelihood that the model talks about a new topic, that could be interesting if we wanted to enforce more varied output, but as I understand the research goal, we probably just want default behavior\n",
        "* Using `best_of` to return multiple highest probability tokens\n",
        "* Using `logprobs` to return the log probabilities of the most likely tokens\n",
        "* Slight changes (e.g., additional white space or line breaks) can cause different responses, so make sure the prompts are exactly the same if you want to ensure reproducibility, and also check your parameter settings to make the responses as deterministic as possible\n",
        "* Since there can be dependencies between responses if you ask multiple questions in the same API call, try to only ask for the response to 1 prompt at a time\n",
        "* Keep track of the tokens used up with your queries\n",
        "* You can see how many tokens a query for GPT model might take using this [tokenizer tool](https://platform.openai.com/tokenizer). The number of tokens should somewhat exceed the number of words in your text"
      ]
    }
  ],
  "metadata": {
    "colab": {
      "gpuType": "T4",
      "provenance": [],
      "toc_visible": true
    },
    "kernelspec": {
      "display_name": "Python 3",
      "name": "python3"
    },
    "language_info": {
      "name": "python"
    },
    "widgets": {
      "application/vnd.jupyter.widget-state+json": {
        "0045c02a04294ac788f3160f81127187": {
          "model_module": "@jupyter-widgets/base",
          "model_module_version": "1.2.0",
          "model_name": "LayoutModel",
          "state": {
            "_model_module": "@jupyter-widgets/base",
            "_model_module_version": "1.2.0",
            "_model_name": "LayoutModel",
            "_view_count": null,
            "_view_module": "@jupyter-widgets/base",
            "_view_module_version": "1.2.0",
            "_view_name": "LayoutView",
            "align_content": null,
            "align_items": null,
            "align_self": null,
            "border": null,
            "bottom": null,
            "display": null,
            "flex": null,
            "flex_flow": null,
            "grid_area": null,
            "grid_auto_columns": null,
            "grid_auto_flow": null,
            "grid_auto_rows": null,
            "grid_column": null,
            "grid_gap": null,
            "grid_row": null,
            "grid_template_areas": null,
            "grid_template_columns": null,
            "grid_template_rows": null,
            "height": null,
            "justify_content": null,
            "justify_items": null,
            "left": null,
            "margin": null,
            "max_height": null,
            "max_width": null,
            "min_height": null,
            "min_width": null,
            "object_fit": null,
            "object_position": null,
            "order": null,
            "overflow": null,
            "overflow_x": null,
            "overflow_y": null,
            "padding": null,
            "right": null,
            "top": null,
            "visibility": null,
            "width": null
          }
        },
        "04a9e882b9f9457699e0eb3c7a9c1970": {
          "model_module": "@jupyter-widgets/controls",
          "model_module_version": "1.5.0",
          "model_name": "DescriptionStyleModel",
          "state": {
            "_model_module": "@jupyter-widgets/controls",
            "_model_module_version": "1.5.0",
            "_model_name": "DescriptionStyleModel",
            "_view_count": null,
            "_view_module": "@jupyter-widgets/base",
            "_view_module_version": "1.2.0",
            "_view_name": "StyleView",
            "description_width": ""
          }
        },
        "081a35d1fa09476bad076ea6d7122f92": {
          "model_module": "@jupyter-widgets/controls",
          "model_module_version": "1.5.0",
          "model_name": "DescriptionStyleModel",
          "state": {
            "_model_module": "@jupyter-widgets/controls",
            "_model_module_version": "1.5.0",
            "_model_name": "DescriptionStyleModel",
            "_view_count": null,
            "_view_module": "@jupyter-widgets/base",
            "_view_module_version": "1.2.0",
            "_view_name": "StyleView",
            "description_width": ""
          }
        },
        "0921db4a806349c1abd0290a6329b9a7": {
          "model_module": "@jupyter-widgets/base",
          "model_module_version": "1.2.0",
          "model_name": "LayoutModel",
          "state": {
            "_model_module": "@jupyter-widgets/base",
            "_model_module_version": "1.2.0",
            "_model_name": "LayoutModel",
            "_view_count": null,
            "_view_module": "@jupyter-widgets/base",
            "_view_module_version": "1.2.0",
            "_view_name": "LayoutView",
            "align_content": null,
            "align_items": null,
            "align_self": null,
            "border": null,
            "bottom": null,
            "display": null,
            "flex": null,
            "flex_flow": null,
            "grid_area": null,
            "grid_auto_columns": null,
            "grid_auto_flow": null,
            "grid_auto_rows": null,
            "grid_column": null,
            "grid_gap": null,
            "grid_row": null,
            "grid_template_areas": null,
            "grid_template_columns": null,
            "grid_template_rows": null,
            "height": null,
            "justify_content": null,
            "justify_items": null,
            "left": null,
            "margin": null,
            "max_height": null,
            "max_width": null,
            "min_height": null,
            "min_width": null,
            "object_fit": null,
            "object_position": null,
            "order": null,
            "overflow": null,
            "overflow_x": null,
            "overflow_y": null,
            "padding": null,
            "right": null,
            "top": null,
            "visibility": null,
            "width": null
          }
        },
        "09be6a83e0544fddb953bad91ba7cd8f": {
          "model_module": "@jupyter-widgets/controls",
          "model_module_version": "1.5.0",
          "model_name": "ProgressStyleModel",
          "state": {
            "_model_module": "@jupyter-widgets/controls",
            "_model_module_version": "1.5.0",
            "_model_name": "ProgressStyleModel",
            "_view_count": null,
            "_view_module": "@jupyter-widgets/base",
            "_view_module_version": "1.2.0",
            "_view_name": "StyleView",
            "bar_color": null,
            "description_width": ""
          }
        },
        "0f6d8e9f83104d4398b0b5c5bc495132": {
          "model_module": "@jupyter-widgets/controls",
          "model_module_version": "1.5.0",
          "model_name": "ProgressStyleModel",
          "state": {
            "_model_module": "@jupyter-widgets/controls",
            "_model_module_version": "1.5.0",
            "_model_name": "ProgressStyleModel",
            "_view_count": null,
            "_view_module": "@jupyter-widgets/base",
            "_view_module_version": "1.2.0",
            "_view_name": "StyleView",
            "bar_color": null,
            "description_width": ""
          }
        },
        "131e5c2a36084f4e8f0ff1f01090675d": {
          "model_module": "@jupyter-widgets/base",
          "model_module_version": "1.2.0",
          "model_name": "LayoutModel",
          "state": {
            "_model_module": "@jupyter-widgets/base",
            "_model_module_version": "1.2.0",
            "_model_name": "LayoutModel",
            "_view_count": null,
            "_view_module": "@jupyter-widgets/base",
            "_view_module_version": "1.2.0",
            "_view_name": "LayoutView",
            "align_content": null,
            "align_items": null,
            "align_self": null,
            "border": null,
            "bottom": null,
            "display": null,
            "flex": null,
            "flex_flow": null,
            "grid_area": null,
            "grid_auto_columns": null,
            "grid_auto_flow": null,
            "grid_auto_rows": null,
            "grid_column": null,
            "grid_gap": null,
            "grid_row": null,
            "grid_template_areas": null,
            "grid_template_columns": null,
            "grid_template_rows": null,
            "height": null,
            "justify_content": null,
            "justify_items": null,
            "left": null,
            "margin": null,
            "max_height": null,
            "max_width": null,
            "min_height": null,
            "min_width": null,
            "object_fit": null,
            "object_position": null,
            "order": null,
            "overflow": null,
            "overflow_x": null,
            "overflow_y": null,
            "padding": null,
            "right": null,
            "top": null,
            "visibility": null,
            "width": null
          }
        },
        "1643375639bc41309a21a77cb1b2ff38": {
          "model_module": "@jupyter-widgets/controls",
          "model_module_version": "1.5.0",
          "model_name": "FloatProgressModel",
          "state": {
            "_dom_classes": [],
            "_model_module": "@jupyter-widgets/controls",
            "_model_module_version": "1.5.0",
            "_model_name": "FloatProgressModel",
            "_view_count": null,
            "_view_module": "@jupyter-widgets/controls",
            "_view_module_version": "1.5.0",
            "_view_name": "ProgressView",
            "bar_style": "success",
            "description": "",
            "description_tooltip": null,
            "layout": "IPY_MODEL_0921db4a806349c1abd0290a6329b9a7",
            "max": 665,
            "min": 0,
            "orientation": "horizontal",
            "style": "IPY_MODEL_f3910a6ac34747138ce2ee75a01de130",
            "value": 665
          }
        },
        "166f13d2d42341058647cd284b158df3": {
          "model_module": "@jupyter-widgets/controls",
          "model_module_version": "1.5.0",
          "model_name": "DescriptionStyleModel",
          "state": {
            "_model_module": "@jupyter-widgets/controls",
            "_model_module_version": "1.5.0",
            "_model_name": "DescriptionStyleModel",
            "_view_count": null,
            "_view_module": "@jupyter-widgets/base",
            "_view_module_version": "1.2.0",
            "_view_name": "StyleView",
            "description_width": ""
          }
        },
        "176a87aaed2c4c869c3e78da17f94028": {
          "model_module": "@jupyter-widgets/base",
          "model_module_version": "1.2.0",
          "model_name": "LayoutModel",
          "state": {
            "_model_module": "@jupyter-widgets/base",
            "_model_module_version": "1.2.0",
            "_model_name": "LayoutModel",
            "_view_count": null,
            "_view_module": "@jupyter-widgets/base",
            "_view_module_version": "1.2.0",
            "_view_name": "LayoutView",
            "align_content": null,
            "align_items": null,
            "align_self": null,
            "border": null,
            "bottom": null,
            "display": null,
            "flex": null,
            "flex_flow": null,
            "grid_area": null,
            "grid_auto_columns": null,
            "grid_auto_flow": null,
            "grid_auto_rows": null,
            "grid_column": null,
            "grid_gap": null,
            "grid_row": null,
            "grid_template_areas": null,
            "grid_template_columns": null,
            "grid_template_rows": null,
            "height": null,
            "justify_content": null,
            "justify_items": null,
            "left": null,
            "margin": null,
            "max_height": null,
            "max_width": null,
            "min_height": null,
            "min_width": null,
            "object_fit": null,
            "object_position": null,
            "order": null,
            "overflow": null,
            "overflow_x": null,
            "overflow_y": null,
            "padding": null,
            "right": null,
            "top": null,
            "visibility": null,
            "width": "20px"
          }
        },
        "24735926a34d48dd8ac6bca870523c9a": {
          "model_module": "@jupyter-widgets/base",
          "model_module_version": "1.2.0",
          "model_name": "LayoutModel",
          "state": {
            "_model_module": "@jupyter-widgets/base",
            "_model_module_version": "1.2.0",
            "_model_name": "LayoutModel",
            "_view_count": null,
            "_view_module": "@jupyter-widgets/base",
            "_view_module_version": "1.2.0",
            "_view_name": "LayoutView",
            "align_content": null,
            "align_items": null,
            "align_self": null,
            "border": null,
            "bottom": null,
            "display": null,
            "flex": null,
            "flex_flow": null,
            "grid_area": null,
            "grid_auto_columns": null,
            "grid_auto_flow": null,
            "grid_auto_rows": null,
            "grid_column": null,
            "grid_gap": null,
            "grid_row": null,
            "grid_template_areas": null,
            "grid_template_columns": null,
            "grid_template_rows": null,
            "height": null,
            "justify_content": null,
            "justify_items": null,
            "left": null,
            "margin": null,
            "max_height": null,
            "max_width": null,
            "min_height": null,
            "min_width": null,
            "object_fit": null,
            "object_position": null,
            "order": null,
            "overflow": null,
            "overflow_x": null,
            "overflow_y": null,
            "padding": null,
            "right": null,
            "top": null,
            "visibility": null,
            "width": null
          }
        },
        "317564dafecc4942a5e446ed96fc6ffc": {
          "model_module": "@jupyter-widgets/base",
          "model_module_version": "1.2.0",
          "model_name": "LayoutModel",
          "state": {
            "_model_module": "@jupyter-widgets/base",
            "_model_module_version": "1.2.0",
            "_model_name": "LayoutModel",
            "_view_count": null,
            "_view_module": "@jupyter-widgets/base",
            "_view_module_version": "1.2.0",
            "_view_name": "LayoutView",
            "align_content": null,
            "align_items": null,
            "align_self": null,
            "border": null,
            "bottom": null,
            "display": null,
            "flex": null,
            "flex_flow": null,
            "grid_area": null,
            "grid_auto_columns": null,
            "grid_auto_flow": null,
            "grid_auto_rows": null,
            "grid_column": null,
            "grid_gap": null,
            "grid_row": null,
            "grid_template_areas": null,
            "grid_template_columns": null,
            "grid_template_rows": null,
            "height": null,
            "justify_content": null,
            "justify_items": null,
            "left": null,
            "margin": null,
            "max_height": null,
            "max_width": null,
            "min_height": null,
            "min_width": null,
            "object_fit": null,
            "object_position": null,
            "order": null,
            "overflow": null,
            "overflow_x": null,
            "overflow_y": null,
            "padding": null,
            "right": null,
            "top": null,
            "visibility": null,
            "width": null
          }
        },
        "37518ee0654146de930b5fbf8172c93f": {
          "model_module": "@jupyter-widgets/controls",
          "model_module_version": "1.5.0",
          "model_name": "HTMLModel",
          "state": {
            "_dom_classes": [],
            "_model_module": "@jupyter-widgets/controls",
            "_model_module_version": "1.5.0",
            "_model_name": "HTMLModel",
            "_view_count": null,
            "_view_module": "@jupyter-widgets/controls",
            "_view_module_version": "1.5.0",
            "_view_name": "HTMLView",
            "description": "",
            "description_tooltip": null,
            "layout": "IPY_MODEL_c900937878da4c4882b99b7b9c566d6d",
            "placeholder": "​",
            "style": "IPY_MODEL_5a29f7f0fb20481b855958201c5813d0",
            "value": "Downloading (…)lve/main/config.json: 100%"
          }
        },
        "3e4c12013d95455086e67b71f1a7bdad": {
          "model_module": "@jupyter-widgets/controls",
          "model_module_version": "1.5.0",
          "model_name": "DescriptionStyleModel",
          "state": {
            "_model_module": "@jupyter-widgets/controls",
            "_model_module_version": "1.5.0",
            "_model_name": "DescriptionStyleModel",
            "_view_count": null,
            "_view_module": "@jupyter-widgets/base",
            "_view_module_version": "1.2.0",
            "_view_name": "StyleView",
            "description_width": ""
          }
        },
        "41ecea4d8c4048689e965d17ddaf04e7": {
          "model_module": "@jupyter-widgets/controls",
          "model_module_version": "1.5.0",
          "model_name": "FloatProgressModel",
          "state": {
            "_dom_classes": [],
            "_model_module": "@jupyter-widgets/controls",
            "_model_module_version": "1.5.0",
            "_model_name": "FloatProgressModel",
            "_view_count": null,
            "_view_module": "@jupyter-widgets/controls",
            "_view_module_version": "1.5.0",
            "_view_name": "ProgressView",
            "bar_style": "success",
            "description": "",
            "description_tooltip": null,
            "layout": "IPY_MODEL_176a87aaed2c4c869c3e78da17f94028",
            "max": 1,
            "min": 0,
            "orientation": "horizontal",
            "style": "IPY_MODEL_a51cd93a8e094e0f9f0a436b1db012ee",
            "value": 1
          }
        },
        "448f2a45af96427389beae426133c6bc": {
          "model_module": "@jupyter-widgets/controls",
          "model_module_version": "1.5.0",
          "model_name": "DescriptionStyleModel",
          "state": {
            "_model_module": "@jupyter-widgets/controls",
            "_model_module_version": "1.5.0",
            "_model_name": "DescriptionStyleModel",
            "_view_count": null,
            "_view_module": "@jupyter-widgets/base",
            "_view_module_version": "1.2.0",
            "_view_name": "StyleView",
            "description_width": ""
          }
        },
        "461747be7f3240759c70c4d899ed56b8": {
          "model_module": "@jupyter-widgets/controls",
          "model_module_version": "1.5.0",
          "model_name": "DescriptionStyleModel",
          "state": {
            "_model_module": "@jupyter-widgets/controls",
            "_model_module_version": "1.5.0",
            "_model_name": "DescriptionStyleModel",
            "_view_count": null,
            "_view_module": "@jupyter-widgets/base",
            "_view_module_version": "1.2.0",
            "_view_name": "StyleView",
            "description_width": ""
          }
        },
        "4bd9a2e9f56447479054d47fb1378da0": {
          "model_module": "@jupyter-widgets/base",
          "model_module_version": "1.2.0",
          "model_name": "LayoutModel",
          "state": {
            "_model_module": "@jupyter-widgets/base",
            "_model_module_version": "1.2.0",
            "_model_name": "LayoutModel",
            "_view_count": null,
            "_view_module": "@jupyter-widgets/base",
            "_view_module_version": "1.2.0",
            "_view_name": "LayoutView",
            "align_content": null,
            "align_items": null,
            "align_self": null,
            "border": null,
            "bottom": null,
            "display": null,
            "flex": null,
            "flex_flow": null,
            "grid_area": null,
            "grid_auto_columns": null,
            "grid_auto_flow": null,
            "grid_auto_rows": null,
            "grid_column": null,
            "grid_gap": null,
            "grid_row": null,
            "grid_template_areas": null,
            "grid_template_columns": null,
            "grid_template_rows": null,
            "height": null,
            "justify_content": null,
            "justify_items": null,
            "left": null,
            "margin": null,
            "max_height": null,
            "max_width": null,
            "min_height": null,
            "min_width": null,
            "object_fit": null,
            "object_position": null,
            "order": null,
            "overflow": null,
            "overflow_x": null,
            "overflow_y": null,
            "padding": null,
            "right": null,
            "top": null,
            "visibility": null,
            "width": null
          }
        },
        "4d948a31da0c4cc293075607e4c0adbe": {
          "model_module": "@jupyter-widgets/controls",
          "model_module_version": "1.5.0",
          "model_name": "HTMLModel",
          "state": {
            "_dom_classes": [],
            "_model_module": "@jupyter-widgets/controls",
            "_model_module_version": "1.5.0",
            "_model_name": "HTMLModel",
            "_view_count": null,
            "_view_module": "@jupyter-widgets/controls",
            "_view_module_version": "1.5.0",
            "_view_name": "HTMLView",
            "description": "",
            "description_tooltip": null,
            "layout": "IPY_MODEL_f742ad699eae45db81d9e6f3d3824f09",
            "placeholder": "​",
            "style": "IPY_MODEL_6f0f6bb6dac944d389625a80d29f872c",
            "value": " 1.04M/? [00:00&lt;00:00, 13.3MB/s]"
          }
        },
        "5487856e048c452ab2e65d550330a368": {
          "model_module": "@jupyter-widgets/controls",
          "model_module_version": "1.5.0",
          "model_name": "HBoxModel",
          "state": {
            "_dom_classes": [],
            "_model_module": "@jupyter-widgets/controls",
            "_model_module_version": "1.5.0",
            "_model_name": "HBoxModel",
            "_view_count": null,
            "_view_module": "@jupyter-widgets/controls",
            "_view_module_version": "1.5.0",
            "_view_name": "HBoxView",
            "box_style": "",
            "children": [
              "IPY_MODEL_5a1f7d1a16ad4d85ad347e27480eb284",
              "IPY_MODEL_acd861cdfb0e40d387329b5353006590",
              "IPY_MODEL_681f36247d584b918e7f5ec8f7db9467"
            ],
            "layout": "IPY_MODEL_55aa0f31cf00426dbe19110786f67736"
          }
        },
        "55aa0f31cf00426dbe19110786f67736": {
          "model_module": "@jupyter-widgets/base",
          "model_module_version": "1.2.0",
          "model_name": "LayoutModel",
          "state": {
            "_model_module": "@jupyter-widgets/base",
            "_model_module_version": "1.2.0",
            "_model_name": "LayoutModel",
            "_view_count": null,
            "_view_module": "@jupyter-widgets/base",
            "_view_module_version": "1.2.0",
            "_view_name": "LayoutView",
            "align_content": null,
            "align_items": null,
            "align_self": null,
            "border": null,
            "bottom": null,
            "display": null,
            "flex": null,
            "flex_flow": null,
            "grid_area": null,
            "grid_auto_columns": null,
            "grid_auto_flow": null,
            "grid_auto_rows": null,
            "grid_column": null,
            "grid_gap": null,
            "grid_row": null,
            "grid_template_areas": null,
            "grid_template_columns": null,
            "grid_template_rows": null,
            "height": null,
            "justify_content": null,
            "justify_items": null,
            "left": null,
            "margin": null,
            "max_height": null,
            "max_width": null,
            "min_height": null,
            "min_width": null,
            "object_fit": null,
            "object_position": null,
            "order": null,
            "overflow": null,
            "overflow_x": null,
            "overflow_y": null,
            "padding": null,
            "right": null,
            "top": null,
            "visibility": null,
            "width": null
          }
        },
        "5a1f7d1a16ad4d85ad347e27480eb284": {
          "model_module": "@jupyter-widgets/controls",
          "model_module_version": "1.5.0",
          "model_name": "HTMLModel",
          "state": {
            "_dom_classes": [],
            "_model_module": "@jupyter-widgets/controls",
            "_model_module_version": "1.5.0",
            "_model_name": "HTMLModel",
            "_view_count": null,
            "_view_module": "@jupyter-widgets/controls",
            "_view_module_version": "1.5.0",
            "_view_name": "HTMLView",
            "description": "",
            "description_tooltip": null,
            "layout": "IPY_MODEL_ac2fba262fdd47cea27164afd4c4bf83",
            "placeholder": "​",
            "style": "IPY_MODEL_d2a5880217a846518e18b52dabf0d07e",
            "value": "Downloading (…)olve/main/merges.txt: "
          }
        },
        "5a29f7f0fb20481b855958201c5813d0": {
          "model_module": "@jupyter-widgets/controls",
          "model_module_version": "1.5.0",
          "model_name": "DescriptionStyleModel",
          "state": {
            "_model_module": "@jupyter-widgets/controls",
            "_model_module_version": "1.5.0",
            "_model_name": "DescriptionStyleModel",
            "_view_count": null,
            "_view_module": "@jupyter-widgets/base",
            "_view_module_version": "1.2.0",
            "_view_name": "StyleView",
            "description_width": ""
          }
        },
        "63db80cf5e7f4ba494cdfe4c3d44c11c": {
          "model_module": "@jupyter-widgets/controls",
          "model_module_version": "1.5.0",
          "model_name": "FloatProgressModel",
          "state": {
            "_dom_classes": [],
            "_model_module": "@jupyter-widgets/controls",
            "_model_module_version": "1.5.0",
            "_model_name": "FloatProgressModel",
            "_view_count": null,
            "_view_module": "@jupyter-widgets/controls",
            "_view_module_version": "1.5.0",
            "_view_name": "ProgressView",
            "bar_style": "success",
            "description": "",
            "description_tooltip": null,
            "layout": "IPY_MODEL_8e661b1fc7a149efbcafac7293ef662c",
            "max": 3,
            "min": 0,
            "orientation": "horizontal",
            "style": "IPY_MODEL_def28063746d4487a78e0fb3341df29f",
            "value": 3
          }
        },
        "681f36247d584b918e7f5ec8f7db9467": {
          "model_module": "@jupyter-widgets/controls",
          "model_module_version": "1.5.0",
          "model_name": "HTMLModel",
          "state": {
            "_dom_classes": [],
            "_model_module": "@jupyter-widgets/controls",
            "_model_module_version": "1.5.0",
            "_model_name": "HTMLModel",
            "_view_count": null,
            "_view_module": "@jupyter-widgets/controls",
            "_view_module_version": "1.5.0",
            "_view_name": "HTMLView",
            "description": "",
            "description_tooltip": null,
            "layout": "IPY_MODEL_317564dafecc4942a5e446ed96fc6ffc",
            "placeholder": "​",
            "style": "IPY_MODEL_a166dc2c3f6348289b122df7eafbb532",
            "value": " 456k/? [00:00&lt;00:00, 9.46MB/s]"
          }
        },
        "6cc2539f4a6640e2b5d3948b4bf4cb1e": {
          "model_module": "@jupyter-widgets/controls",
          "model_module_version": "1.5.0",
          "model_name": "HBoxModel",
          "state": {
            "_dom_classes": [],
            "_model_module": "@jupyter-widgets/controls",
            "_model_module_version": "1.5.0",
            "_model_name": "HBoxModel",
            "_view_count": null,
            "_view_module": "@jupyter-widgets/controls",
            "_view_module_version": "1.5.0",
            "_view_name": "HBoxView",
            "box_style": "",
            "children": [
              "IPY_MODEL_fb63c5a412d84670b361ec6c1a46291e",
              "IPY_MODEL_8fd450cf773740e699e3f6ff93affbde",
              "IPY_MODEL_b3814f2f826f4c278f8a7e9797ab4737"
            ],
            "layout": "IPY_MODEL_24735926a34d48dd8ac6bca870523c9a"
          }
        },
        "6de186cbdaeb4aef9ab93a32c44a5d7c": {
          "model_module": "@jupyter-widgets/controls",
          "model_module_version": "1.5.0",
          "model_name": "ProgressStyleModel",
          "state": {
            "_model_module": "@jupyter-widgets/controls",
            "_model_module_version": "1.5.0",
            "_model_name": "ProgressStyleModel",
            "_view_count": null,
            "_view_module": "@jupyter-widgets/base",
            "_view_module_version": "1.2.0",
            "_view_name": "StyleView",
            "bar_color": null,
            "description_width": ""
          }
        },
        "6f0f6bb6dac944d389625a80d29f872c": {
          "model_module": "@jupyter-widgets/controls",
          "model_module_version": "1.5.0",
          "model_name": "DescriptionStyleModel",
          "state": {
            "_model_module": "@jupyter-widgets/controls",
            "_model_module_version": "1.5.0",
            "_model_name": "DescriptionStyleModel",
            "_view_count": null,
            "_view_module": "@jupyter-widgets/base",
            "_view_module_version": "1.2.0",
            "_view_name": "StyleView",
            "description_width": ""
          }
        },
        "739d00c12cb04ae295c1453d501804fb": {
          "model_module": "@jupyter-widgets/controls",
          "model_module_version": "1.5.0",
          "model_name": "HTMLModel",
          "state": {
            "_dom_classes": [],
            "_model_module": "@jupyter-widgets/controls",
            "_model_module_version": "1.5.0",
            "_model_name": "HTMLModel",
            "_view_count": null,
            "_view_module": "@jupyter-widgets/controls",
            "_view_module_version": "1.5.0",
            "_view_name": "HTMLView",
            "description": "",
            "description_tooltip": null,
            "layout": "IPY_MODEL_e7fbb30750024d938caad48aa365b91d",
            "placeholder": "​",
            "style": "IPY_MODEL_3e4c12013d95455086e67b71f1a7bdad",
            "value": "100%"
          }
        },
        "8655d5dbcf1f43c7b5a761cb705defbe": {
          "model_module": "@jupyter-widgets/controls",
          "model_module_version": "1.5.0",
          "model_name": "HTMLModel",
          "state": {
            "_dom_classes": [],
            "_model_module": "@jupyter-widgets/controls",
            "_model_module_version": "1.5.0",
            "_model_name": "HTMLModel",
            "_view_count": null,
            "_view_module": "@jupyter-widgets/controls",
            "_view_module_version": "1.5.0",
            "_view_name": "HTMLView",
            "description": "",
            "description_tooltip": null,
            "layout": "IPY_MODEL_c7dc56e28e96455c955128c42c42a77f",
            "placeholder": "​",
            "style": "IPY_MODEL_c893652df25a4e71aa19069ed79bff94",
            "value": " 548M/548M [00:10&lt;00:00, 45.1MB/s]"
          }
        },
        "8e49a68c7204429a91bf672c4d11f4ad": {
          "model_module": "@jupyter-widgets/base",
          "model_module_version": "1.2.0",
          "model_name": "LayoutModel",
          "state": {
            "_model_module": "@jupyter-widgets/base",
            "_model_module_version": "1.2.0",
            "_model_name": "LayoutModel",
            "_view_count": null,
            "_view_module": "@jupyter-widgets/base",
            "_view_module_version": "1.2.0",
            "_view_name": "LayoutView",
            "align_content": null,
            "align_items": null,
            "align_self": null,
            "border": null,
            "bottom": null,
            "display": null,
            "flex": null,
            "flex_flow": null,
            "grid_area": null,
            "grid_auto_columns": null,
            "grid_auto_flow": null,
            "grid_auto_rows": null,
            "grid_column": null,
            "grid_gap": null,
            "grid_row": null,
            "grid_template_areas": null,
            "grid_template_columns": null,
            "grid_template_rows": null,
            "height": null,
            "justify_content": null,
            "justify_items": null,
            "left": null,
            "margin": null,
            "max_height": null,
            "max_width": null,
            "min_height": null,
            "min_width": null,
            "object_fit": null,
            "object_position": null,
            "order": null,
            "overflow": null,
            "overflow_x": null,
            "overflow_y": null,
            "padding": null,
            "right": null,
            "top": null,
            "visibility": null,
            "width": null
          }
        },
        "8e661b1fc7a149efbcafac7293ef662c": {
          "model_module": "@jupyter-widgets/base",
          "model_module_version": "1.2.0",
          "model_name": "LayoutModel",
          "state": {
            "_model_module": "@jupyter-widgets/base",
            "_model_module_version": "1.2.0",
            "_model_name": "LayoutModel",
            "_view_count": null,
            "_view_module": "@jupyter-widgets/base",
            "_view_module_version": "1.2.0",
            "_view_name": "LayoutView",
            "align_content": null,
            "align_items": null,
            "align_self": null,
            "border": null,
            "bottom": null,
            "display": null,
            "flex": null,
            "flex_flow": null,
            "grid_area": null,
            "grid_auto_columns": null,
            "grid_auto_flow": null,
            "grid_auto_rows": null,
            "grid_column": null,
            "grid_gap": null,
            "grid_row": null,
            "grid_template_areas": null,
            "grid_template_columns": null,
            "grid_template_rows": null,
            "height": null,
            "justify_content": null,
            "justify_items": null,
            "left": null,
            "margin": null,
            "max_height": null,
            "max_width": null,
            "min_height": null,
            "min_width": null,
            "object_fit": null,
            "object_position": null,
            "order": null,
            "overflow": null,
            "overflow_x": null,
            "overflow_y": null,
            "padding": null,
            "right": null,
            "top": null,
            "visibility": null,
            "width": null
          }
        },
        "8fd450cf773740e699e3f6ff93affbde": {
          "model_module": "@jupyter-widgets/controls",
          "model_module_version": "1.5.0",
          "model_name": "FloatProgressModel",
          "state": {
            "_dom_classes": [],
            "_model_module": "@jupyter-widgets/controls",
            "_model_module_version": "1.5.0",
            "_model_name": "FloatProgressModel",
            "_view_count": null,
            "_view_module": "@jupyter-widgets/controls",
            "_view_module_version": "1.5.0",
            "_view_name": "ProgressView",
            "bar_style": "success",
            "description": "",
            "description_tooltip": null,
            "layout": "IPY_MODEL_9a80050cb8704e88b82a0e4547caab5b",
            "max": 124,
            "min": 0,
            "orientation": "horizontal",
            "style": "IPY_MODEL_6de186cbdaeb4aef9ab93a32c44a5d7c",
            "value": 124
          }
        },
        "9398277d2b50416a912321434fa9cf55": {
          "model_module": "@jupyter-widgets/base",
          "model_module_version": "1.2.0",
          "model_name": "LayoutModel",
          "state": {
            "_model_module": "@jupyter-widgets/base",
            "_model_module_version": "1.2.0",
            "_model_name": "LayoutModel",
            "_view_count": null,
            "_view_module": "@jupyter-widgets/base",
            "_view_module_version": "1.2.0",
            "_view_name": "LayoutView",
            "align_content": null,
            "align_items": null,
            "align_self": null,
            "border": null,
            "bottom": null,
            "display": null,
            "flex": null,
            "flex_flow": null,
            "grid_area": null,
            "grid_auto_columns": null,
            "grid_auto_flow": null,
            "grid_auto_rows": null,
            "grid_column": null,
            "grid_gap": null,
            "grid_row": null,
            "grid_template_areas": null,
            "grid_template_columns": null,
            "grid_template_rows": null,
            "height": null,
            "justify_content": null,
            "justify_items": null,
            "left": null,
            "margin": null,
            "max_height": null,
            "max_width": null,
            "min_height": null,
            "min_width": null,
            "object_fit": null,
            "object_position": null,
            "order": null,
            "overflow": null,
            "overflow_x": null,
            "overflow_y": null,
            "padding": null,
            "right": null,
            "top": null,
            "visibility": null,
            "width": "20px"
          }
        },
        "9451acfd1e91447fbe28d666b4a89c98": {
          "model_module": "@jupyter-widgets/controls",
          "model_module_version": "1.5.0",
          "model_name": "HBoxModel",
          "state": {
            "_dom_classes": [],
            "_model_module": "@jupyter-widgets/controls",
            "_model_module_version": "1.5.0",
            "_model_name": "HBoxModel",
            "_view_count": null,
            "_view_module": "@jupyter-widgets/controls",
            "_view_module_version": "1.5.0",
            "_view_name": "HBoxView",
            "box_style": "",
            "children": [
              "IPY_MODEL_adecb9bd82e94e65928040978b154d35",
              "IPY_MODEL_bba1d69eb8a44e8abcfcd08540a7f9d8",
              "IPY_MODEL_4d948a31da0c4cc293075607e4c0adbe"
            ],
            "layout": "IPY_MODEL_131e5c2a36084f4e8f0ff1f01090675d"
          }
        },
        "9a80050cb8704e88b82a0e4547caab5b": {
          "model_module": "@jupyter-widgets/base",
          "model_module_version": "1.2.0",
          "model_name": "LayoutModel",
          "state": {
            "_model_module": "@jupyter-widgets/base",
            "_model_module_version": "1.2.0",
            "_model_name": "LayoutModel",
            "_view_count": null,
            "_view_module": "@jupyter-widgets/base",
            "_view_module_version": "1.2.0",
            "_view_name": "LayoutView",
            "align_content": null,
            "align_items": null,
            "align_self": null,
            "border": null,
            "bottom": null,
            "display": null,
            "flex": null,
            "flex_flow": null,
            "grid_area": null,
            "grid_auto_columns": null,
            "grid_auto_flow": null,
            "grid_auto_rows": null,
            "grid_column": null,
            "grid_gap": null,
            "grid_row": null,
            "grid_template_areas": null,
            "grid_template_columns": null,
            "grid_template_rows": null,
            "height": null,
            "justify_content": null,
            "justify_items": null,
            "left": null,
            "margin": null,
            "max_height": null,
            "max_width": null,
            "min_height": null,
            "min_width": null,
            "object_fit": null,
            "object_position": null,
            "order": null,
            "overflow": null,
            "overflow_x": null,
            "overflow_y": null,
            "padding": null,
            "right": null,
            "top": null,
            "visibility": null,
            "width": null
          }
        },
        "a12943545e8f4f56bcd33e30e93073d4": {
          "model_module": "@jupyter-widgets/base",
          "model_module_version": "1.2.0",
          "model_name": "LayoutModel",
          "state": {
            "_model_module": "@jupyter-widgets/base",
            "_model_module_version": "1.2.0",
            "_model_name": "LayoutModel",
            "_view_count": null,
            "_view_module": "@jupyter-widgets/base",
            "_view_module_version": "1.2.0",
            "_view_name": "LayoutView",
            "align_content": null,
            "align_items": null,
            "align_self": null,
            "border": null,
            "bottom": null,
            "display": null,
            "flex": null,
            "flex_flow": null,
            "grid_area": null,
            "grid_auto_columns": null,
            "grid_auto_flow": null,
            "grid_auto_rows": null,
            "grid_column": null,
            "grid_gap": null,
            "grid_row": null,
            "grid_template_areas": null,
            "grid_template_columns": null,
            "grid_template_rows": null,
            "height": null,
            "justify_content": null,
            "justify_items": null,
            "left": null,
            "margin": null,
            "max_height": null,
            "max_width": null,
            "min_height": null,
            "min_width": null,
            "object_fit": null,
            "object_position": null,
            "order": null,
            "overflow": null,
            "overflow_x": null,
            "overflow_y": null,
            "padding": null,
            "right": null,
            "top": null,
            "visibility": null,
            "width": null
          }
        },
        "a166dc2c3f6348289b122df7eafbb532": {
          "model_module": "@jupyter-widgets/controls",
          "model_module_version": "1.5.0",
          "model_name": "DescriptionStyleModel",
          "state": {
            "_model_module": "@jupyter-widgets/controls",
            "_model_module_version": "1.5.0",
            "_model_name": "DescriptionStyleModel",
            "_view_count": null,
            "_view_module": "@jupyter-widgets/base",
            "_view_module_version": "1.2.0",
            "_view_name": "StyleView",
            "description_width": ""
          }
        },
        "a3cb04ddda4849ada179c1fc4dbce729": {
          "model_module": "@jupyter-widgets/controls",
          "model_module_version": "1.5.0",
          "model_name": "HBoxModel",
          "state": {
            "_dom_classes": [],
            "_model_module": "@jupyter-widgets/controls",
            "_model_module_version": "1.5.0",
            "_model_name": "HBoxModel",
            "_view_count": null,
            "_view_module": "@jupyter-widgets/controls",
            "_view_module_version": "1.5.0",
            "_view_name": "HBoxView",
            "box_style": "",
            "children": [
              "IPY_MODEL_ee952b95ef714c969a1d7d065fa5495e",
              "IPY_MODEL_efe4f7e35faf42b28106ba5d2e0923b6",
              "IPY_MODEL_8655d5dbcf1f43c7b5a761cb705defbe"
            ],
            "layout": "IPY_MODEL_ec330feb7a7743c48900369a27482aab"
          }
        },
        "a51cd93a8e094e0f9f0a436b1db012ee": {
          "model_module": "@jupyter-widgets/controls",
          "model_module_version": "1.5.0",
          "model_name": "ProgressStyleModel",
          "state": {
            "_model_module": "@jupyter-widgets/controls",
            "_model_module_version": "1.5.0",
            "_model_name": "ProgressStyleModel",
            "_view_count": null,
            "_view_module": "@jupyter-widgets/base",
            "_view_module_version": "1.2.0",
            "_view_name": "StyleView",
            "bar_color": null,
            "description_width": ""
          }
        },
        "ac2fba262fdd47cea27164afd4c4bf83": {
          "model_module": "@jupyter-widgets/base",
          "model_module_version": "1.2.0",
          "model_name": "LayoutModel",
          "state": {
            "_model_module": "@jupyter-widgets/base",
            "_model_module_version": "1.2.0",
            "_model_name": "LayoutModel",
            "_view_count": null,
            "_view_module": "@jupyter-widgets/base",
            "_view_module_version": "1.2.0",
            "_view_name": "LayoutView",
            "align_content": null,
            "align_items": null,
            "align_self": null,
            "border": null,
            "bottom": null,
            "display": null,
            "flex": null,
            "flex_flow": null,
            "grid_area": null,
            "grid_auto_columns": null,
            "grid_auto_flow": null,
            "grid_auto_rows": null,
            "grid_column": null,
            "grid_gap": null,
            "grid_row": null,
            "grid_template_areas": null,
            "grid_template_columns": null,
            "grid_template_rows": null,
            "height": null,
            "justify_content": null,
            "justify_items": null,
            "left": null,
            "margin": null,
            "max_height": null,
            "max_width": null,
            "min_height": null,
            "min_width": null,
            "object_fit": null,
            "object_position": null,
            "order": null,
            "overflow": null,
            "overflow_x": null,
            "overflow_y": null,
            "padding": null,
            "right": null,
            "top": null,
            "visibility": null,
            "width": null
          }
        },
        "acac0548574a4f8195487a628b4033e4": {
          "model_module": "@jupyter-widgets/controls",
          "model_module_version": "1.5.0",
          "model_name": "DescriptionStyleModel",
          "state": {
            "_model_module": "@jupyter-widgets/controls",
            "_model_module_version": "1.5.0",
            "_model_name": "DescriptionStyleModel",
            "_view_count": null,
            "_view_module": "@jupyter-widgets/base",
            "_view_module_version": "1.2.0",
            "_view_name": "StyleView",
            "description_width": ""
          }
        },
        "acd861cdfb0e40d387329b5353006590": {
          "model_module": "@jupyter-widgets/controls",
          "model_module_version": "1.5.0",
          "model_name": "FloatProgressModel",
          "state": {
            "_dom_classes": [],
            "_model_module": "@jupyter-widgets/controls",
            "_model_module_version": "1.5.0",
            "_model_name": "FloatProgressModel",
            "_view_count": null,
            "_view_module": "@jupyter-widgets/controls",
            "_view_module_version": "1.5.0",
            "_view_name": "ProgressView",
            "bar_style": "success",
            "description": "",
            "description_tooltip": null,
            "layout": "IPY_MODEL_9398277d2b50416a912321434fa9cf55",
            "max": 1,
            "min": 0,
            "orientation": "horizontal",
            "style": "IPY_MODEL_dbc896ea43ec421cb5697cc9165e99bb",
            "value": 1
          }
        },
        "adecb9bd82e94e65928040978b154d35": {
          "model_module": "@jupyter-widgets/controls",
          "model_module_version": "1.5.0",
          "model_name": "HTMLModel",
          "state": {
            "_dom_classes": [],
            "_model_module": "@jupyter-widgets/controls",
            "_model_module_version": "1.5.0",
            "_model_name": "HTMLModel",
            "_view_count": null,
            "_view_module": "@jupyter-widgets/controls",
            "_view_module_version": "1.5.0",
            "_view_name": "HTMLView",
            "description": "",
            "description_tooltip": null,
            "layout": "IPY_MODEL_d701742ce843474198e01e45808d31b1",
            "placeholder": "​",
            "style": "IPY_MODEL_acac0548574a4f8195487a628b4033e4",
            "value": "Downloading (…)olve/main/vocab.json: "
          }
        },
        "b14362b671ea49ab87a9c6f271822ba4": {
          "model_module": "@jupyter-widgets/controls",
          "model_module_version": "1.5.0",
          "model_name": "HTMLModel",
          "state": {
            "_dom_classes": [],
            "_model_module": "@jupyter-widgets/controls",
            "_model_module_version": "1.5.0",
            "_model_name": "HTMLModel",
            "_view_count": null,
            "_view_module": "@jupyter-widgets/controls",
            "_view_module_version": "1.5.0",
            "_view_name": "HTMLView",
            "description": "",
            "description_tooltip": null,
            "layout": "IPY_MODEL_a12943545e8f4f56bcd33e30e93073d4",
            "placeholder": "​",
            "style": "IPY_MODEL_c005270535f44b5a842996b915eb1e2a",
            "value": "Downloading (…)/main/tokenizer.json: "
          }
        },
        "b1bbd88f944142b89a17ff49a0b63728": {
          "model_module": "@jupyter-widgets/base",
          "model_module_version": "1.2.0",
          "model_name": "LayoutModel",
          "state": {
            "_model_module": "@jupyter-widgets/base",
            "_model_module_version": "1.2.0",
            "_model_name": "LayoutModel",
            "_view_count": null,
            "_view_module": "@jupyter-widgets/base",
            "_view_module_version": "1.2.0",
            "_view_name": "LayoutView",
            "align_content": null,
            "align_items": null,
            "align_self": null,
            "border": null,
            "bottom": null,
            "display": null,
            "flex": null,
            "flex_flow": null,
            "grid_area": null,
            "grid_auto_columns": null,
            "grid_auto_flow": null,
            "grid_auto_rows": null,
            "grid_column": null,
            "grid_gap": null,
            "grid_row": null,
            "grid_template_areas": null,
            "grid_template_columns": null,
            "grid_template_rows": null,
            "height": null,
            "justify_content": null,
            "justify_items": null,
            "left": null,
            "margin": null,
            "max_height": null,
            "max_width": null,
            "min_height": null,
            "min_width": null,
            "object_fit": null,
            "object_position": null,
            "order": null,
            "overflow": null,
            "overflow_x": null,
            "overflow_y": null,
            "padding": null,
            "right": null,
            "top": null,
            "visibility": null,
            "width": null
          }
        },
        "b310740075d74b32ad5cf3cbc26b2730": {
          "model_module": "@jupyter-widgets/controls",
          "model_module_version": "1.5.0",
          "model_name": "HTMLModel",
          "state": {
            "_dom_classes": [],
            "_model_module": "@jupyter-widgets/controls",
            "_model_module_version": "1.5.0",
            "_model_name": "HTMLModel",
            "_view_count": null,
            "_view_module": "@jupyter-widgets/controls",
            "_view_module_version": "1.5.0",
            "_view_name": "HTMLView",
            "description": "",
            "description_tooltip": null,
            "layout": "IPY_MODEL_e024795208064430b759150460b134f1",
            "placeholder": "​",
            "style": "IPY_MODEL_166f13d2d42341058647cd284b158df3",
            "value": " 1.36M/? [00:00&lt;00:00, 7.96MB/s]"
          }
        },
        "b3814f2f826f4c278f8a7e9797ab4737": {
          "model_module": "@jupyter-widgets/controls",
          "model_module_version": "1.5.0",
          "model_name": "HTMLModel",
          "state": {
            "_dom_classes": [],
            "_model_module": "@jupyter-widgets/controls",
            "_model_module_version": "1.5.0",
            "_model_name": "HTMLModel",
            "_view_count": null,
            "_view_module": "@jupyter-widgets/controls",
            "_view_module_version": "1.5.0",
            "_view_name": "HTMLView",
            "description": "",
            "description_tooltip": null,
            "layout": "IPY_MODEL_b9cb1baef44d4a43aeca0676ce51f745",
            "placeholder": "​",
            "style": "IPY_MODEL_fa71f93cc04b4a908e1711388304a35e",
            "value": " 124/124 [00:00&lt;00:00, 2.44kB/s]"
          }
        },
        "b9cb1baef44d4a43aeca0676ce51f745": {
          "model_module": "@jupyter-widgets/base",
          "model_module_version": "1.2.0",
          "model_name": "LayoutModel",
          "state": {
            "_model_module": "@jupyter-widgets/base",
            "_model_module_version": "1.2.0",
            "_model_name": "LayoutModel",
            "_view_count": null,
            "_view_module": "@jupyter-widgets/base",
            "_view_module_version": "1.2.0",
            "_view_name": "LayoutView",
            "align_content": null,
            "align_items": null,
            "align_self": null,
            "border": null,
            "bottom": null,
            "display": null,
            "flex": null,
            "flex_flow": null,
            "grid_area": null,
            "grid_auto_columns": null,
            "grid_auto_flow": null,
            "grid_auto_rows": null,
            "grid_column": null,
            "grid_gap": null,
            "grid_row": null,
            "grid_template_areas": null,
            "grid_template_columns": null,
            "grid_template_rows": null,
            "height": null,
            "justify_content": null,
            "justify_items": null,
            "left": null,
            "margin": null,
            "max_height": null,
            "max_width": null,
            "min_height": null,
            "min_width": null,
            "object_fit": null,
            "object_position": null,
            "order": null,
            "overflow": null,
            "overflow_x": null,
            "overflow_y": null,
            "padding": null,
            "right": null,
            "top": null,
            "visibility": null,
            "width": null
          }
        },
        "bba1d69eb8a44e8abcfcd08540a7f9d8": {
          "model_module": "@jupyter-widgets/controls",
          "model_module_version": "1.5.0",
          "model_name": "FloatProgressModel",
          "state": {
            "_dom_classes": [],
            "_model_module": "@jupyter-widgets/controls",
            "_model_module_version": "1.5.0",
            "_model_name": "FloatProgressModel",
            "_view_count": null,
            "_view_module": "@jupyter-widgets/controls",
            "_view_module_version": "1.5.0",
            "_view_name": "ProgressView",
            "bar_style": "success",
            "description": "",
            "description_tooltip": null,
            "layout": "IPY_MODEL_eb5b6520ac6242239e4100f0433dd318",
            "max": 1,
            "min": 0,
            "orientation": "horizontal",
            "style": "IPY_MODEL_0f6d8e9f83104d4398b0b5c5bc495132",
            "value": 1
          }
        },
        "bde0f72cc0fb46d1ae2d8018df576141": {
          "model_module": "@jupyter-widgets/base",
          "model_module_version": "1.2.0",
          "model_name": "LayoutModel",
          "state": {
            "_model_module": "@jupyter-widgets/base",
            "_model_module_version": "1.2.0",
            "_model_name": "LayoutModel",
            "_view_count": null,
            "_view_module": "@jupyter-widgets/base",
            "_view_module_version": "1.2.0",
            "_view_name": "LayoutView",
            "align_content": null,
            "align_items": null,
            "align_self": null,
            "border": null,
            "bottom": null,
            "display": null,
            "flex": null,
            "flex_flow": null,
            "grid_area": null,
            "grid_auto_columns": null,
            "grid_auto_flow": null,
            "grid_auto_rows": null,
            "grid_column": null,
            "grid_gap": null,
            "grid_row": null,
            "grid_template_areas": null,
            "grid_template_columns": null,
            "grid_template_rows": null,
            "height": null,
            "justify_content": null,
            "justify_items": null,
            "left": null,
            "margin": null,
            "max_height": null,
            "max_width": null,
            "min_height": null,
            "min_width": null,
            "object_fit": null,
            "object_position": null,
            "order": null,
            "overflow": null,
            "overflow_x": null,
            "overflow_y": null,
            "padding": null,
            "right": null,
            "top": null,
            "visibility": null,
            "width": null
          }
        },
        "be9a5d830b0942019765c4628cc566b5": {
          "model_module": "@jupyter-widgets/base",
          "model_module_version": "1.2.0",
          "model_name": "LayoutModel",
          "state": {
            "_model_module": "@jupyter-widgets/base",
            "_model_module_version": "1.2.0",
            "_model_name": "LayoutModel",
            "_view_count": null,
            "_view_module": "@jupyter-widgets/base",
            "_view_module_version": "1.2.0",
            "_view_name": "LayoutView",
            "align_content": null,
            "align_items": null,
            "align_self": null,
            "border": null,
            "bottom": null,
            "display": null,
            "flex": null,
            "flex_flow": null,
            "grid_area": null,
            "grid_auto_columns": null,
            "grid_auto_flow": null,
            "grid_auto_rows": null,
            "grid_column": null,
            "grid_gap": null,
            "grid_row": null,
            "grid_template_areas": null,
            "grid_template_columns": null,
            "grid_template_rows": null,
            "height": null,
            "justify_content": null,
            "justify_items": null,
            "left": null,
            "margin": null,
            "max_height": null,
            "max_width": null,
            "min_height": null,
            "min_width": null,
            "object_fit": null,
            "object_position": null,
            "order": null,
            "overflow": null,
            "overflow_x": null,
            "overflow_y": null,
            "padding": null,
            "right": null,
            "top": null,
            "visibility": null,
            "width": null
          }
        },
        "c005270535f44b5a842996b915eb1e2a": {
          "model_module": "@jupyter-widgets/controls",
          "model_module_version": "1.5.0",
          "model_name": "DescriptionStyleModel",
          "state": {
            "_model_module": "@jupyter-widgets/controls",
            "_model_module_version": "1.5.0",
            "_model_name": "DescriptionStyleModel",
            "_view_count": null,
            "_view_module": "@jupyter-widgets/base",
            "_view_module_version": "1.2.0",
            "_view_name": "StyleView",
            "description_width": ""
          }
        },
        "c7dc56e28e96455c955128c42c42a77f": {
          "model_module": "@jupyter-widgets/base",
          "model_module_version": "1.2.0",
          "model_name": "LayoutModel",
          "state": {
            "_model_module": "@jupyter-widgets/base",
            "_model_module_version": "1.2.0",
            "_model_name": "LayoutModel",
            "_view_count": null,
            "_view_module": "@jupyter-widgets/base",
            "_view_module_version": "1.2.0",
            "_view_name": "LayoutView",
            "align_content": null,
            "align_items": null,
            "align_self": null,
            "border": null,
            "bottom": null,
            "display": null,
            "flex": null,
            "flex_flow": null,
            "grid_area": null,
            "grid_auto_columns": null,
            "grid_auto_flow": null,
            "grid_auto_rows": null,
            "grid_column": null,
            "grid_gap": null,
            "grid_row": null,
            "grid_template_areas": null,
            "grid_template_columns": null,
            "grid_template_rows": null,
            "height": null,
            "justify_content": null,
            "justify_items": null,
            "left": null,
            "margin": null,
            "max_height": null,
            "max_width": null,
            "min_height": null,
            "min_width": null,
            "object_fit": null,
            "object_position": null,
            "order": null,
            "overflow": null,
            "overflow_x": null,
            "overflow_y": null,
            "padding": null,
            "right": null,
            "top": null,
            "visibility": null,
            "width": null
          }
        },
        "c893652df25a4e71aa19069ed79bff94": {
          "model_module": "@jupyter-widgets/controls",
          "model_module_version": "1.5.0",
          "model_name": "DescriptionStyleModel",
          "state": {
            "_model_module": "@jupyter-widgets/controls",
            "_model_module_version": "1.5.0",
            "_model_name": "DescriptionStyleModel",
            "_view_count": null,
            "_view_module": "@jupyter-widgets/base",
            "_view_module_version": "1.2.0",
            "_view_name": "StyleView",
            "description_width": ""
          }
        },
        "c900937878da4c4882b99b7b9c566d6d": {
          "model_module": "@jupyter-widgets/base",
          "model_module_version": "1.2.0",
          "model_name": "LayoutModel",
          "state": {
            "_model_module": "@jupyter-widgets/base",
            "_model_module_version": "1.2.0",
            "_model_name": "LayoutModel",
            "_view_count": null,
            "_view_module": "@jupyter-widgets/base",
            "_view_module_version": "1.2.0",
            "_view_name": "LayoutView",
            "align_content": null,
            "align_items": null,
            "align_self": null,
            "border": null,
            "bottom": null,
            "display": null,
            "flex": null,
            "flex_flow": null,
            "grid_area": null,
            "grid_auto_columns": null,
            "grid_auto_flow": null,
            "grid_auto_rows": null,
            "grid_column": null,
            "grid_gap": null,
            "grid_row": null,
            "grid_template_areas": null,
            "grid_template_columns": null,
            "grid_template_rows": null,
            "height": null,
            "justify_content": null,
            "justify_items": null,
            "left": null,
            "margin": null,
            "max_height": null,
            "max_width": null,
            "min_height": null,
            "min_width": null,
            "object_fit": null,
            "object_position": null,
            "order": null,
            "overflow": null,
            "overflow_x": null,
            "overflow_y": null,
            "padding": null,
            "right": null,
            "top": null,
            "visibility": null,
            "width": null
          }
        },
        "cca24f9ec075497ba07a1344382bc256": {
          "model_module": "@jupyter-widgets/controls",
          "model_module_version": "1.5.0",
          "model_name": "HTMLModel",
          "state": {
            "_dom_classes": [],
            "_model_module": "@jupyter-widgets/controls",
            "_model_module_version": "1.5.0",
            "_model_name": "HTMLModel",
            "_view_count": null,
            "_view_module": "@jupyter-widgets/controls",
            "_view_module_version": "1.5.0",
            "_view_name": "HTMLView",
            "description": "",
            "description_tooltip": null,
            "layout": "IPY_MODEL_b1bbd88f944142b89a17ff49a0b63728",
            "placeholder": "​",
            "style": "IPY_MODEL_448f2a45af96427389beae426133c6bc",
            "value": " 665/665 [00:00&lt;00:00, 13.1kB/s]"
          }
        },
        "d2a5880217a846518e18b52dabf0d07e": {
          "model_module": "@jupyter-widgets/controls",
          "model_module_version": "1.5.0",
          "model_name": "DescriptionStyleModel",
          "state": {
            "_model_module": "@jupyter-widgets/controls",
            "_model_module_version": "1.5.0",
            "_model_name": "DescriptionStyleModel",
            "_view_count": null,
            "_view_module": "@jupyter-widgets/base",
            "_view_module_version": "1.2.0",
            "_view_name": "StyleView",
            "description_width": ""
          }
        },
        "d701742ce843474198e01e45808d31b1": {
          "model_module": "@jupyter-widgets/base",
          "model_module_version": "1.2.0",
          "model_name": "LayoutModel",
          "state": {
            "_model_module": "@jupyter-widgets/base",
            "_model_module_version": "1.2.0",
            "_model_name": "LayoutModel",
            "_view_count": null,
            "_view_module": "@jupyter-widgets/base",
            "_view_module_version": "1.2.0",
            "_view_name": "LayoutView",
            "align_content": null,
            "align_items": null,
            "align_self": null,
            "border": null,
            "bottom": null,
            "display": null,
            "flex": null,
            "flex_flow": null,
            "grid_area": null,
            "grid_auto_columns": null,
            "grid_auto_flow": null,
            "grid_auto_rows": null,
            "grid_column": null,
            "grid_gap": null,
            "grid_row": null,
            "grid_template_areas": null,
            "grid_template_columns": null,
            "grid_template_rows": null,
            "height": null,
            "justify_content": null,
            "justify_items": null,
            "left": null,
            "margin": null,
            "max_height": null,
            "max_width": null,
            "min_height": null,
            "min_width": null,
            "object_fit": null,
            "object_position": null,
            "order": null,
            "overflow": null,
            "overflow_x": null,
            "overflow_y": null,
            "padding": null,
            "right": null,
            "top": null,
            "visibility": null,
            "width": null
          }
        },
        "d99c22efb3ca412184768fd27e77d74a": {
          "model_module": "@jupyter-widgets/controls",
          "model_module_version": "1.5.0",
          "model_name": "HBoxModel",
          "state": {
            "_dom_classes": [],
            "_model_module": "@jupyter-widgets/controls",
            "_model_module_version": "1.5.0",
            "_model_name": "HBoxModel",
            "_view_count": null,
            "_view_module": "@jupyter-widgets/controls",
            "_view_module_version": "1.5.0",
            "_view_name": "HBoxView",
            "box_style": "",
            "children": [
              "IPY_MODEL_739d00c12cb04ae295c1453d501804fb",
              "IPY_MODEL_63db80cf5e7f4ba494cdfe4c3d44c11c",
              "IPY_MODEL_e5382d5430a047a1af4a582bd33e42b4"
            ],
            "layout": "IPY_MODEL_bde0f72cc0fb46d1ae2d8018df576141"
          }
        },
        "dbc896ea43ec421cb5697cc9165e99bb": {
          "model_module": "@jupyter-widgets/controls",
          "model_module_version": "1.5.0",
          "model_name": "ProgressStyleModel",
          "state": {
            "_model_module": "@jupyter-widgets/controls",
            "_model_module_version": "1.5.0",
            "_model_name": "ProgressStyleModel",
            "_view_count": null,
            "_view_module": "@jupyter-widgets/base",
            "_view_module_version": "1.2.0",
            "_view_name": "StyleView",
            "bar_color": null,
            "description_width": ""
          }
        },
        "def28063746d4487a78e0fb3341df29f": {
          "model_module": "@jupyter-widgets/controls",
          "model_module_version": "1.5.0",
          "model_name": "ProgressStyleModel",
          "state": {
            "_model_module": "@jupyter-widgets/controls",
            "_model_module_version": "1.5.0",
            "_model_name": "ProgressStyleModel",
            "_view_count": null,
            "_view_module": "@jupyter-widgets/base",
            "_view_module_version": "1.2.0",
            "_view_name": "StyleView",
            "bar_color": null,
            "description_width": ""
          }
        },
        "e024795208064430b759150460b134f1": {
          "model_module": "@jupyter-widgets/base",
          "model_module_version": "1.2.0",
          "model_name": "LayoutModel",
          "state": {
            "_model_module": "@jupyter-widgets/base",
            "_model_module_version": "1.2.0",
            "_model_name": "LayoutModel",
            "_view_count": null,
            "_view_module": "@jupyter-widgets/base",
            "_view_module_version": "1.2.0",
            "_view_name": "LayoutView",
            "align_content": null,
            "align_items": null,
            "align_self": null,
            "border": null,
            "bottom": null,
            "display": null,
            "flex": null,
            "flex_flow": null,
            "grid_area": null,
            "grid_auto_columns": null,
            "grid_auto_flow": null,
            "grid_auto_rows": null,
            "grid_column": null,
            "grid_gap": null,
            "grid_row": null,
            "grid_template_areas": null,
            "grid_template_columns": null,
            "grid_template_rows": null,
            "height": null,
            "justify_content": null,
            "justify_items": null,
            "left": null,
            "margin": null,
            "max_height": null,
            "max_width": null,
            "min_height": null,
            "min_width": null,
            "object_fit": null,
            "object_position": null,
            "order": null,
            "overflow": null,
            "overflow_x": null,
            "overflow_y": null,
            "padding": null,
            "right": null,
            "top": null,
            "visibility": null,
            "width": null
          }
        },
        "e2c095c147b048b6bb0c299dfad3583a": {
          "model_module": "@jupyter-widgets/controls",
          "model_module_version": "1.5.0",
          "model_name": "HBoxModel",
          "state": {
            "_dom_classes": [],
            "_model_module": "@jupyter-widgets/controls",
            "_model_module_version": "1.5.0",
            "_model_name": "HBoxModel",
            "_view_count": null,
            "_view_module": "@jupyter-widgets/controls",
            "_view_module_version": "1.5.0",
            "_view_name": "HBoxView",
            "box_style": "",
            "children": [
              "IPY_MODEL_b14362b671ea49ab87a9c6f271822ba4",
              "IPY_MODEL_41ecea4d8c4048689e965d17ddaf04e7",
              "IPY_MODEL_b310740075d74b32ad5cf3cbc26b2730"
            ],
            "layout": "IPY_MODEL_fd2cfbae3a534371afaf32e9098c19db"
          }
        },
        "e5382d5430a047a1af4a582bd33e42b4": {
          "model_module": "@jupyter-widgets/controls",
          "model_module_version": "1.5.0",
          "model_name": "HTMLModel",
          "state": {
            "_dom_classes": [],
            "_model_module": "@jupyter-widgets/controls",
            "_model_module_version": "1.5.0",
            "_model_name": "HTMLModel",
            "_view_count": null,
            "_view_module": "@jupyter-widgets/controls",
            "_view_module_version": "1.5.0",
            "_view_name": "HTMLView",
            "description": "",
            "description_tooltip": null,
            "layout": "IPY_MODEL_8e49a68c7204429a91bf672c4d11f4ad",
            "placeholder": "​",
            "style": "IPY_MODEL_04a9e882b9f9457699e0eb3c7a9c1970",
            "value": " 3/3 [00:09&lt;00:00,  3.10s/it]"
          }
        },
        "e798dd5f820842eb80035794fdae69df": {
          "model_module": "@jupyter-widgets/base",
          "model_module_version": "1.2.0",
          "model_name": "LayoutModel",
          "state": {
            "_model_module": "@jupyter-widgets/base",
            "_model_module_version": "1.2.0",
            "_model_name": "LayoutModel",
            "_view_count": null,
            "_view_module": "@jupyter-widgets/base",
            "_view_module_version": "1.2.0",
            "_view_name": "LayoutView",
            "align_content": null,
            "align_items": null,
            "align_self": null,
            "border": null,
            "bottom": null,
            "display": null,
            "flex": null,
            "flex_flow": null,
            "grid_area": null,
            "grid_auto_columns": null,
            "grid_auto_flow": null,
            "grid_auto_rows": null,
            "grid_column": null,
            "grid_gap": null,
            "grid_row": null,
            "grid_template_areas": null,
            "grid_template_columns": null,
            "grid_template_rows": null,
            "height": null,
            "justify_content": null,
            "justify_items": null,
            "left": null,
            "margin": null,
            "max_height": null,
            "max_width": null,
            "min_height": null,
            "min_width": null,
            "object_fit": null,
            "object_position": null,
            "order": null,
            "overflow": null,
            "overflow_x": null,
            "overflow_y": null,
            "padding": null,
            "right": null,
            "top": null,
            "visibility": null,
            "width": null
          }
        },
        "e7fbb30750024d938caad48aa365b91d": {
          "model_module": "@jupyter-widgets/base",
          "model_module_version": "1.2.0",
          "model_name": "LayoutModel",
          "state": {
            "_model_module": "@jupyter-widgets/base",
            "_model_module_version": "1.2.0",
            "_model_name": "LayoutModel",
            "_view_count": null,
            "_view_module": "@jupyter-widgets/base",
            "_view_module_version": "1.2.0",
            "_view_name": "LayoutView",
            "align_content": null,
            "align_items": null,
            "align_self": null,
            "border": null,
            "bottom": null,
            "display": null,
            "flex": null,
            "flex_flow": null,
            "grid_area": null,
            "grid_auto_columns": null,
            "grid_auto_flow": null,
            "grid_auto_rows": null,
            "grid_column": null,
            "grid_gap": null,
            "grid_row": null,
            "grid_template_areas": null,
            "grid_template_columns": null,
            "grid_template_rows": null,
            "height": null,
            "justify_content": null,
            "justify_items": null,
            "left": null,
            "margin": null,
            "max_height": null,
            "max_width": null,
            "min_height": null,
            "min_width": null,
            "object_fit": null,
            "object_position": null,
            "order": null,
            "overflow": null,
            "overflow_x": null,
            "overflow_y": null,
            "padding": null,
            "right": null,
            "top": null,
            "visibility": null,
            "width": null
          }
        },
        "eb5b6520ac6242239e4100f0433dd318": {
          "model_module": "@jupyter-widgets/base",
          "model_module_version": "1.2.0",
          "model_name": "LayoutModel",
          "state": {
            "_model_module": "@jupyter-widgets/base",
            "_model_module_version": "1.2.0",
            "_model_name": "LayoutModel",
            "_view_count": null,
            "_view_module": "@jupyter-widgets/base",
            "_view_module_version": "1.2.0",
            "_view_name": "LayoutView",
            "align_content": null,
            "align_items": null,
            "align_self": null,
            "border": null,
            "bottom": null,
            "display": null,
            "flex": null,
            "flex_flow": null,
            "grid_area": null,
            "grid_auto_columns": null,
            "grid_auto_flow": null,
            "grid_auto_rows": null,
            "grid_column": null,
            "grid_gap": null,
            "grid_row": null,
            "grid_template_areas": null,
            "grid_template_columns": null,
            "grid_template_rows": null,
            "height": null,
            "justify_content": null,
            "justify_items": null,
            "left": null,
            "margin": null,
            "max_height": null,
            "max_width": null,
            "min_height": null,
            "min_width": null,
            "object_fit": null,
            "object_position": null,
            "order": null,
            "overflow": null,
            "overflow_x": null,
            "overflow_y": null,
            "padding": null,
            "right": null,
            "top": null,
            "visibility": null,
            "width": "20px"
          }
        },
        "ec330feb7a7743c48900369a27482aab": {
          "model_module": "@jupyter-widgets/base",
          "model_module_version": "1.2.0",
          "model_name": "LayoutModel",
          "state": {
            "_model_module": "@jupyter-widgets/base",
            "_model_module_version": "1.2.0",
            "_model_name": "LayoutModel",
            "_view_count": null,
            "_view_module": "@jupyter-widgets/base",
            "_view_module_version": "1.2.0",
            "_view_name": "LayoutView",
            "align_content": null,
            "align_items": null,
            "align_self": null,
            "border": null,
            "bottom": null,
            "display": null,
            "flex": null,
            "flex_flow": null,
            "grid_area": null,
            "grid_auto_columns": null,
            "grid_auto_flow": null,
            "grid_auto_rows": null,
            "grid_column": null,
            "grid_gap": null,
            "grid_row": null,
            "grid_template_areas": null,
            "grid_template_columns": null,
            "grid_template_rows": null,
            "height": null,
            "justify_content": null,
            "justify_items": null,
            "left": null,
            "margin": null,
            "max_height": null,
            "max_width": null,
            "min_height": null,
            "min_width": null,
            "object_fit": null,
            "object_position": null,
            "order": null,
            "overflow": null,
            "overflow_x": null,
            "overflow_y": null,
            "padding": null,
            "right": null,
            "top": null,
            "visibility": null,
            "width": null
          }
        },
        "ee952b95ef714c969a1d7d065fa5495e": {
          "model_module": "@jupyter-widgets/controls",
          "model_module_version": "1.5.0",
          "model_name": "HTMLModel",
          "state": {
            "_dom_classes": [],
            "_model_module": "@jupyter-widgets/controls",
            "_model_module_version": "1.5.0",
            "_model_name": "HTMLModel",
            "_view_count": null,
            "_view_module": "@jupyter-widgets/controls",
            "_view_module_version": "1.5.0",
            "_view_name": "HTMLView",
            "description": "",
            "description_tooltip": null,
            "layout": "IPY_MODEL_e798dd5f820842eb80035794fdae69df",
            "placeholder": "​",
            "style": "IPY_MODEL_461747be7f3240759c70c4d899ed56b8",
            "value": "Downloading model.safetensors: 100%"
          }
        },
        "efe4f7e35faf42b28106ba5d2e0923b6": {
          "model_module": "@jupyter-widgets/controls",
          "model_module_version": "1.5.0",
          "model_name": "FloatProgressModel",
          "state": {
            "_dom_classes": [],
            "_model_module": "@jupyter-widgets/controls",
            "_model_module_version": "1.5.0",
            "_model_name": "FloatProgressModel",
            "_view_count": null,
            "_view_module": "@jupyter-widgets/controls",
            "_view_module_version": "1.5.0",
            "_view_name": "ProgressView",
            "bar_style": "success",
            "description": "",
            "description_tooltip": null,
            "layout": "IPY_MODEL_4bd9a2e9f56447479054d47fb1378da0",
            "max": 548105171,
            "min": 0,
            "orientation": "horizontal",
            "style": "IPY_MODEL_09be6a83e0544fddb953bad91ba7cd8f",
            "value": 548105171
          }
        },
        "f08675f0d842469db1ee0f52d47fea04": {
          "model_module": "@jupyter-widgets/controls",
          "model_module_version": "1.5.0",
          "model_name": "HBoxModel",
          "state": {
            "_dom_classes": [],
            "_model_module": "@jupyter-widgets/controls",
            "_model_module_version": "1.5.0",
            "_model_name": "HBoxModel",
            "_view_count": null,
            "_view_module": "@jupyter-widgets/controls",
            "_view_module_version": "1.5.0",
            "_view_name": "HBoxView",
            "box_style": "",
            "children": [
              "IPY_MODEL_37518ee0654146de930b5fbf8172c93f",
              "IPY_MODEL_1643375639bc41309a21a77cb1b2ff38",
              "IPY_MODEL_cca24f9ec075497ba07a1344382bc256"
            ],
            "layout": "IPY_MODEL_0045c02a04294ac788f3160f81127187"
          }
        },
        "f3910a6ac34747138ce2ee75a01de130": {
          "model_module": "@jupyter-widgets/controls",
          "model_module_version": "1.5.0",
          "model_name": "ProgressStyleModel",
          "state": {
            "_model_module": "@jupyter-widgets/controls",
            "_model_module_version": "1.5.0",
            "_model_name": "ProgressStyleModel",
            "_view_count": null,
            "_view_module": "@jupyter-widgets/base",
            "_view_module_version": "1.2.0",
            "_view_name": "StyleView",
            "bar_color": null,
            "description_width": ""
          }
        },
        "f742ad699eae45db81d9e6f3d3824f09": {
          "model_module": "@jupyter-widgets/base",
          "model_module_version": "1.2.0",
          "model_name": "LayoutModel",
          "state": {
            "_model_module": "@jupyter-widgets/base",
            "_model_module_version": "1.2.0",
            "_model_name": "LayoutModel",
            "_view_count": null,
            "_view_module": "@jupyter-widgets/base",
            "_view_module_version": "1.2.0",
            "_view_name": "LayoutView",
            "align_content": null,
            "align_items": null,
            "align_self": null,
            "border": null,
            "bottom": null,
            "display": null,
            "flex": null,
            "flex_flow": null,
            "grid_area": null,
            "grid_auto_columns": null,
            "grid_auto_flow": null,
            "grid_auto_rows": null,
            "grid_column": null,
            "grid_gap": null,
            "grid_row": null,
            "grid_template_areas": null,
            "grid_template_columns": null,
            "grid_template_rows": null,
            "height": null,
            "justify_content": null,
            "justify_items": null,
            "left": null,
            "margin": null,
            "max_height": null,
            "max_width": null,
            "min_height": null,
            "min_width": null,
            "object_fit": null,
            "object_position": null,
            "order": null,
            "overflow": null,
            "overflow_x": null,
            "overflow_y": null,
            "padding": null,
            "right": null,
            "top": null,
            "visibility": null,
            "width": null
          }
        },
        "fa71f93cc04b4a908e1711388304a35e": {
          "model_module": "@jupyter-widgets/controls",
          "model_module_version": "1.5.0",
          "model_name": "DescriptionStyleModel",
          "state": {
            "_model_module": "@jupyter-widgets/controls",
            "_model_module_version": "1.5.0",
            "_model_name": "DescriptionStyleModel",
            "_view_count": null,
            "_view_module": "@jupyter-widgets/base",
            "_view_module_version": "1.2.0",
            "_view_name": "StyleView",
            "description_width": ""
          }
        },
        "fb63c5a412d84670b361ec6c1a46291e": {
          "model_module": "@jupyter-widgets/controls",
          "model_module_version": "1.5.0",
          "model_name": "HTMLModel",
          "state": {
            "_dom_classes": [],
            "_model_module": "@jupyter-widgets/controls",
            "_model_module_version": "1.5.0",
            "_model_name": "HTMLModel",
            "_view_count": null,
            "_view_module": "@jupyter-widgets/controls",
            "_view_module_version": "1.5.0",
            "_view_name": "HTMLView",
            "description": "",
            "description_tooltip": null,
            "layout": "IPY_MODEL_be9a5d830b0942019765c4628cc566b5",
            "placeholder": "​",
            "style": "IPY_MODEL_081a35d1fa09476bad076ea6d7122f92",
            "value": "Downloading (…)neration_config.json: 100%"
          }
        },
        "fd2cfbae3a534371afaf32e9098c19db": {
          "model_module": "@jupyter-widgets/base",
          "model_module_version": "1.2.0",
          "model_name": "LayoutModel",
          "state": {
            "_model_module": "@jupyter-widgets/base",
            "_model_module_version": "1.2.0",
            "_model_name": "LayoutModel",
            "_view_count": null,
            "_view_module": "@jupyter-widgets/base",
            "_view_module_version": "1.2.0",
            "_view_name": "LayoutView",
            "align_content": null,
            "align_items": null,
            "align_self": null,
            "border": null,
            "bottom": null,
            "display": null,
            "flex": null,
            "flex_flow": null,
            "grid_area": null,
            "grid_auto_columns": null,
            "grid_auto_flow": null,
            "grid_auto_rows": null,
            "grid_column": null,
            "grid_gap": null,
            "grid_row": null,
            "grid_template_areas": null,
            "grid_template_columns": null,
            "grid_template_rows": null,
            "height": null,
            "justify_content": null,
            "justify_items": null,
            "left": null,
            "margin": null,
            "max_height": null,
            "max_width": null,
            "min_height": null,
            "min_width": null,
            "object_fit": null,
            "object_position": null,
            "order": null,
            "overflow": null,
            "overflow_x": null,
            "overflow_y": null,
            "padding": null,
            "right": null,
            "top": null,
            "visibility": null,
            "width": null
          }
        }
      }
    }
  },
  "nbformat": 4,
  "nbformat_minor": 0
}
